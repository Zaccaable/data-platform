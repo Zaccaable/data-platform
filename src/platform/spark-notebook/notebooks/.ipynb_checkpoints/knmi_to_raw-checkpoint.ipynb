{
 "cells": [
  {
   "cell_type": "markdown",
   "id": "ef3312b3",
   "metadata": {},
   "source": [
    "# Initiate spark"
   ]
  },
  {
   "cell_type": "code",
   "execution_count": 1,
   "id": "ed6b75e9",
   "metadata": {},
   "outputs": [
    {
     "name": "stderr",
     "output_type": "stream",
     "text": [
      "WARNING: An illegal reflective access operation has occurred\n",
      "WARNING: Illegal reflective access by org.apache.spark.unsafe.Platform (file:/usr/local/spark-3.1.2-bin-hadoop3.2/jars/spark-unsafe_2.12-3.1.2.jar) to constructor java.nio.DirectByteBuffer(long,int)\n",
      "WARNING: Please consider reporting this to the maintainers of org.apache.spark.unsafe.Platform\n",
      "WARNING: Use --illegal-access=warn to enable warnings of further illegal reflective access operations\n",
      "WARNING: All illegal access operations will be denied in a future release\n",
      "21/08/15 17:05:47 WARN NativeCodeLoader: Unable to load native-hadoop library for your platform... using builtin-java classes where applicable\n",
      "Using Spark's default log4j profile: org/apache/spark/log4j-defaults.properties\n",
      "Setting default log level to \"WARN\".\n",
      "To adjust logging level use sc.setLogLevel(newLevel). For SparkR, use setLogLevel(newLevel).\n"
     ]
    }
   ],
   "source": [
    "import os\n",
    "from pyspark import SparkContext, SparkConf, SQLContext\n",
    "from pyspark.sql.types import StructType, StructField, IntegerType, StringType\n",
    "\n",
    "conf = (\n",
    "    SparkConf()\n",
    "    .setAppName(\"Spark minIO Test\")\n",
    "    .set(\"spark.hadoop.fs.s3a.endpoint\", \"http://192.168.86.192:9000\")\n",
    "    .set(\"spark.hadoop.fs.s3a.access.key\", os.getenv('MINIO_ROOT_USER'))\n",
    "    .set(\"spark.hadoop.fs.s3a.secret.key\", os.getenv('MINIO_ROOT_PASSWORD'))\n",
    "    .set(\"spark.hadoop.fs.s3a.path.style.access\", True)\n",
    "    .set(\"spark.hadoop.fs.s3a.impl\", \"org.apache.hadoop.fs.s3a.S3AFileSystem\")\n",
    "#   .set(\"spark.sql.sources.partitionOverwriteMode\", \"dynamic\")\n",
    "    .set(\"spark.driver.memory\", \"8g\")\n",
    ")\n",
    "sc = SparkContext(conf=conf).getOrCreate()\n",
    "sqlContext = SQLContext(sc)"
   ]
  },
  {
   "cell_type": "code",
   "execution_count": 2,
   "id": "2aa4083a",
   "metadata": {},
   "outputs": [],
   "source": [
    "schema = (StructType([\n",
    "    StructField(\"STN\", StringType(), True),\n",
    "    StructField(\"YYYYMMDD\", StringType(), True),\n",
    "    StructField(\"DDVEC\", StringType(), True),\n",
    "    StructField(\"FHVEC\", StringType(), True),\n",
    "    StructField(\"FG\", StringType(), True),\n",
    "    StructField(\"FHX\", StringType(), True),\n",
    "    StructField(\"FHXH\", StringType(), True),\n",
    "    StructField(\"FHN\", StringType(), True),\n",
    "    StructField(\"FHNH\", StringType(), True),\n",
    "    StructField(\"FXX\", StringType(), True),\n",
    "    StructField(\"FXXH\", StringType(), True),\n",
    "    StructField(\"TG\", StringType(), True),\n",
    "    StructField(\"TN\", StringType(), True),\n",
    "    StructField(\"TNH\", StringType(), True),\n",
    "    StructField(\"TX\", StringType(), True),\n",
    "    StructField(\"TXH\", StringType(), True),\n",
    "    StructField(\"T10N\", StringType(), True),\n",
    "    StructField(\"T10NH\", StringType(), True),\n",
    "    StructField(\"SQ\", StringType(), True),\n",
    "    StructField(\"SP\", StringType(), True),\n",
    "    StructField(\"Q\", StringType(), True),\n",
    "    StructField(\"DR\", StringType(), True),\n",
    "    StructField(\"RH\", StringType(), True),\n",
    "    StructField(\"RHX\", StringType(), True),\n",
    "    StructField(\"RHXH\", StringType(), True),\n",
    "    StructField(\"PG\", StringType(), True),\n",
    "    StructField(\"PX\", StringType(), True),\n",
    "    StructField(\"PXH\", StringType(), True),\n",
    "    StructField(\"PN\", StringType(), True),\n",
    "    StructField(\"PNH\", StringType(), True),\n",
    "    StructField(\"VVN\", StringType(), True),\n",
    "    StructField(\"VVNH\", StringType(), True),\n",
    "    StructField(\"VVX\", StringType(), True),\n",
    "    StructField(\"VVXH\", StringType(), True),\n",
    "    StructField(\"NG\", StringType(), True),\n",
    "    StructField(\"UG\", StringType(), True),\n",
    "    StructField(\"UX\", StringType(), True),\n",
    "    StructField(\"UXH\", StringType(), True),\n",
    "    StructField(\"UN\", StringType(), True),\n",
    "    StructField(\"UNH\", StringType(), True),\n",
    "    StructField(\"EV24\", StringType(), True)\n",
    "])\n",
    ")"
   ]
  },
  {
   "cell_type": "code",
   "execution_count": 3,
   "id": "fe41bd53",
   "metadata": {},
   "outputs": [
    {
     "name": "stderr",
     "output_type": "stream",
     "text": [
      "21/08/15 17:05:58 WARN MetricsConfig: Cannot locate configuration: tried hadoop-metrics2-s3a-file-system.properties,hadoop-metrics2.properties\n",
      "                                                                                \r"
     ]
    }
   ],
   "source": [
    "df = sqlContext.read.csv('s3a://landing-knmi/daggegevens/*.csv', header=False, comment='#', schema=schema)"
   ]
  },
  {
   "cell_type": "code",
   "execution_count": 4,
   "id": "5b4e7823",
   "metadata": {},
   "outputs": [
    {
     "name": "stderr",
     "output_type": "stream",
     "text": [
      "21/08/15 17:06:09 WARN package: Truncated the string representation of a plan since it was too large. This behavior can be adjusted by setting 'spark.sql.debug.maxToStringFields'.\n"
     ]
    },
    {
     "name": "stdout",
     "output_type": "stream",
     "text": [
      "+-----+--------+-----+-----+-----+-----+-----+-----+-----+-----+-----+-----+-----+-----+-----+-----+-----+-----+-----+-----+-----+-----+-----+-----+-----+-----+-----+-----+-----+-----+-----+-----+-----+-----+-----+-----+-----+-----+-----+-----+-----+\n",
      "|  STN|YYYYMMDD|DDVEC|FHVEC|   FG|  FHX| FHXH|  FHN| FHNH|  FXX| FXXH|   TG|   TN|  TNH|   TX|  TXH| T10N|T10NH|   SQ|   SP|    Q|   DR|   RH|  RHX| RHXH|   PG|   PX|  PXH|   PN|  PNH|  VVN| VVNH|  VVX| VVXH|   NG|   UG|   UX|  UXH|   UN|  UNH| EV24|\n",
      "+-----+--------+-----+-----+-----+-----+-----+-----+-----+-----+-----+-----+-----+-----+-----+-----+-----+-----+-----+-----+-----+-----+-----+-----+-----+-----+-----+-----+-----+-----+-----+-----+-----+-----+-----+-----+-----+-----+-----+-----+-----+\n",
      "|  209|20051206|  237|   34|   51|   80|   24|   30|   11|  110|   24|     |     |     |     |     |     |     |     |     |     |     |     |     |     |     |     |     |     |     |     |     |     |     |     |     |     |     |     |     |     |\n",
      "|  209|20051207|  289|   73|   80|  110|   10|   40|   23|  140|    8|     |     |     |     |     |     |     |     |     |     |     |     |     |     |     |     |     |     |     |     |     |     |     |     |     |     |     |     |     |     |\n",
      "|  209|20051208|   78|   28|   44|   70|    1|   20|   11|  100|   18|     |     |     |     |     |     |     |     |     |     |     |     |     |     |     |     |     |     |     |     |     |     |     |     |     |     |     |     |     |     |\n",
      "|  209|20051209|   95|   22|   33|   60|    6|   10|   13|   70|    6|     |     |     |     |     |     |     |     |     |     |     |     |     |     |     |     |     |     |     |     |     |     |     |     |     |     |     |     |     |     |\n",
      "|  209|20051210|  197|   59|   63|   90|   24|   30|    5|  100|   13|     |     |     |     |     |     |     |     |     |     |     |     |     |     |     |     |     |     |     |     |     |     |     |     |     |     |     |     |     |     |\n",
      "|  209|20051211|  234|   59|   61|   90|    1|   40|   22|  110|    2|     |     |     |     |     |     |     |     |     |     |     |     |     |     |     |     |     |     |     |     |     |     |     |     |     |     |     |     |     |     |\n",
      "|  209|20051212|    7|   58|   65|   90|    7|   30|    1|  120|   13|     |     |     |     |     |     |     |     |     |     |     |     |     |     |     |     |     |     |     |     |     |     |     |     |     |     |     |     |     |     |\n",
      "|  209|20051213|  319|   58|   67|   90|   17|   40|    1|  110|    7|     |     |     |     |     |     |     |     |     |     |     |     |     |     |     |     |     |     |     |     |     |     |     |     |     |     |     |     |     |     |\n",
      "|  209|20051214|  328|   75|   81|  100|   10|   60|   17|  140|    8|     |     |     |     |     |     |     |     |     |     |     |     |     |     |     |     |     |     |     |     |     |     |     |     |     |     |     |     |     |     |\n",
      "|  209|20051215|  283|  105|  109|  120|    4|   80|    1|  150|    3|     |     |     |     |     |     |     |     |     |     |     |     |     |     |     |     |     |     |     |     |     |     |     |     |     |     |     |     |     |     |\n",
      "+-----+--------+-----+-----+-----+-----+-----+-----+-----+-----+-----+-----+-----+-----+-----+-----+-----+-----+-----+-----+-----+-----+-----+-----+-----+-----+-----+-----+-----+-----+-----+-----+-----+-----+-----+-----+-----+-----+-----+-----+-----+\n",
      "only showing top 10 rows\n",
      "\n"
     ]
    },
    {
     "name": "stderr",
     "output_type": "stream",
     "text": [
      "\r",
      "[Stage 1:>                                                          (0 + 1) / 1]\r",
      "\r",
      "                                                                                \r"
     ]
    }
   ],
   "source": [
    "df.show(10)"
   ]
  },
  {
   "cell_type": "code",
   "execution_count": 5,
   "id": "e02df170",
   "metadata": {},
   "outputs": [],
   "source": [
    "df.createOrReplaceTempView('daggegevens')"
   ]
  },
  {
   "cell_type": "code",
   "execution_count": 6,
   "id": "0cce2d9e",
   "metadata": {},
   "outputs": [
    {
     "name": "stderr",
     "output_type": "stream",
     "text": [
      "[Stage 2:=======================================================> (60 + 2) / 62]\r"
     ]
    },
    {
     "name": "stdout",
     "output_type": "stream",
     "text": [
      "+-----------------+--------+\n",
      "|left(YYYYMMDD, 4)|count(1)|\n",
      "+-----------------+--------+\n",
      "|             2021|   21009|\n",
      "|             2020|   35109|\n",
      "|             2019|   35062|\n",
      "|             2018|   35062|\n",
      "|             2017|   34306|\n",
      "|             2016|   35114|\n",
      "|             2015|   35760|\n",
      "|             2014|   35473|\n",
      "|             2013|   35808|\n",
      "|             2012|   35856|\n",
      "+-----------------+--------+\n",
      "\n"
     ]
    },
    {
     "name": "stderr",
     "output_type": "stream",
     "text": [
      "\r",
      "                                                                                \r"
     ]
    }
   ],
   "source": [
    "query = \"\"\"\n",
    "    select left(YYYYMMDD,4), count(*)\n",
    "    from daggegevens\n",
    "    group by left(YYYYMMDD,4)\n",
    "    order by left(YYYYMMDD,4) desc\n",
    "    limit 10\n",
    "\n",
    "\"\"\"\n",
    "\n",
    "sqlContext.sql(query).show()"
   ]
  },
  {
   "cell_type": "code",
   "execution_count": null,
   "id": "8f1ff8da",
   "metadata": {},
   "outputs": [
    {
     "name": "stderr",
     "output_type": "stream",
     "text": [
      "[Stage 5:>                  (0 + 1) / 1][Stage 7:>                  (0 + 1) / 1]\r"
     ]
    }
   ],
   "source": [
    "df.coalesce(1).write.partitionBy(\"YYYYMMDD\").mode(\"overwrite\").format(\"parquet\").save('s3a://test-bucket/test-knmi-dag-perdag2')"
   ]
  },
  {
   "cell_type": "code",
   "execution_count": null,
   "id": "027b16b4",
   "metadata": {},
   "outputs": [],
   "source": []
  }
 ],
 "metadata": {
  "kernelspec": {
   "display_name": "Python 3 (ipykernel)",
   "language": "python",
   "name": "python3"
  },
  "language_info": {
   "codemirror_mode": {
    "name": "ipython",
    "version": 3
   },
   "file_extension": ".py",
   "mimetype": "text/x-python",
   "name": "python",
   "nbconvert_exporter": "python",
   "pygments_lexer": "ipython3",
   "version": "3.9.6"
  }
 },
 "nbformat": 4,
 "nbformat_minor": 5
}
