{
 "cells": [
  {
   "cell_type": "markdown",
   "id": "ef3312b3",
   "metadata": {},
   "source": [
    "# Initiate spark"
   ]
  },
  {
   "cell_type": "code",
   "execution_count": 18,
   "id": "ed6b75e9",
   "metadata": {},
   "outputs": [],
   "source": [
    "import os\n",
    "from pyspark import SparkContext, SparkConf, SQLContext\n",
    "from pyspark.sql import SparkSession \n",
    "from pyspark.sql.types import StructType, StructField, IntegerType, StringType\n",
    "\n",
    "conf = (\n",
    "    SparkConf()\n",
    "    .setAppName(\"Spark minIO Test\")\n",
    "    .set(\"spark.hadoop.fs.s3a.endpoint\", \"http://192.168.86.192:9000\")\n",
    "    .set(\"spark.hadoop.fs.s3a.access.key\", os.getenv('MINIO_ROOT_USER'))\n",
    "    .set(\"spark.hadoop.fs.s3a.secret.key\", os.getenv('MINIO_ROOT_PASSWORD'))\n",
    "    .set(\"spark.hadoop.fs.s3a.path.style.access\", True)\n",
    "    .set(\"spark.hadoop.fs.s3a.impl\", \"org.apache.hadoop.fs.s3a.S3AFileSystem\")\n",
    "    .set(\"spark.driver.memory\", \"8g\")\n",
    ")\n",
    "#sc = SparkContext(conf=conf).getOrCreate()\n",
    "#sqlContext = SQLContext(sc)\n",
    "spark = SparkSession(sc).builder.getOrCreate()"
   ]
  },
  {
   "cell_type": "code",
   "execution_count": 19,
   "id": "2aa4083a",
   "metadata": {},
   "outputs": [],
   "source": [
    "schema = (StructType([\n",
    "    StructField(\"STN\", StringType(), True),\n",
    "    StructField(\"YYYYMMDD\", StringType(), True),\n",
    "    StructField(\"DDVEC\", StringType(), True),\n",
    "    StructField(\"FHVEC\", StringType(), True),\n",
    "    StructField(\"FG\", StringType(), True),\n",
    "    StructField(\"FHX\", StringType(), True),\n",
    "    StructField(\"FHXH\", StringType(), True),\n",
    "    StructField(\"FHN\", StringType(), True),\n",
    "    StructField(\"FHNH\", StringType(), True),\n",
    "    StructField(\"FXX\", StringType(), True),\n",
    "    StructField(\"FXXH\", StringType(), True),\n",
    "    StructField(\"TG\", StringType(), True),\n",
    "    StructField(\"TN\", StringType(), True),\n",
    "    StructField(\"TNH\", StringType(), True),\n",
    "    StructField(\"TX\", StringType(), True),\n",
    "    StructField(\"TXH\", StringType(), True),\n",
    "    StructField(\"T10N\", StringType(), True),\n",
    "    StructField(\"T10NH\", StringType(), True),\n",
    "    StructField(\"SQ\", StringType(), True),\n",
    "    StructField(\"SP\", StringType(), True),\n",
    "    StructField(\"Q\", StringType(), True),\n",
    "    StructField(\"DR\", StringType(), True),\n",
    "    StructField(\"RH\", StringType(), True),\n",
    "    StructField(\"RHX\", StringType(), True),\n",
    "    StructField(\"RHXH\", StringType(), True),\n",
    "    StructField(\"PG\", StringType(), True),\n",
    "    StructField(\"PX\", StringType(), True),\n",
    "    StructField(\"PXH\", StringType(), True),\n",
    "    StructField(\"PN\", StringType(), True),\n",
    "    StructField(\"PNH\", StringType(), True),\n",
    "    StructField(\"VVN\", StringType(), True),\n",
    "    StructField(\"VVNH\", StringType(), True),\n",
    "    StructField(\"VVX\", StringType(), True),\n",
    "    StructField(\"VVXH\", StringType(), True),\n",
    "    StructField(\"NG\", StringType(), True),\n",
    "    StructField(\"UG\", StringType(), True),\n",
    "    StructField(\"UX\", StringType(), True),\n",
    "    StructField(\"UXH\", StringType(), True),\n",
    "    StructField(\"UN\", StringType(), True),\n",
    "    StructField(\"UNH\", StringType(), True),\n",
    "    StructField(\"EV24\", StringType(), True)\n",
    "])\n",
    ")"
   ]
  },
  {
   "cell_type": "code",
   "execution_count": 20,
   "id": "3cf78003",
   "metadata": {},
   "outputs": [
    {
     "name": "stdout",
     "output_type": "stream",
     "text": [
      "minio\n"
     ]
    }
   ],
   "source": [
    "print(os.getenv('MINIO_ROOT_USER'))"
   ]
  },
  {
   "cell_type": "code",
   "execution_count": 34,
   "id": "fe41bd53",
   "metadata": {},
   "outputs": [],
   "source": [
    "df = spark.read.csv('s3a://landing-knmi/daggegevens/2021*.csv', header=False, comment='#', schema=schema)"
   ]
  },
  {
   "cell_type": "code",
   "execution_count": 35,
   "id": "5b4e7823",
   "metadata": {},
   "outputs": [
    {
     "name": "stdout",
     "output_type": "stream",
     "text": [
      "+-----+--------+-----+-----+-----+-----+-----+-----+-----+-----+-----+-----+-----+-----+-----+-----+-----+-----+-----+-----+-----+-----+-----+-----+-----+-----+-----+-----+-----+-----+-----+-----+-----+-----+-----+-----+-----+-----+-----+-----+-----+\n",
      "|  STN|YYYYMMDD|DDVEC|FHVEC|   FG|  FHX| FHXH|  FHN| FHNH|  FXX| FXXH|   TG|   TN|  TNH|   TX|  TXH| T10N|T10NH|   SQ|   SP|    Q|   DR|   RH|  RHX| RHXH|   PG|   PX|  PXH|   PN|  PNH|  VVN| VVNH|  VVX| VVXH|   NG|   UG|   UX|  UXH|   UN|  UNH| EV24|\n",
      "+-----+--------+-----+-----+-----+-----+-----+-----+-----+-----+-----+-----+-----+-----+-----+-----+-----+-----+-----+-----+-----+-----+-----+-----+-----+-----+-----+-----+-----+-----+-----+-----+-----+-----+-----+-----+-----+-----+-----+-----+-----+\n",
      "|  209|20210105|   60|   84|   84|  100|    1|   70|   23|  140|    7|     |     |     |     |     |     |     |     |     |     |     |     |     |     |     |     |     |     |     |     |     |     |     |     |     |     |     |     |     |     |\n",
      "|  209|20210106|   50|   47|   48|  100|    2|   20|   21|  130|    2|     |     |     |     |     |     |     |     |     |     |     |     |     |     |     |     |     |     |     |     |     |     |     |     |     |     |     |     |     |     |\n",
      "|  209|20210107|  355|   79|   82|  110|   13|   10|    1|  150|   21|     |     |     |     |     |     |     |     |     |     |     |     |     |     |     |     |     |     |     |     |     |     |     |     |     |     |     |     |     |     |\n",
      "|  209|20210108|   19|   27|   31|   50|    3|   20|   13|   80|    3|     |     |     |     |     |     |     |     |     |     |     |     |     |     |     |     |     |     |     |     |     |     |     |     |     |     |     |     |     |     |\n",
      "|  209|20210109|  340|   49|   52|   70|   15|   10|    4|  120|   10|     |     |     |     |     |     |     |     |     |     |     |     |     |     |     |     |     |     |     |     |     |     |     |     |     |     |     |     |     |     |\n",
      "|  209|20210110|  270|   68|   70|   90|   24|   60|    1|  110|   24|     |     |     |     |     |     |     |     |     |     |     |     |     |     |     |     |     |     |     |     |     |     |     |     |     |     |     |     |     |     |\n",
      "|  209|20210111|  252|  113|  114|  130|   16|   90|    4|  180|   18|     |     |     |     |     |     |     |     |     |     |     |     |     |     |     |     |     |     |     |     |     |     |     |     |     |     |     |     |     |     |\n",
      "|  209|20210112|  322|   83|   95|  130|    2|   70|    8|  160|    2|     |     |     |     |     |     |     |     |     |     |     |     |     |     |     |     |     |     |     |     |     |     |     |     |     |     |     |     |     |     |\n",
      "|  209|20210113|  313|   83|   95|  130|    4|   40|   24|  170|    3|     |     |     |     |     |     |     |     |     |     |     |     |     |     |     |     |     |     |     |     |     |     |     |     |     |     |     |     |     |     |\n",
      "|  209|20210114|   89|   60|   64|  100|   17|   30|    4|  130|   18|     |     |     |     |     |     |     |     |     |     |     |     |     |     |     |     |     |     |     |     |     |     |     |     |     |     |     |     |     |     |\n",
      "+-----+--------+-----+-----+-----+-----+-----+-----+-----+-----+-----+-----+-----+-----+-----+-----+-----+-----+-----+-----+-----+-----+-----+-----+-----+-----+-----+-----+-----+-----+-----+-----+-----+-----+-----+-----+-----+-----+-----+-----+-----+\n",
      "only showing top 10 rows\n",
      "\n"
     ]
    }
   ],
   "source": [
    "df.show(10)"
   ]
  },
  {
   "cell_type": "code",
   "execution_count": 36,
   "id": "e02df170",
   "metadata": {},
   "outputs": [],
   "source": [
    "df.createOrReplaceTempView('daggegevens')"
   ]
  },
  {
   "cell_type": "code",
   "execution_count": 37,
   "id": "0cce2d9e",
   "metadata": {},
   "outputs": [
    {
     "name": "stdout",
     "output_type": "stream",
     "text": [
      "+-----------------+--------+\n",
      "|left(YYYYMMDD, 4)|count(1)|\n",
      "+-----------------+--------+\n",
      "|             2021|   10481|\n",
      "+-----------------+--------+\n",
      "\n"
     ]
    }
   ],
   "source": [
    "query = \"\"\"\n",
    "    select left(YYYYMMDD,4), count(*)\n",
    "    from daggegevens\n",
    "    group by left(YYYYMMDD,4)\n",
    "    order by left(YYYYMMDD,4) desc\n",
    "    limit 10\n",
    "\n",
    "\"\"\"\n",
    "\n",
    "sqlContext.sql(query).show()"
   ]
  },
  {
   "cell_type": "code",
   "execution_count": 41,
   "id": "8f1ff8da",
   "metadata": {},
   "outputs": [
    {
     "name": "stderr",
     "output_type": "stream",
     "text": [
      "                                                                                \r"
     ]
    }
   ],
   "source": [
    "#df.coalesce(1).write.partitionBy(\"YYYYMMDD\").mode(\"overwrite\").format(\"parquet\").save('s3a://test-bucket/test-knmi-dag-perdag2')\n",
    "df.coalesce(1).write.partitionBy(\"YYYYMMDD\").format(\"delta\").mode(\"overwrite\").save('s3a://test-delta/knmidelta')"
   ]
  },
  {
   "cell_type": "code",
   "execution_count": 10,
   "id": "027b16b4",
   "metadata": {},
   "outputs": [
    {
     "name": "stdout",
     "output_type": "stream",
     "text": [
      "+-----+--------+-----+-----+-----+-----+-----+-----+-----+-----+-----+-----+-----+-----+-----+-----+-----+-----+-----+-----+-----+-----+-----+-----+-----+-----+-----+-----+-----+-----+-----+-----+-----+-----+-----+-----+-----+-----+-----+-----+-----+\n",
      "|  STN|YYYYMMDD|DDVEC|FHVEC|   FG|  FHX| FHXH|  FHN| FHNH|  FXX| FXXH|   TG|   TN|  TNH|   TX|  TXH| T10N|T10NH|   SQ|   SP|    Q|   DR|   RH|  RHX| RHXH|   PG|   PX|  PXH|   PN|  PNH|  VVN| VVNH|  VVX| VVXH|   NG|   UG|   UX|  UXH|   UN|  UNH| EV24|\n",
      "+-----+--------+-----+-----+-----+-----+-----+-----+-----+-----+-----+-----+-----+-----+-----+-----+-----+-----+-----+-----+-----+-----+-----+-----+-----+-----+-----+-----+-----+-----+-----+-----+-----+-----+-----+-----+-----+-----+-----+-----+-----+\n",
      "|  209|20051206|  237|   34|   51|   80|   24|   30|   11|  110|   24|     |     |     |     |     |     |     |     |     |     |     |     |     |     |     |     |     |     |     |     |     |     |     |     |     |     |     |     |     |     |\n",
      "|  209|20051207|  289|   73|   80|  110|   10|   40|   23|  140|    8|     |     |     |     |     |     |     |     |     |     |     |     |     |     |     |     |     |     |     |     |     |     |     |     |     |     |     |     |     |     |\n",
      "|  209|20051208|   78|   28|   44|   70|    1|   20|   11|  100|   18|     |     |     |     |     |     |     |     |     |     |     |     |     |     |     |     |     |     |     |     |     |     |     |     |     |     |     |     |     |     |\n",
      "|  209|20051209|   95|   22|   33|   60|    6|   10|   13|   70|    6|     |     |     |     |     |     |     |     |     |     |     |     |     |     |     |     |     |     |     |     |     |     |     |     |     |     |     |     |     |     |\n",
      "|  209|20051210|  197|   59|   63|   90|   24|   30|    5|  100|   13|     |     |     |     |     |     |     |     |     |     |     |     |     |     |     |     |     |     |     |     |     |     |     |     |     |     |     |     |     |     |\n",
      "|  209|20051211|  234|   59|   61|   90|    1|   40|   22|  110|    2|     |     |     |     |     |     |     |     |     |     |     |     |     |     |     |     |     |     |     |     |     |     |     |     |     |     |     |     |     |     |\n",
      "|  209|20051212|    7|   58|   65|   90|    7|   30|    1|  120|   13|     |     |     |     |     |     |     |     |     |     |     |     |     |     |     |     |     |     |     |     |     |     |     |     |     |     |     |     |     |     |\n",
      "|  209|20051213|  319|   58|   67|   90|   17|   40|    1|  110|    7|     |     |     |     |     |     |     |     |     |     |     |     |     |     |     |     |     |     |     |     |     |     |     |     |     |     |     |     |     |     |\n",
      "|  209|20051214|  328|   75|   81|  100|   10|   60|   17|  140|    8|     |     |     |     |     |     |     |     |     |     |     |     |     |     |     |     |     |     |     |     |     |     |     |     |     |     |     |     |     |     |\n",
      "|  209|20051215|  283|  105|  109|  120|    4|   80|    1|  150|    3|     |     |     |     |     |     |     |     |     |     |     |     |     |     |     |     |     |     |     |     |     |     |     |     |     |     |     |     |     |     |\n",
      "|  209|20051216|  311|  142|  154|  180|    9|  130|    1|  240|    8|     |     |     |     |     |     |     |     |     |     |     |     |     |     |     |     |     |     |     |     |     |     |     |     |     |     |     |     |     |     |\n",
      "|  209|20051217|  328|  134|  137|  170|   12|   90|   21|  260|    8|     |     |     |     |     |     |     |     |     |     |     |     |     |     |     |     |     |     |     |     |     |     |     |     |     |     |     |     |     |     |\n",
      "|  209|20051218|  286|   67|   87|  110|   23|   60|   15|  170|    1|     |     |     |     |     |     |     |     |     |     |     |     |     |     |     |     |     |     |     |     |     |     |     |     |     |     |     |     |     |     |\n",
      "|  209|20051219|  280|   64|   88|  140|    4|   60|   18|  180|    5|     |     |     |     |     |     |     |     |     |     |     |     |     |     |     |     |     |     |     |     |     |     |     |     |     |     |     |     |     |     |\n",
      "|  209|20051220|  273|   66|   67|  100|   11|   30|   22|  140|   11|     |     |     |     |     |     |     |     |     |     |     |     |     |     |     |     |     |     |     |     |     |     |     |     |     |     |     |     |     |     |\n",
      "|  209|20051221|  221|   68|   74|  100|   16|   20|    1|  130|   17|     |     |     |     |     |     |     |     |     |     |     |     |     |     |     |     |     |     |     |     |     |     |     |     |     |     |     |     |     |     |\n",
      "|  209|20051222|  264|   51|   53|   80|   22|   30|   16|   90|   22|     |     |     |     |     |     |     |     |     |     |     |     |     |     |     |     |     |     |     |     |     |     |     |     |     |     |     |     |     |     |\n",
      "|  209|20051223|  248|   68|   69|   80|   20|   60|    6|  100|   23|     |     |     |     |     |     |     |     |     |     |     |     |     |     |     |     |     |     |     |     |     |     |     |     |     |     |     |     |     |     |\n",
      "|  209|20051224|  287|   54|   56|   70|    1|   50|    3|  100|    1|     |     |     |     |     |     |     |     |     |     |     |     |     |     |     |     |     |     |     |     |     |     |     |     |     |     |     |     |     |     |\n",
      "|  209|20051225|  356|   66|   70|   90|    9|   40|   12|  140|   24|     |     |     |     |     |     |     |     |     |     |     |     |     |     |     |     |     |     |     |     |     |     |     |     |     |     |     |     |     |     |\n",
      "+-----+--------+-----+-----+-----+-----+-----+-----+-----+-----+-----+-----+-----+-----+-----+-----+-----+-----+-----+-----+-----+-----+-----+-----+-----+-----+-----+-----+-----+-----+-----+-----+-----+-----+-----+-----+-----+-----+-----+-----+-----+\n",
      "only showing top 20 rows\n",
      "\n"
     ]
    }
   ],
   "source": [
    "df.show()"
   ]
  },
  {
   "cell_type": "code",
   "execution_count": 25,
   "id": "c15d3d7f",
   "metadata": {},
   "outputs": [],
   "source": [
    "from delta.tables import DeltaTable"
   ]
  },
  {
   "cell_type": "code",
   "execution_count": 26,
   "id": "8d3fd578",
   "metadata": {},
   "outputs": [],
   "source": [
    "test_knmi = DeltaTable.forPath(spark, 's3a://test-bucket/test-knmi-dag-delta')"
   ]
  },
  {
   "cell_type": "code",
   "execution_count": 28,
   "id": "6e2d9a06",
   "metadata": {},
   "outputs": [
    {
     "data": {
      "text/plain": [
       "<delta.tables.DeltaTableBuilder at 0x7f4d10520790>"
      ]
     },
     "execution_count": 28,
     "metadata": {},
     "output_type": "execute_result"
    }
   ],
   "source": [
    "test_knmi.create()"
   ]
  },
  {
   "cell_type": "code",
   "execution_count": 43,
   "id": "0f21bee0",
   "metadata": {},
   "outputs": [
    {
     "data": {
      "text/plain": [
       "DataFrame[]"
      ]
     },
     "execution_count": 43,
     "metadata": {},
     "output_type": "execute_result"
    }
   ],
   "source": [
    "spark.sql(f\"\"\"\n",
    "DROP TABLE IF EXISTS test_knmi\n",
    "\"\"\")\n",
    "\n",
    "spark.sql(f\"\"\"\n",
    "CREATE TABLE test_knmi\n",
    "USING DELTA\n",
    "LOCATION \"s3a://test-bucket/test-knmi-dag-delta\"\n",
    "\"\"\")"
   ]
  },
  {
   "cell_type": "code",
   "execution_count": 44,
   "id": "e62783ef",
   "metadata": {},
   "outputs": [
    {
     "name": "stdout",
     "output_type": "stream",
     "text": [
      "+--------+--------+\n",
      "|YYYYMMDD|count(1)|\n",
      "+--------+--------+\n",
      "|20210807|      47|\n",
      "|20210806|     141|\n",
      "|20210805|      94|\n",
      "|20210804|      94|\n",
      "|20210803|      94|\n",
      "|20210802|      94|\n",
      "|20210801|      94|\n",
      "|20210731|      94|\n",
      "|20210730|      94|\n",
      "|20210729|      94|\n",
      "+--------+--------+\n",
      "\n"
     ]
    }
   ],
   "source": [
    "spark.sql(\"select YYYYMMDD, count(*) from test_knmi group by YYYYMMDD order by YYYYMMDD desc limit 10\").show()"
   ]
  },
  {
   "cell_type": "code",
   "execution_count": null,
   "id": "4d5c535d",
   "metadata": {},
   "outputs": [],
   "source": []
  }
 ],
 "metadata": {
  "kernelspec": {
   "display_name": "Python 3 (ipykernel)",
   "language": "python",
   "name": "python3"
  },
  "language_info": {
   "codemirror_mode": {
    "name": "ipython",
    "version": 3
   },
   "file_extension": ".py",
   "mimetype": "text/x-python",
   "name": "python",
   "nbconvert_exporter": "python",
   "pygments_lexer": "ipython3",
   "version": "3.9.6"
  }
 },
 "nbformat": 4,
 "nbformat_minor": 5
}
