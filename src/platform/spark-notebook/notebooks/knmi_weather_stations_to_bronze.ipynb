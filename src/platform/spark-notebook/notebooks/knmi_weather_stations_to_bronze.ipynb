{
 "cells": [
  {
   "cell_type": "code",
   "execution_count": 2,
   "id": "694eec1a",
   "metadata": {},
   "outputs": [
    {
     "name": "stderr",
     "output_type": "stream",
     "text": [
      "WARNING: An illegal reflective access operation has occurred\n",
      "WARNING: Illegal reflective access by org.apache.spark.unsafe.Platform (file:/usr/local/spark-3.1.2-bin-hadoop3.2/jars/spark-unsafe_2.12-3.1.2.jar) to constructor java.nio.DirectByteBuffer(long,int)\n",
      "WARNING: Please consider reporting this to the maintainers of org.apache.spark.unsafe.Platform\n",
      "WARNING: Use --illegal-access=warn to enable warnings of further illegal reflective access operations\n",
      "WARNING: All illegal access operations will be denied in a future release\n",
      "21/08/24 18:00:10 WARN NativeCodeLoader: Unable to load native-hadoop library for your platform... using builtin-java classes where applicable\n",
      "Using Spark's default log4j profile: org/apache/spark/log4j-defaults.properties\n",
      "Setting default log level to \"WARN\".\n",
      "To adjust logging level use sc.setLogLevel(newLevel). For SparkR, use setLogLevel(newLevel).\n",
      "21/08/24 18:00:11 WARN Utils: Service 'SparkUI' could not bind on port 4040. Attempting port 4041.\n",
      "21/08/24 18:00:11 WARN Utils: Service 'SparkUI' could not bind on port 4041. Attempting port 4042.\n"
     ]
    }
   ],
   "source": [
    "import os\n",
    "from pyspark import SparkContext, SparkConf, SQLContext\n",
    "from pyspark.sql import SparkSession \n",
    "from pyspark.sql.types import StructType, StructField, IntegerType, StringType\n",
    "from pyspark.sql.functions import col\n",
    "\n",
    "conf = (\n",
    "    SparkConf()\n",
    "    .setAppName(\"Spark minIO Test\")\n",
    "    .set(\"spark.hadoop.fs.s3a.endpoint\", \"http://192.168.86.192:9000\")\n",
    "    .set(\"spark.hadoop.fs.s3a.access.key\", os.getenv('MINIO_ROOT_USER'))\n",
    "    .set(\"spark.hadoop.fs.s3a.secret.key\", os.getenv('MINIO_ROOT_PASSWORD'))\n",
    "    .set(\"spark.hadoop.fs.s3a.path.style.access\", True)\n",
    "    .set(\"spark.hadoop.fs.s3a.impl\", \"org.apache.hadoop.fs.s3a.S3AFileSystem\")\n",
    "    .set(\"spark.driver.memory\", \"8g\")\n",
    "    .set(\"spark.executor.memory\", \"8g\")\n",
    "    .set(\"spark.delta.logStore.class\", \"org.apache.spark.sql.delta.storage.S3SingleDriverLogStore\") \n",
    "    .set(\"spark.sql.extensions\", \"io.delta.sql.DeltaSparkSessionExtension\") \n",
    "    .set(\"spark.sql.catalog.spark_catalog\", \"org.apache.spark.sql.delta.catalog.DeltaCatalog\") \n",
    ")\n",
    "sc = SparkContext(conf=conf).getOrCreate()\n",
    "#sqlContext = SQLContext(sc)\n",
    "spark = SparkSession(sc).builder.getOrCreate()"
   ]
  },
  {
   "cell_type": "code",
   "execution_count": 11,
   "id": "be233fa4",
   "metadata": {},
   "outputs": [],
   "source": [
    "weather_stations_file = sc.textFile('s3a://landing-knmi/weather_stations/*')"
   ]
  },
  {
   "cell_type": "code",
   "execution_count": 12,
   "id": "0d43deac",
   "metadata": {},
   "outputs": [
    {
     "data": {
      "text/plain": [
       "['# Opmerking: door stationsverplaatsingen en veranderingen in waarneemmethodieken zijn deze tijdreeksen van uurwaarden mogelijk inhomogeen! Dat betekent dat deze reeks van gemeten waarden niet geschikt is voor trendanalyse. Voor studies naar klimaatverandering verwijzen we naar de gehomogeniseerde dagreeksen <http://www.knmi.nl/nederland-nu/klimatologie/daggegevens> of de Centraal Nederland Temperatuur <http://www.knmi.nl/kennis-en-datacentrum/achtergrond/centraal-nederland-temperatuur-cnt>.',\n",
       " '# ',\n",
       " '# SOURCE: ROYAL NETHERLANDS METEOROLOGICAL INSTITUTE (KNMI)',\n",
       " '# Comment: These time series are inhomogeneous because of station relocations and changes in observation techniques. As a result these series are not suitable for trend analysis. For climate change studies we refer to the homogenized series of daily data <http://www.knmi.nl/nederland-nu/klimatologie/daggegevens> or the Central Netherlands Temperature <http://www.knmi.nl/kennis-en-datacentrum/achtergrond/centraal-nederland-temperatuur-cnt>.',\n",
       " '# ',\n",
       " '# STN         LON(east)   LAT(north)  ALT(m)      NAME',\n",
       " '# 209         4.518       52.465      0.00        IJmond      ',\n",
       " '# 210         4.430       52.171      -0.20       Valkenburg Zh',\n",
       " '# 215         4.437       52.141      -1.10       Voorschoten ',\n",
       " '# 225         4.555       52.463      4.40        IJmuiden    ',\n",
       " '# 235         4.781       52.928      1.20        De Kooy     ',\n",
       " '# 240         4.790       52.318      -3.30       Schiphol    ',\n",
       " '# 242         4.921       53.241      10.80       Vlieland    ',\n",
       " '# 248         5.174       52.634      0.80        Wijdenes    ',\n",
       " '# 249         4.979       52.644      -2.40       Berkhout    ',\n",
       " '# 251         5.346       53.392      0.70        Hoorn Terschelling',\n",
       " '# 257         4.603       52.506      8.50        Wijk aan Zee',\n",
       " '# 258         5.401       52.649      7.30        Houtribdijk ',\n",
       " '# 260         5.180       52.100      1.90        De Bilt     ',\n",
       " '# 265         5.274       52.130      13.90       Soesterberg ',\n",
       " '# 267         5.384       52.898      -1.30       Stavoren    ',\n",
       " '# 269         5.520       52.458      -3.70       Lelystad    ',\n",
       " '# 270         5.752       53.224      1.20        Leeuwarden  ',\n",
       " '# 273         5.888       52.703      -3.30       Marknesse   ',\n",
       " '# 275         5.873       52.056      48.20       Deelen      ',\n",
       " '# 277         6.200       53.413      2.90        Lauwersoog  ',\n",
       " '# 278         6.259       52.435      3.60        Heino       ',\n",
       " '# 279         6.574       52.750      15.80       Hoogeveen   ',\n",
       " '# 280         6.585       53.125      5.20        Eelde       ',\n",
       " '# 283         6.657       52.069      29.10       Hupsel      ',\n",
       " '# 285         6.399       53.575      0.00        Huibertgat  ',\n",
       " '# 286         7.150       53.196      -0.20       Nieuw Beerta',\n",
       " '# 290         6.891       52.274      34.80       Twenthe     ',\n",
       " '# 308         3.379       51.381      0.00        Cadzand     ',\n",
       " '# 310         3.596       51.442      8.00        Vlissingen  ',\n",
       " '# 311         3.672       51.379      0.00        Hoofdplaat  ',\n",
       " '# 312         3.622       51.768      0.00        Oosterschelde',\n",
       " '# 313         3.242       51.505      0.00        Vlakte van De Raan',\n",
       " '# 315         3.998       51.447      0.00        Hansweert   ',\n",
       " '# 316         3.694       51.657      0.00        Schaar      ',\n",
       " '# 319         3.861       51.226      1.70        Westdorpe   ',\n",
       " '# 323         3.884       51.527      1.40        Wilhelminadorp',\n",
       " '# 324         4.006       51.596      0.00        Stavenisse  ',\n",
       " '# 330         4.122       51.992      11.90       Hoek van Holland',\n",
       " '# 331         4.193       51.480      0.00        Tholen      ',\n",
       " '# 340         4.342       51.449      19.20       Woensdrecht ',\n",
       " '# 343         4.313       51.893      3.50        Rotterdam Geulhaven',\n",
       " '# 344         4.447       51.962      -4.30       Rotterdam   ',\n",
       " '# 348         4.926       51.970      -0.70       Cabauw Mast ',\n",
       " '# 350         4.936       51.566      14.90       Gilze-Rijen ']"
      ]
     },
     "execution_count": 12,
     "metadata": {},
     "output_type": "execute_result"
    }
   ],
   "source": [
    "weather_stations_file.take(50)"
   ]
  },
  {
   "cell_type": "code",
   "execution_count": 104,
   "id": "557e5bcb",
   "metadata": {},
   "outputs": [],
   "source": [
    "import re\n",
    "weather_stations = weather_stations_file.filter(lambda x: x.startswith('# STN         ') or re.match('# \\d\\d\\d', x)).map(lambda x: x.replace('# ', ''))"
   ]
  },
  {
   "cell_type": "code",
   "execution_count": 105,
   "id": "26532aed",
   "metadata": {},
   "outputs": [
    {
     "data": {
      "text/plain": [
       "['STN         LON(east)   LAT(north)  ALT(m)      NAME',\n",
       " '209         4.518       52.465      0.00        IJmond',\n",
       " '210         4.430       52.171      -0.20       Valkenburg Zh',\n",
       " '215         4.437       52.141      -1.10       Voorschoten',\n",
       " '225         4.555       52.463      4.40        IJmuiden']"
      ]
     },
     "execution_count": 105,
     "metadata": {},
     "output_type": "execute_result"
    }
   ],
   "source": [
    "from pyspark.sql.functions import trim\n",
    "weather_stations.map(lambda x: x.strip()).take(5)"
   ]
  },
  {
   "cell_type": "code",
   "execution_count": 106,
   "id": "467a7f5e",
   "metadata": {},
   "outputs": [],
   "source": [
    "weather_stations = weather_stations.map(lambda x: re.sub('\\s\\s+', ';', x.strip()))"
   ]
  },
  {
   "cell_type": "code",
   "execution_count": 107,
   "id": "4b8cc355",
   "metadata": {},
   "outputs": [
    {
     "data": {
      "text/plain": [
       "['STN;LON(east);LAT(north);ALT(m);NAME',\n",
       " '209;4.518;52.465;0.00;IJmond',\n",
       " '210;4.430;52.171;-0.20;Valkenburg Zh',\n",
       " '215;4.437;52.141;-1.10;Voorschoten',\n",
       " '225;4.555;52.463;4.40;IJmuiden',\n",
       " '235;4.781;52.928;1.20;De Kooy',\n",
       " '240;4.790;52.318;-3.30;Schiphol',\n",
       " '242;4.921;53.241;10.80;Vlieland',\n",
       " '248;5.174;52.634;0.80;Wijdenes',\n",
       " '249;4.979;52.644;-2.40;Berkhout',\n",
       " '251;5.346;53.392;0.70;Hoorn Terschelling',\n",
       " '257;4.603;52.506;8.50;Wijk aan Zee',\n",
       " '258;5.401;52.649;7.30;Houtribdijk',\n",
       " '260;5.180;52.100;1.90;De Bilt',\n",
       " '265;5.274;52.130;13.90;Soesterberg',\n",
       " '267;5.384;52.898;-1.30;Stavoren',\n",
       " '269;5.520;52.458;-3.70;Lelystad',\n",
       " '270;5.752;53.224;1.20;Leeuwarden',\n",
       " '273;5.888;52.703;-3.30;Marknesse',\n",
       " '275;5.873;52.056;48.20;Deelen']"
      ]
     },
     "execution_count": 107,
     "metadata": {},
     "output_type": "execute_result"
    }
   ],
   "source": [
    "weather_stations.take(20)"
   ]
  },
  {
   "cell_type": "code",
   "execution_count": 108,
   "id": "abffe256",
   "metadata": {},
   "outputs": [
    {
     "data": {
      "text/plain": [
       "[['STN', 'LON(east)', 'LAT(north)', 'ALT(m)', 'NAME'],\n",
       " ['209', '4.518', '52.465', '0.00', 'IJmond'],\n",
       " ['210', '4.430', '52.171', '-0.20', 'Valkenburg Zh'],\n",
       " ['215', '4.437', '52.141', '-1.10', 'Voorschoten'],\n",
       " ['225', '4.555', '52.463', '4.40', 'IJmuiden']]"
      ]
     },
     "execution_count": 108,
     "metadata": {},
     "output_type": "execute_result"
    }
   ],
   "source": [
    "weather_stations.map(lambda x: x.split(';')).take(5)"
   ]
  },
  {
   "cell_type": "code",
   "execution_count": 103,
   "id": "56976ba2",
   "metadata": {},
   "outputs": [
    {
     "name": "stdout",
     "output_type": "stream",
     "text": [
      "+---+-----+------+-----+------------------+\n",
      "| _1|   _2|    _3|   _4|                _5|\n",
      "+---+-----+------+-----+------------------+\n",
      "|209|4.518|52.465| 0.00|            IJmond|\n",
      "|210|4.430|52.171|-0.20|     Valkenburg Zh|\n",
      "|215|4.437|52.141|-1.10|       Voorschoten|\n",
      "|225|4.555|52.463| 4.40|          IJmuiden|\n",
      "|235|4.781|52.928| 1.20|           De Kooy|\n",
      "|240|4.790|52.318|-3.30|          Schiphol|\n",
      "|242|4.921|53.241|10.80|          Vlieland|\n",
      "|248|5.174|52.634| 0.80|          Wijdenes|\n",
      "|249|4.979|52.644|-2.40|          Berkhout|\n",
      "|251|5.346|53.392| 0.70|Hoorn Terschelling|\n",
      "|257|4.603|52.506| 8.50|      Wijk aan Zee|\n",
      "|258|5.401|52.649| 7.30|       Houtribdijk|\n",
      "|260|5.180|52.100| 1.90|           De Bilt|\n",
      "|265|5.274|52.130|13.90|       Soesterberg|\n",
      "|267|5.384|52.898|-1.30|          Stavoren|\n",
      "|269|5.520|52.458|-3.70|          Lelystad|\n",
      "|270|5.752|53.224| 1.20|        Leeuwarden|\n",
      "|273|5.888|52.703|-3.30|         Marknesse|\n",
      "|275|5.873|52.056|48.20|            Deelen|\n",
      "|277|6.200|53.413| 2.90|        Lauwersoog|\n",
      "+---+-----+------+-----+------------------+\n",
      "only showing top 20 rows\n",
      "\n"
     ]
    }
   ],
   "source": [
    "weather_stations.map(lambda x: x.split(';')).toDF().show()"
   ]
  },
  {
   "cell_type": "code",
   "execution_count": 117,
   "id": "7a88d985",
   "metadata": {},
   "outputs": [
    {
     "data": {
      "text/plain": [
       "['STN', 'LON(east)', 'LAT(north)', 'ALT(m)', 'NAME']"
      ]
     },
     "execution_count": 117,
     "metadata": {},
     "output_type": "execute_result"
    }
   ],
   "source": [
    "header = weather_stations.map(lambda x: x.split(';')).first()\n",
    "header"
   ]
  },
  {
   "cell_type": "code",
   "execution_count": 118,
   "id": "da91a84c",
   "metadata": {},
   "outputs": [],
   "source": [
    "data = weather_stations.map(lambda x: x.split(';')).filter(lambda row : row != header)"
   ]
  },
  {
   "cell_type": "code",
   "execution_count": 121,
   "id": "ea6e24f5",
   "metadata": {},
   "outputs": [
    {
     "name": "stdout",
     "output_type": "stream",
     "text": [
      "+---+---------+----------+------+------------------+\n",
      "|STN|LON(east)|LAT(north)|ALT(m)|              NAME|\n",
      "+---+---------+----------+------+------------------+\n",
      "|209|    4.518|    52.465|  0.00|            IJmond|\n",
      "|210|    4.430|    52.171| -0.20|     Valkenburg Zh|\n",
      "|215|    4.437|    52.141| -1.10|       Voorschoten|\n",
      "|225|    4.555|    52.463|  4.40|          IJmuiden|\n",
      "|235|    4.781|    52.928|  1.20|           De Kooy|\n",
      "|240|    4.790|    52.318| -3.30|          Schiphol|\n",
      "|242|    4.921|    53.241| 10.80|          Vlieland|\n",
      "|248|    5.174|    52.634|  0.80|          Wijdenes|\n",
      "|249|    4.979|    52.644| -2.40|          Berkhout|\n",
      "|251|    5.346|    53.392|  0.70|Hoorn Terschelling|\n",
      "|257|    4.603|    52.506|  8.50|      Wijk aan Zee|\n",
      "|258|    5.401|    52.649|  7.30|       Houtribdijk|\n",
      "|260|    5.180|    52.100|  1.90|           De Bilt|\n",
      "|265|    5.274|    52.130| 13.90|       Soesterberg|\n",
      "|267|    5.384|    52.898| -1.30|          Stavoren|\n",
      "|269|    5.520|    52.458| -3.70|          Lelystad|\n",
      "|270|    5.752|    53.224|  1.20|        Leeuwarden|\n",
      "|273|    5.888|    52.703| -3.30|         Marknesse|\n",
      "|275|    5.873|    52.056| 48.20|            Deelen|\n",
      "|277|    6.200|    53.413|  2.90|        Lauwersoog|\n",
      "+---+---------+----------+------+------------------+\n",
      "only showing top 20 rows\n",
      "\n"
     ]
    }
   ],
   "source": [
    "df = data.toDF(header)\n",
    "df.show()"
   ]
  },
  {
   "cell_type": "code",
   "execution_count": 123,
   "id": "21089ba0",
   "metadata": {},
   "outputs": [
    {
     "name": "stdout",
     "output_type": "stream",
     "text": [
      "+--------------------+---------+--------+--------+------------------+\n",
      "|weather_station_code|longitude|latitude|altitude|   weather_station|\n",
      "+--------------------+---------+--------+--------+------------------+\n",
      "|                 209|    4.518|  52.465|    0.00|            IJmond|\n",
      "|                 210|    4.430|  52.171|   -0.20|     Valkenburg Zh|\n",
      "|                 215|    4.437|  52.141|   -1.10|       Voorschoten|\n",
      "|                 225|    4.555|  52.463|    4.40|          IJmuiden|\n",
      "|                 235|    4.781|  52.928|    1.20|           De Kooy|\n",
      "|                 240|    4.790|  52.318|   -3.30|          Schiphol|\n",
      "|                 242|    4.921|  53.241|   10.80|          Vlieland|\n",
      "|                 248|    5.174|  52.634|    0.80|          Wijdenes|\n",
      "|                 249|    4.979|  52.644|   -2.40|          Berkhout|\n",
      "|                 251|    5.346|  53.392|    0.70|Hoorn Terschelling|\n",
      "|                 257|    4.603|  52.506|    8.50|      Wijk aan Zee|\n",
      "|                 258|    5.401|  52.649|    7.30|       Houtribdijk|\n",
      "|                 260|    5.180|  52.100|    1.90|           De Bilt|\n",
      "|                 265|    5.274|  52.130|   13.90|       Soesterberg|\n",
      "|                 267|    5.384|  52.898|   -1.30|          Stavoren|\n",
      "|                 269|    5.520|  52.458|   -3.70|          Lelystad|\n",
      "|                 270|    5.752|  53.224|    1.20|        Leeuwarden|\n",
      "|                 273|    5.888|  52.703|   -3.30|         Marknesse|\n",
      "|                 275|    5.873|  52.056|   48.20|            Deelen|\n",
      "|                 277|    6.200|  53.413|    2.90|        Lauwersoog|\n",
      "+--------------------+---------+--------+--------+------------------+\n",
      "only showing top 20 rows\n",
      "\n"
     ]
    }
   ],
   "source": [
    "weather_stations_df = df.select(col('STN').alias('weather_station_code')\n",
    "                               ,col('LON(east)').alias('longitude')\n",
    "                               ,col('LAT(north)').alias('latitude')\n",
    "                               ,col('ALT(m)').alias('altitude')\n",
    "                               ,col('NAME').alias('weather_station'))\n",
    "weather_stations_df.show()"
   ]
  },
  {
   "cell_type": "code",
   "execution_count": 124,
   "id": "49c31bb1",
   "metadata": {},
   "outputs": [],
   "source": [
    "from pyspark.sql.functions import current_timestamp\n",
    "weather_stations_df = weather_stations_df.withColumn('load_datetime', current_timestamp())"
   ]
  },
  {
   "cell_type": "code",
   "execution_count": 125,
   "id": "5cb35c6a",
   "metadata": {},
   "outputs": [
    {
     "name": "stdout",
     "output_type": "stream",
     "text": [
      "+--------------------+---------+--------+--------+------------------+--------------------+\n",
      "|weather_station_code|longitude|latitude|altitude|   weather_station|       load_datetime|\n",
      "+--------------------+---------+--------+--------+------------------+--------------------+\n",
      "|                 209|    4.518|  52.465|    0.00|            IJmond|2021-08-24 19:46:...|\n",
      "|                 210|    4.430|  52.171|   -0.20|     Valkenburg Zh|2021-08-24 19:46:...|\n",
      "|                 215|    4.437|  52.141|   -1.10|       Voorschoten|2021-08-24 19:46:...|\n",
      "|                 225|    4.555|  52.463|    4.40|          IJmuiden|2021-08-24 19:46:...|\n",
      "|                 235|    4.781|  52.928|    1.20|           De Kooy|2021-08-24 19:46:...|\n",
      "|                 240|    4.790|  52.318|   -3.30|          Schiphol|2021-08-24 19:46:...|\n",
      "|                 242|    4.921|  53.241|   10.80|          Vlieland|2021-08-24 19:46:...|\n",
      "|                 248|    5.174|  52.634|    0.80|          Wijdenes|2021-08-24 19:46:...|\n",
      "|                 249|    4.979|  52.644|   -2.40|          Berkhout|2021-08-24 19:46:...|\n",
      "|                 251|    5.346|  53.392|    0.70|Hoorn Terschelling|2021-08-24 19:46:...|\n",
      "|                 257|    4.603|  52.506|    8.50|      Wijk aan Zee|2021-08-24 19:46:...|\n",
      "|                 258|    5.401|  52.649|    7.30|       Houtribdijk|2021-08-24 19:46:...|\n",
      "|                 260|    5.180|  52.100|    1.90|           De Bilt|2021-08-24 19:46:...|\n",
      "|                 265|    5.274|  52.130|   13.90|       Soesterberg|2021-08-24 19:46:...|\n",
      "|                 267|    5.384|  52.898|   -1.30|          Stavoren|2021-08-24 19:46:...|\n",
      "|                 269|    5.520|  52.458|   -3.70|          Lelystad|2021-08-24 19:46:...|\n",
      "|                 270|    5.752|  53.224|    1.20|        Leeuwarden|2021-08-24 19:46:...|\n",
      "|                 273|    5.888|  52.703|   -3.30|         Marknesse|2021-08-24 19:46:...|\n",
      "|                 275|    5.873|  52.056|   48.20|            Deelen|2021-08-24 19:46:...|\n",
      "|                 277|    6.200|  53.413|    2.90|        Lauwersoog|2021-08-24 19:46:...|\n",
      "+--------------------+---------+--------+--------+------------------+--------------------+\n",
      "only showing top 20 rows\n",
      "\n"
     ]
    }
   ],
   "source": [
    "weather_stations_df.show()"
   ]
  },
  {
   "cell_type": "code",
   "execution_count": 128,
   "id": "faf4abed",
   "metadata": {},
   "outputs": [],
   "source": [
    "from delta.tables import DeltaTable\n",
    "if not DeltaTable.isDeltaTable(spark, 's3a://bronze-knmi/weather_stations'):\n",
    "    print(\"Not a delta table, write the full df\")\n",
    "    weather_stations_df.dropDuplicates().coalesce(1).write.format(\"delta\").mode(\"overwrite\").option(\"mergeSchema\", \"true\").save('s3a://bronze-knmi/weather_stations')\n",
    "    spark.sql(\"\"\"\n",
    "        create table if not exists bronze_knmi_weather_stations\n",
    "        using delta \n",
    "        location 's3a://bronze-knmi/weather_stations'\n",
    "        \"\"\")\n",
    "else:\n",
    "    pass"
   ]
  },
  {
   "cell_type": "code",
   "execution_count": 131,
   "id": "b6aaf084",
   "metadata": {},
   "outputs": [
    {
     "name": "stdout",
     "output_type": "stream",
     "text": [
      "+--------------------+---------+--------+--------+-------------------+--------------------+\n",
      "|weather_station_code|longitude|latitude|altitude|    weather_station|       load_datetime|\n",
      "+--------------------+---------+--------+--------+-------------------+--------------------+\n",
      "|                 283|    6.657|  52.069|   29.10|             Hupsel|2021-08-24 19:47:...|\n",
      "|                 340|    4.342|  51.449|   19.20|        Woensdrecht|2021-08-24 19:47:...|\n",
      "|                 277|    6.200|  53.413|    2.90|         Lauwersoog|2021-08-24 19:47:...|\n",
      "|                 375|    5.707|  51.659|   22.00|             Volkel|2021-08-24 19:47:...|\n",
      "|                 312|    3.622|  51.768|    0.00|      Oosterschelde|2021-08-24 19:47:...|\n",
      "|                 273|    5.888|  52.703|   -3.30|          Marknesse|2021-08-24 19:47:...|\n",
      "|                 348|    4.926|  51.970|   -0.70|        Cabauw Mast|2021-08-24 19:47:...|\n",
      "|                 343|    4.313|  51.893|    3.50|Rotterdam Geulhaven|2021-08-24 19:47:...|\n",
      "|                 251|    5.346|  53.392|    0.70| Hoorn Terschelling|2021-08-24 19:47:...|\n",
      "|                 391|    6.197|  51.498|   19.50|              Arcen|2021-08-24 19:47:...|\n",
      "+--------------------+---------+--------+--------+-------------------+--------------------+\n",
      "\n"
     ]
    }
   ],
   "source": [
    "spark.sql(\"\"\"\n",
    "select * from bronze_knmi_weather_stations limit 10\n",
    "\"\"\").show()"
   ]
  },
  {
   "cell_type": "code",
   "execution_count": null,
   "id": "6f23040a",
   "metadata": {},
   "outputs": [],
   "source": []
  }
 ],
 "metadata": {
  "kernelspec": {
   "display_name": "Python 3 (ipykernel)",
   "language": "python",
   "name": "python3"
  },
  "language_info": {
   "codemirror_mode": {
    "name": "ipython",
    "version": 3
   },
   "file_extension": ".py",
   "mimetype": "text/x-python",
   "name": "python",
   "nbconvert_exporter": "python",
   "pygments_lexer": "ipython3",
   "version": "3.9.6"
  }
 },
 "nbformat": 4,
 "nbformat_minor": 5
}
