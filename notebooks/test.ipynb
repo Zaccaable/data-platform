{
 "cells": [
  {
   "cell_type": "markdown",
   "id": "ef3312b3",
   "metadata": {
    "papermill": {
     "duration": 0.057036,
     "end_time": "2023-01-30T20:54:39.428315",
     "exception": false,
     "start_time": "2023-01-30T20:54:39.371279",
     "status": "completed"
    },
    "tags": []
   },
   "source": [
    "# Initiate spark"
   ]
  },
  {
   "cell_type": "code",
   "execution_count": 1,
   "id": "ed6b75e9",
   "metadata": {
    "execution": {
     "iopub.execute_input": "2023-01-30T20:54:39.488141Z",
     "iopub.status.busy": "2023-01-30T20:54:39.487521Z",
     "iopub.status.idle": "2023-01-30T20:54:42.330450Z",
     "shell.execute_reply": "2023-01-30T20:54:42.331178Z"
    },
    "papermill": {
     "duration": 2.868094,
     "end_time": "2023-01-30T20:54:42.331514",
     "exception": false,
     "start_time": "2023-01-30T20:54:39.463420",
     "status": "completed"
    },
    "tags": []
   },
   "outputs": [
    {
     "name": "stderr",
     "output_type": "stream",
     "text": [
      "WARNING: An illegal reflective access operation has occurred\n",
      "WARNING: Illegal reflective access by org.apache.spark.unsafe.Platform (file:/usr/local/spark-3.1.2-bin-hadoop3.2/jars/spark-unsafe_2.12-3.1.2.jar) to constructor java.nio.DirectByteBuffer(long,int)\n",
      "WARNING: Please consider reporting this to the maintainers of org.apache.spark.unsafe.Platform\n",
      "WARNING: Use --illegal-access=warn to enable warnings of further illegal reflective access operations\n",
      "WARNING: All illegal access operations will be denied in a future release\n"
     ]
    },
    {
     "name": "stderr",
     "output_type": "stream",
     "text": [
      "23/01/30 20:54:40 WARN NativeCodeLoader: Unable to load native-hadoop library for your platform... using builtin-java classes where applicable\n",
      "Using Spark's default log4j profile: org/apache/spark/log4j-defaults.properties\n",
      "Setting default log level to \"WARN\".\n",
      "To adjust logging level use sc.setLogLevel(newLevel). For SparkR, use setLogLevel(newLevel).\n"
     ]
    },
    {
     "name": "stderr",
     "output_type": "stream",
     "text": [
      "23/01/30 20:54:41 WARN Utils: Service 'SparkUI' could not bind on port 4040. Attempting port 4041.\n"
     ]
    }
   ],
   "source": [
    "import os\n",
    "\n",
    "from pyspark import SparkContext, SparkConf, SQLContext\n",
    "from pyspark.sql import SparkSession \n",
    "from pyspark.sql.types import StructType, StructField, IntegerType, StringType\n",
    "from pyspark.sql.functions import col, max, to_date, expr\n",
    "\n",
    "from delta.tables import DeltaTable\n",
    "\n",
    "conf = (\n",
    "    SparkConf()\n",
    "    .setAppName(\"Spark minIO Test\")\n",
    "    .set(\"spark.hadoop.fs.s3a.endpoint\", \"http://192.168.86.192:9000\")\n",
    "    .set(\"spark.hadoop.fs.s3a.access.key\", os.getenv('MINIO_ROOT_USER'))\n",
    "    .set(\"spark.hadoop.fs.s3a.secret.key\", os.getenv('MINIO_ROOT_PASSWORD'))\n",
    "    .set(\"spark.hadoop.fs.s3a.path.style.access\", True)\n",
    "    .set(\"spark.hadoop.fs.s3a.impl\", \"org.apache.hadoop.fs.s3a.S3AFileSystem\")\n",
    "    .set(\"spark.driver.memory\", \"8g\")\n",
    "    .set(\"spark.executor.memory\", \"8g\")\n",
    "    .set(\"spark.delta.logStore.class\", \"org.apache.spark.sql.delta.storage.S3SingleDriverLogStore\") \n",
    "    .set(\"spark.sql.extensions\", \"io.delta.sql.DeltaSparkSessionExtension\") \n",
    "    .set(\"spark.sql.catalog.spark_catalog\", \"org.apache.spark.sql.delta.catalog.DeltaCatalog\") \n",
    ")\n",
    "sc = SparkContext(conf=conf).getOrCreate()\n",
    "spark = SparkSession(sc).builder.getOrCreate()"
   ]
  },
  {
   "cell_type": "markdown",
   "id": "abfdc2b4",
   "metadata": {
    "papermill": {
     "duration": 0.032872,
     "end_time": "2023-01-30T20:54:42.420956",
     "exception": false,
     "start_time": "2023-01-30T20:54:42.388084",
     "status": "completed"
    },
    "tags": []
   },
   "source": [
    "### Determine the last load dat to silver"
   ]
  },
  {
   "cell_type": "code",
   "execution_count": 2,
   "id": "e451d2cf",
   "metadata": {
    "execution": {
     "iopub.execute_input": "2023-01-30T20:54:42.465033Z",
     "iopub.status.busy": "2023-01-30T20:54:42.464566Z",
     "iopub.status.idle": "2023-01-30T20:54:53.251185Z",
     "shell.execute_reply": "2023-01-30T20:54:53.251443Z"
    },
    "papermill": {
     "duration": 10.81162,
     "end_time": "2023-01-30T20:54:53.251554",
     "exception": false,
     "start_time": "2023-01-30T20:54:42.439934",
     "status": "completed"
    },
    "tags": []
   },
   "outputs": [
    {
     "name": "stderr",
     "output_type": "stream",
     "text": [
      "23/01/30 20:54:43 WARN MetricsConfig: Cannot locate configuration: tried hadoop-metrics2-s3a-file-system.properties,hadoop-metrics2.properties\n"
     ]
    },
    {
     "name": "stderr",
     "output_type": "stream",
     "text": [
      "\r",
      "[Stage 0:>                                                          (0 + 4) / 4]\r"
     ]
    },
    {
     "name": "stderr",
     "output_type": "stream",
     "text": [
      "\r",
      "[Stage 0:==============>                                            (1 + 3) / 4]\r"
     ]
    },
    {
     "name": "stderr",
     "output_type": "stream",
     "text": [
      "\r",
      "[Stage 1:>                                                        (0 + 16) / 50]\r"
     ]
    },
    {
     "name": "stderr",
     "output_type": "stream",
     "text": [
      "\r",
      "[Stage 1:=================>                                      (16 + 16) / 50]\r"
     ]
    },
    {
     "name": "stderr",
     "output_type": "stream",
     "text": [
      "\r",
      "[Stage 1:===================================>                    (32 + 16) / 50]\r"
     ]
    },
    {
     "name": "stderr",
     "output_type": "stream",
     "text": [
      "\r",
      "                                                                                \r"
     ]
    },
    {
     "name": "stderr",
     "output_type": "stream",
     "text": [
      "\r",
      "[Stage 5:>                                                        (0 + 12) / 12]\r"
     ]
    },
    {
     "name": "stdout",
     "output_type": "stream",
     "text": [
      "2021-08-20 07:55:59.056056\n"
     ]
    },
    {
     "name": "stderr",
     "output_type": "stream",
     "text": [
      "\r",
      "                                                                                \r"
     ]
    }
   ],
   "source": [
    "last_load_datetime = spark.read.format('delta').load('s3a://silver-knmi/daggegevens').select(max(\"load_datetime\")).collect()[0][\"max(load_datetime)\"]\n",
    "print(last_load_datetime)"
   ]
  },
  {
   "cell_type": "markdown",
   "id": "9439ffd2",
   "metadata": {
    "papermill": {
     "duration": 0.024268,
     "end_time": "2023-01-30T20:54:53.301533",
     "exception": false,
     "start_time": "2023-01-30T20:54:53.277265",
     "status": "completed"
    },
    "tags": []
   },
   "source": [
    "### Read data from the bronze table"
   ]
  },
  {
   "cell_type": "code",
   "execution_count": 3,
   "id": "fe41bd53",
   "metadata": {
    "execution": {
     "iopub.execute_input": "2023-01-30T20:54:53.355479Z",
     "iopub.status.busy": "2023-01-30T20:54:53.355176Z",
     "iopub.status.idle": "2023-01-30T20:55:02.831814Z",
     "shell.execute_reply": "2023-01-30T20:55:02.832298Z"
    },
    "papermill": {
     "duration": 9.506626,
     "end_time": "2023-01-30T20:55:02.832487",
     "exception": false,
     "start_time": "2023-01-30T20:54:53.325861",
     "status": "completed"
    },
    "tags": []
   },
   "outputs": [
    {
     "name": "stderr",
     "output_type": "stream",
     "text": [
      "\r",
      "[Stage 12:>                                                       (0 + 16) / 22]\r"
     ]
    },
    {
     "name": "stderr",
     "output_type": "stream",
     "text": [
      "\r",
      "[Stage 12:===============>                                        (6 + 16) / 22]\r",
      "\r",
      "[Stage 12:========================================>               (16 + 6) / 22]\r"
     ]
    },
    {
     "name": "stderr",
     "output_type": "stream",
     "text": [
      "\r",
      "[Stage 12:===========================================>            (17 + 5) / 22]\r"
     ]
    },
    {
     "name": "stdout",
     "output_type": "stream",
     "text": [
      "+--------+\n",
      "|YYYYMMDD|\n",
      "+--------+\n",
      "|19680512|\n",
      "|19890430|\n",
      "|19401021|\n",
      "|19550926|\n",
      "|20111015|\n",
      "+--------+\n",
      "only showing top 5 rows\n",
      "\n"
     ]
    },
    {
     "name": "stderr",
     "output_type": "stream",
     "text": [
      "\r",
      "                                                                                \r"
     ]
    }
   ],
   "source": [
    "df = spark.read.format('delta').load('s3a://bronze-knmi/daggegevens') #.filter(col(\"load_datetime\") > last_load_datetime)\n",
    "df.select(\"YYYYMMDD\").distinct().show(5)"
   ]
  },
  {
   "cell_type": "markdown",
   "id": "842bce63",
   "metadata": {
    "papermill": {
     "duration": 0.027912,
     "end_time": "2023-01-30T20:55:02.903634",
     "exception": false,
     "start_time": "2023-01-30T20:55:02.875722",
     "status": "completed"
    },
    "tags": []
   },
   "source": [
    "### Transform and rename the columns"
   ]
  },
  {
   "cell_type": "code",
   "execution_count": 4,
   "id": "5b4e7823",
   "metadata": {
    "execution": {
     "iopub.execute_input": "2023-01-30T20:55:02.960818Z",
     "iopub.status.busy": "2023-01-30T20:55:02.960445Z",
     "iopub.status.idle": "2023-01-30T20:55:03.862129Z",
     "shell.execute_reply": "2023-01-30T20:55:03.862770Z"
    },
    "papermill": {
     "duration": 0.932146,
     "end_time": "2023-01-30T20:55:03.862991",
     "exception": false,
     "start_time": "2023-01-30T20:55:02.930845",
     "status": "completed"
    },
    "tags": []
   },
   "outputs": [
    {
     "name": "stderr",
     "output_type": "stream",
     "text": [
      "23/01/30 20:55:03 WARN package: Truncated the string representation of a plan since it was too large. This behavior can be adjusted by setting 'spark.sql.debug.maxToStringFields'.\n"
     ]
    },
    {
     "name": "stdout",
     "output_type": "stream",
     "text": [
      "+--------------------+----------+-------------------------------------+------------------------------------------+-----------------------------------------+----------------------------------+-------------------------+----------------------------------+-------------------------+---------------------------------+------------------------+----------------------+-------------------+-------------------------------+-------------------+-------------------------------+-----------------------------+-----------------------------------------+--------------------------+-----------------------------------+-----------------------------+-------------------------------+-------------------------------+------------------------------------+-----------------------------------+-----------------------------+----------------------------+---------------------------------+----------------------------+---------------------------------+-----------------------+------------------------------+-----------------------+------------------------------+---------------------------------+-------------+----------------+----------------------------+----------------+----------------------------+----------------------------------+--------------------+\n",
      "|weather_station_code|      date|vector_mean_wind_direction_in_degrees|vector_mean_windspeed_in_meters_per_second|daily_mean_windspeed_in_meters_per_second|max_windspeed_in_meters_per_second|max_windspeed_hour_of_day|min_windspeed_in_meters_per_second|min_windspeed_hour_of_day|max_windgust_in_meters_per_second|max_windgust_hour_of_day|daily_mean_temperature|minimum_temperature|minimum_temperature_hour_of_day|maximum_temperature|maximum_temperature_hour_of_day|max_temp_at_10cm_above_ground|max_temp_at_10cm_above_ground_hour_of_day|sunshine_duration_in_hours|percentage_of_max_sumshine_duration|global_radiation_in_J_per_cm2|precipitation_duration_in_hours|daily_precipitaion_amount_in_mm|max_hourly_precipitaion_amount_in_mm|max_hourly_precipitaion_hour_of_day|mean_sealevel_pressure_in_hPa|max_sealevel_pressure_in_hPa|max_sealevel_pressure_hour_of_day|min_sealevel_pressure_in_hPa|min_sealevel_pressure_hour_of_day|minimum_visibility_in_m|minimum_visibility_hour_of_day|maximum_visibility_in_m|maximum_visibility_hour_of_day|mean_daily_cloud_cover_in_octants|mean_humidity|maximim_humidity|maximum_humidity_hour_of_day|minimum_humidity|minimum_humidity_hour_of_day|potential_evapotranspiration_in_mm|       load_datetime|\n",
      "+--------------------+----------+-------------------------------------+------------------------------------------+-----------------------------------------+----------------------------------+-------------------------+----------------------------------+-------------------------+---------------------------------+------------------------+----------------------+-------------------+-------------------------------+-------------------+-------------------------------+-----------------------------+-----------------------------------------+--------------------------+-----------------------------------+-----------------------------+-------------------------------+-------------------------------+------------------------------------+-----------------------------------+-----------------------------+----------------------------+---------------------------------+----------------------------+---------------------------------+-----------------------+------------------------------+-----------------------+------------------------------+---------------------------------+-------------+----------------+----------------------------+----------------+----------------------------+----------------------------------+--------------------+\n",
      "|                 260|1999-02-15|                                  207|                                       3.8|                                      3.9|                               7.0|                       23|                               2.0|                        7|                             12.0|                      24|                   1.2|               -0.3|                              1|                2.6|                             24|                         -0.2|                                        6|                       0.0|                                  0|                          239|                            0.7|                            0.2|                                 0.2|                                 18|                       1020.1|                      1023.1|                                1|                      1012.9|                               24|                  100.0|                             5|                 2100.0|                            24|                                8|           99|              99|                           1|             9.9|                           1|                               0.3|2021-08-20 07:55:...|\n",
      "|                 279|2004-01-14|                                  253|                                       4.8|                                      5.9|                              10.0|                        2|                               2.0|                       18|                             16.0|                       3|                   4.3|                0.5|                             23|                6.4|                              1|                          0.4|                                       24|                       2.3|                                 28|                          217|                            8.7|                           13.4|                                 2.9|                                 19|                        992.7|                       995.3|                               11|                       988.1|                                1|                 1700.0|                            23|                 7000.0|                             8|                                7|           87|              99|                          24|             7.7|                          11|                               0.3|2021-08-20 07:55:...|\n",
      "|                 280|1934-01-15|                                  225|                                       7.7|                                      7.7|                              10.3|                       11|                               4.6|                       24|                             null|                        |                   3.6|                0.6|                               |                5.2|                               |                         null|                                         |                      -0.1|                                  0|                             |                           null|                           null|                                null|                                   |                        990.8|                       996.2|                                 |                       985.0|                                 |                   null|                              |                   null|                              |                                 |           92|                |                            |            null|                            |                              null|2021-08-20 07:55:...|\n",
      "|                 343|2015-09-27|                                   50|                                       3.8|                                      3.9|                               6.0|                       11|                               3.0|                        1|                              9.0|                      11|                  null|               null|                               |               null|                               |                         null|                                         |                      null|                                   |                             |                           null|                           null|                                null|                                   |                         null|                        null|                                 |                        null|                                 |                   null|                              |                   null|                              |                                 |             |                |                            |            null|                            |                              null|2021-08-20 07:55:...|\n",
      "|                 280|1979-07-19|                                  251|                                       6.2|                                      6.2|                               9.8|                       11|                               3.6|                        1|                             13.9|                      11|                  13.9|               10.8|                              1|               17.2|                             11|                          9.3|                                         |                       0.6|                                  4|                         1003|                            0.2|                            0.5|                                 0.5|                                   |                       1008.3|                      1009.9|                                 |                      1006.3|                                 |                 5800.0|                             7|                 8100.0|                            14|                                8|           87|              99|                           1|             6.7|                          11|                               1.6|2021-08-20 07:55:...|\n",
      "+--------------------+----------+-------------------------------------+------------------------------------------+-----------------------------------------+----------------------------------+-------------------------+----------------------------------+-------------------------+---------------------------------+------------------------+----------------------+-------------------+-------------------------------+-------------------+-------------------------------+-----------------------------+-----------------------------------------+--------------------------+-----------------------------------+-----------------------------+-------------------------------+-------------------------------+------------------------------------+-----------------------------------+-----------------------------+----------------------------+---------------------------------+----------------------------+---------------------------------+-----------------------+------------------------------+-----------------------+------------------------------+---------------------------------+-------------+----------------+----------------------------+----------------+----------------------------+----------------------------------+--------------------+\n",
      "only showing top 5 rows\n",
      "\n"
     ]
    }
   ],
   "source": [
    "from pyspark.sql.functions import trim\n",
    "silver_df = df.select(trim(col('STN')).alias('weather_station_code'),\n",
    "                      to_date(col('YYYYMMDD'), 'yyyyMMdd').alias('date'),\n",
    "                      col('DDVEC').cast(\"integer\").alias(\"vector_mean_wind_direction_in_degrees\"),\n",
    "                      expr('FHVEC / 10').alias(\"vector_mean_windspeed_in_meters_per_second\"),\n",
    "                      expr('FG / 10').alias(\"daily_mean_windspeed_in_meters_per_second\"),\n",
    "                      expr('FHX / 10').alias(\"max_windspeed_in_meters_per_second\"),\n",
    "                      col('FHXH').alias(\"max_windspeed_hour_of_day\"),\n",
    "                      expr('FHN / 10').alias(\"min_windspeed_in_meters_per_second\"),\n",
    "                      expr('FHNH').alias(\"min_windspeed_hour_of_day\"),\n",
    "                      expr('FXX / 10').alias(\"max_windgust_in_meters_per_second\"),\n",
    "                      col('FXXH').alias(\"max_windgust_hour_of_day\"),\n",
    "                      expr('TG / 10').alias(\"daily_mean_temperature\"),\n",
    "                      expr('TN / 10').alias(\"minimum_temperature\"),\n",
    "                      col('TNH').alias(\"minimum_temperature_hour_of_day\"),\n",
    "                      expr('TX / 10').alias(\"maximum_temperature\"),\n",
    "                      col('TXH').alias(\"maximum_temperature_hour_of_day\"),\n",
    "                      expr('T10N / 10').alias(\"max_temp_at_10cm_above_ground\"),\n",
    "                      col('T10NH').alias(\"max_temp_at_10cm_above_ground_hour_of_day\"),\n",
    "                      expr('SQ / 10').alias(\"sunshine_duration_in_hours\"),\n",
    "                      expr('SP').alias(\"percentage_of_max_sumshine_duration\"),\n",
    "                      expr('Q').alias(\"global_radiation_in_J_per_cm2\"),\n",
    "                      expr('DR / 10').alias(\"precipitation_duration_in_hours\"),\n",
    "                      expr('RH / 10').alias(\"daily_precipitaion_amount_in_mm\"),\n",
    "                      expr('RHX / 10').alias(\"max_hourly_precipitaion_amount_in_mm\"),\n",
    "                      col('RHXH').alias(\"max_hourly_precipitaion_hour_of_day\"),\n",
    "                      expr('PG / 10').alias(\"mean_sealevel_pressure_in_hPa\"),\n",
    "                      expr('PX / 10').alias(\"max_sealevel_pressure_in_hPa\"),\n",
    "                      col('PXH').alias(\"max_sealevel_pressure_hour_of_day\"),\n",
    "                      expr('PN / 10').alias(\"min_sealevel_pressure_in_hPa\"),\n",
    "                      col('PNH').alias(\"min_sealevel_pressure_hour_of_day\"),\n",
    "                      expr('VVN * 100').alias(\"minimum_visibility_in_m\"),\n",
    "                      col('VVNH').alias(\"minimum_visibility_hour_of_day\"),\n",
    "                      expr('VVX * 100 + 100').alias(\"maximum_visibility_in_m\"),\n",
    "                      col('VVXH').alias(\"maximum_visibility_hour_of_day\"),\n",
    "                      expr('NG').alias(\"mean_daily_cloud_cover_in_octants\"),\n",
    "                      expr('UG').alias(\"mean_humidity\"),\n",
    "                      expr('UX').alias(\"maximim_humidity\"),\n",
    "                      col('UXH').alias(\"maximum_humidity_hour_of_day\"),\n",
    "                      expr('UN / 10').alias(\"minimum_humidity\"),\n",
    "                      col('UNH').alias(\"minimum_humidity_hour_of_day\"),\n",
    "                      expr('EV24 / 10').alias(\"potential_evapotranspiration_in_mm\"),\n",
    "                      col(\"load_datetime\")\n",
    "            ).coalesce(16)\n",
    "silver_df.show(5)"
   ]
  },
  {
   "cell_type": "code",
   "execution_count": 5,
   "id": "c15d3d7f",
   "metadata": {
    "execution": {
     "iopub.execute_input": "2023-01-30T20:55:03.972967Z",
     "iopub.status.busy": "2023-01-30T20:55:03.972143Z",
     "iopub.status.idle": "2023-01-30T20:55:04.196035Z",
     "shell.execute_reply": "2023-01-30T20:55:04.195731Z"
    },
    "papermill": {
     "duration": 0.255963,
     "end_time": "2023-01-30T20:55:04.196124",
     "exception": false,
     "start_time": "2023-01-30T20:55:03.940161",
     "status": "completed"
    },
    "tags": []
   },
   "outputs": [
    {
     "name": "stderr",
     "output_type": "stream",
     "text": [
      "ANTLR Tool version 4.7 used for code generation does not match the current runtime version 4.8ANTLR Tool version 4.7 used for code generation does not match the current runtime version 4.8"
     ]
    },
    {
     "name": "stdout",
     "output_type": "stream",
     "text": [
      "++\n",
      "||\n",
      "++\n",
      "++\n",
      "\n"
     ]
    }
   ],
   "source": [
    "spark.sql(\"\"\"\n",
    "create table if not exists silver_knmi_daggegevens\n",
    "using delta \n",
    "location 's3a://silver-knmi/daggegevens'\n",
    "\"\"\").show()"
   ]
  },
  {
   "cell_type": "code",
   "execution_count": 6,
   "id": "fc8004e5",
   "metadata": {
    "execution": {
     "iopub.execute_input": "2023-01-30T20:55:04.261388Z",
     "iopub.status.busy": "2023-01-30T20:55:04.261011Z",
     "iopub.status.idle": "2023-01-30T20:55:04.408242Z",
     "shell.execute_reply": "2023-01-30T20:55:04.408769Z"
    },
    "papermill": {
     "duration": 0.180518,
     "end_time": "2023-01-30T20:55:04.408970",
     "exception": false,
     "start_time": "2023-01-30T20:55:04.228452",
     "status": "completed"
    },
    "tags": []
   },
   "outputs": [
    {
     "name": "stdout",
     "output_type": "stream",
     "text": [
      "+--------------------+---------+-------+\n",
      "|            col_name|data_type|comment|\n",
      "+--------------------+---------+-------+\n",
      "|weather_station_code|   string|       |\n",
      "|                date|     date|       |\n",
      "|vector_mean_wind_...|      int|       |\n",
      "|vector_mean_winds...|   double|       |\n",
      "|daily_mean_windsp...|   double|       |\n",
      "|max_windspeed_in_...|   double|       |\n",
      "|max_windspeed_hou...|   string|       |\n",
      "|min_windspeed_in_...|   double|       |\n",
      "|min_windspeed_hou...|   string|       |\n",
      "|max_windgust_in_m...|   double|       |\n",
      "|max_windgust_hour...|   string|       |\n",
      "|daily_mean_temper...|   double|       |\n",
      "| minimum_temperature|   double|       |\n",
      "|minimum_temperatu...|   string|       |\n",
      "| maximum_temperature|   double|       |\n",
      "|maximum_temperatu...|   string|       |\n",
      "|max_temp_at_10cm_...|   double|       |\n",
      "|max_temp_at_10cm_...|   string|       |\n",
      "|sunshine_duration...|   double|       |\n",
      "|percentage_of_max...|   string|       |\n",
      "+--------------------+---------+-------+\n",
      "only showing top 20 rows\n",
      "\n"
     ]
    }
   ],
   "source": [
    "spark.sql(\"\"\"\n",
    "DESCRIBE silver_knmi_daggegevens\n",
    "\"\"\").show()"
   ]
  },
  {
   "cell_type": "markdown",
   "id": "3a658fbe",
   "metadata": {
    "papermill": {
     "duration": 0.035056,
     "end_time": "2023-01-30T20:55:04.514527",
     "exception": false,
     "start_time": "2023-01-30T20:55:04.479471",
     "status": "completed"
    },
    "tags": []
   },
   "source": [
    "### Write to the silver table"
   ]
  },
  {
   "cell_type": "code",
   "execution_count": 7,
   "id": "8d3fd578",
   "metadata": {
    "execution": {
     "iopub.execute_input": "2023-01-30T20:55:04.584518Z",
     "iopub.status.busy": "2023-01-30T20:55:04.580823Z",
     "iopub.status.idle": "2023-01-30T20:55:29.833752Z",
     "shell.execute_reply": "2023-01-30T20:55:29.833048Z"
    },
    "papermill": {
     "duration": 25.287981,
     "end_time": "2023-01-30T20:55:29.833968",
     "exception": false,
     "start_time": "2023-01-30T20:55:04.545987",
     "status": "completed"
    },
    "tags": []
   },
   "outputs": [
    {
     "name": "stdout",
     "output_type": "stream",
     "text": [
      "Merging the data\n"
     ]
    },
    {
     "name": "stderr",
     "output_type": "stream",
     "text": [
      "\r",
      "[Stage 22:>                                                       (0 + 16) / 16]\r"
     ]
    },
    {
     "name": "stderr",
     "output_type": "stream",
     "text": [
      "\r",
      "[Stage 22:=======>                                                (2 + 14) / 16]\r",
      "\r",
      "[Stage 22:=================>                                      (5 + 11) / 16]\r"
     ]
    },
    {
     "name": "stderr",
     "output_type": "stream",
     "text": [
      "\r",
      "[Stage 22:=====================>                                  (6 + 10) / 16]\r",
      "\r",
      "[Stage 22:============================>                            (8 + 8) / 16]\r"
     ]
    },
    {
     "name": "stderr",
     "output_type": "stream",
     "text": [
      "\r",
      "[Stage 22:================================>                        (9 + 7) / 16]\r"
     ]
    },
    {
     "name": "stderr",
     "output_type": "stream",
     "text": [
      "\r",
      "[Stage 22:===================================>                    (10 + 6) / 16]\r"
     ]
    },
    {
     "name": "stderr",
     "output_type": "stream",
     "text": [
      "\r",
      "[Stage 22:======================================>                 (11 + 5) / 16]\r",
      "\r",
      "[Stage 22:=============================================>          (13 + 3) / 16]\r"
     ]
    },
    {
     "name": "stderr",
     "output_type": "stream",
     "text": [
      "\r",
      "[Stage 22:=================================================>      (14 + 2) / 16]\r"
     ]
    },
    {
     "name": "stderr",
     "output_type": "stream",
     "text": [
      "\r",
      "[Stage 22:====================================================>   (15 + 1) / 16]\r"
     ]
    },
    {
     "name": "stderr",
     "output_type": "stream",
     "text": [
      "\r",
      "                                                                                \r"
     ]
    }
   ],
   "source": [
    "if not DeltaTable.isDeltaTable(spark, 's3a://silver-knmi/daggegevens'):\n",
    "    print(\"Not a delta table, write the full df\")\n",
    "    silver_df.write.format(\"delta\").save('s3a://silver-knmi/daggegevens')\n",
    "else:\n",
    "    print(\"Merging the data\")\n",
    "    silver_knmi_daggegevens_table = DeltaTable.forPath(spark, 's3a://silver-knmi/daggegevens')\n",
    "    \n",
    "    silver_knmi_daggegevens_table.alias(\"current_data\") \\\n",
    "      .merge(\n",
    "        silver_df.alias(\"new_data\"),\n",
    "        \"\"\"\n",
    "        current_data.weather_station_code = new_data.weather_station_code\n",
    "        and\n",
    "        current_data.date = new_data.date\n",
    "        \"\"\").whenNotMatchedInsertAll().execute()"
   ]
  },
  {
   "cell_type": "code",
   "execution_count": 8,
   "id": "f990e325",
   "metadata": {
    "execution": {
     "iopub.execute_input": "2023-01-30T20:55:29.944916Z",
     "iopub.status.busy": "2023-01-30T20:55:29.944520Z",
     "iopub.status.idle": "2023-01-30T20:55:29.965999Z",
     "shell.execute_reply": "2023-01-30T20:55:29.965418Z"
    },
    "papermill": {
     "duration": 0.074449,
     "end_time": "2023-01-30T20:55:29.966140",
     "exception": false,
     "start_time": "2023-01-30T20:55:29.891691",
     "status": "completed"
    },
    "tags": []
   },
   "outputs": [],
   "source": [
    "silver_df.createOrReplaceTempView(\"silver_df\")"
   ]
  },
  {
   "cell_type": "code",
   "execution_count": 9,
   "id": "f254e3d4",
   "metadata": {
    "execution": {
     "iopub.execute_input": "2023-01-30T20:55:30.043349Z",
     "iopub.status.busy": "2023-01-30T20:55:30.041939Z",
     "iopub.status.idle": "2023-01-30T20:55:35.108615Z",
     "shell.execute_reply": "2023-01-30T20:55:35.108927Z"
    },
    "papermill": {
     "duration": 5.106756,
     "end_time": "2023-01-30T20:55:35.109075",
     "exception": false,
     "start_time": "2023-01-30T20:55:30.002319",
     "status": "completed"
    },
    "tags": []
   },
   "outputs": [
    {
     "name": "stderr",
     "output_type": "stream",
     "text": [
      "\r",
      "[Stage 28:========>                                               (2 + 12) / 14]\r"
     ]
    },
    {
     "name": "stderr",
     "output_type": "stream",
     "text": [
      "\r",
      "[Stage 28:================>                                       (4 + 10) / 14]\r",
      "\r",
      "[Stage 28:========================>                                (6 + 8) / 14]\r"
     ]
    },
    {
     "name": "stderr",
     "output_type": "stream",
     "text": [
      "\r",
      "[Stage 28:============================>                            (7 + 7) / 14]\r"
     ]
    },
    {
     "name": "stderr",
     "output_type": "stream",
     "text": [
      "\r",
      "[Stage 28:================================>                        (8 + 6) / 14]\r"
     ]
    },
    {
     "name": "stderr",
     "output_type": "stream",
     "text": [
      "\r",
      "[Stage 28:============================================>           (11 + 3) / 14]\r",
      "\r",
      "                                                                                \r"
     ]
    },
    {
     "data": {
      "text/plain": [
       "DataFrame[]"
      ]
     },
     "execution_count": 9,
     "metadata": {},
     "output_type": "execute_result"
    }
   ],
   "source": [
    "spark.sql(\"\"\"\n",
    "update silver_knmi_daggegevens\n",
    "set weather_station_code = trim(weather_station_code)\n",
    "\"\"\")"
   ]
  },
  {
   "cell_type": "code",
   "execution_count": 10,
   "id": "441866b2",
   "metadata": {
    "execution": {
     "iopub.execute_input": "2023-01-30T20:55:35.195310Z",
     "iopub.status.busy": "2023-01-30T20:55:35.194945Z",
     "iopub.status.idle": "2023-01-30T20:55:35.969503Z",
     "shell.execute_reply": "2023-01-30T20:55:35.968671Z"
    },
    "papermill": {
     "duration": 0.817108,
     "end_time": "2023-01-30T20:55:35.969697",
     "exception": false,
     "start_time": "2023-01-30T20:55:35.152589",
     "status": "completed"
    },
    "tags": []
   },
   "outputs": [
    {
     "name": "stdout",
     "output_type": "stream",
     "text": [
      "+--------------------+----------------------------+\n",
      "|weather_station_code|length(weather_station_code)|\n",
      "+--------------------+----------------------------+\n",
      "|                 209|                           3|\n",
      "|                 210|                           3|\n",
      "|                 215|                           3|\n",
      "|                 225|                           3|\n",
      "|                 235|                           3|\n",
      "|                 240|                           3|\n",
      "|                 242|                           3|\n",
      "|                 248|                           3|\n",
      "|                 249|                           3|\n",
      "|                 251|                           3|\n",
      "|                 257|                           3|\n",
      "|                 258|                           3|\n",
      "|                 260|                           3|\n",
      "|                 265|                           3|\n",
      "|                 267|                           3|\n",
      "|                 269|                           3|\n",
      "|                 270|                           3|\n",
      "|                 273|                           3|\n",
      "|                 275|                           3|\n",
      "|                 277|                           3|\n",
      "+--------------------+----------------------------+\n",
      "only showing top 20 rows\n",
      "\n"
     ]
    }
   ],
   "source": [
    "spark.sql(\"\"\"\n",
    "select distinct weather_station_code, length(weather_station_code)\n",
    "from silver_knmi_daggegevens\n",
    "order by  weather_station_code\n",
    "\"\"\").show()"
   ]
  },
  {
   "cell_type": "code",
   "execution_count": null,
   "id": "1dc93c88",
   "metadata": {
    "papermill": {
     "duration": 0.03926,
     "end_time": "2023-01-30T20:55:36.053307",
     "exception": false,
     "start_time": "2023-01-30T20:55:36.014047",
     "status": "completed"
    },
    "tags": []
   },
   "outputs": [],
   "source": []
  }
 ],
 "metadata": {
  "kernelspec": {
   "display_name": "Python 3 (ipykernel)",
   "language": "python",
   "name": "python3"
  },
  "language_info": {
   "codemirror_mode": {
    "name": "ipython",
    "version": 3
   },
   "file_extension": ".py",
   "mimetype": "text/x-python",
   "name": "python",
   "nbconvert_exporter": "python",
   "pygments_lexer": "ipython3",
   "version": "3.9.7"
  },
  "papermill": {
   "default_parameters": {},
   "duration": 57.868913,
   "end_time": "2023-01-30T20:55:36.299959",
   "environment_variables": {},
   "exception": null,
   "input_path": "/home/jovyan/notebooks/knmi_daggegevens_to_silver.ipynb",
   "output_path": "test.ipynb",
   "parameters": {},
   "start_time": "2023-01-30T20:54:38.431046",
   "version": "2.4.0"
  }
 },
 "nbformat": 4,
 "nbformat_minor": 5
}