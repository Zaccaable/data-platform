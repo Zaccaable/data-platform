{
 "cells": [
  {
   "cell_type": "markdown",
   "id": "ef3312b3",
   "metadata": {},
   "source": [
    "# Initiate spark"
   ]
  },
  {
   "cell_type": "code",
   "execution_count": 3,
   "id": "ed6b75e9",
   "metadata": {},
   "outputs": [
    {
     "name": "stderr",
     "output_type": "stream",
     "text": [
      "WARNING: An illegal reflective access operation has occurred\n",
      "WARNING: Illegal reflective access by org.apache.spark.unsafe.Platform (file:/usr/local/spark-3.1.2-bin-hadoop3.2/jars/spark-unsafe_2.12-3.1.2.jar) to constructor java.nio.DirectByteBuffer(long,int)\n",
      "WARNING: Please consider reporting this to the maintainers of org.apache.spark.unsafe.Platform\n",
      "WARNING: Use --illegal-access=warn to enable warnings of further illegal reflective access operations\n",
      "WARNING: All illegal access operations will be denied in a future release\n",
      "22/10/16 09:01:40 WARN NativeCodeLoader: Unable to load native-hadoop library for your platform... using builtin-java classes where applicable\n",
      "Using Spark's default log4j profile: org/apache/spark/log4j-defaults.properties\n",
      "Setting default log level to \"WARN\".\n",
      "To adjust logging level use sc.setLogLevel(newLevel). For SparkR, use setLogLevel(newLevel).\n"
     ]
    }
   ],
   "source": [
    "import os\n",
    "\n",
    "from pyspark import SparkContext, SparkConf, SQLContext\n",
    "from pyspark.sql import SparkSession \n",
    "from pyspark.sql.types import StructType, StructField, IntegerType, StringType\n",
    "from pyspark.sql.functions import col, max, to_date, expr\n",
    "\n",
    "from delta.tables import DeltaTable\n",
    "\n",
    "conf = (\n",
    "    SparkConf()\n",
    "    .setAppName(\"Spark minIO Test\")\n",
    "    .set(\"spark.hadoop.fs.s3a.endpoint\", \"http://192.168.86.192:9000\")\n",
    "    .set(\"spark.hadoop.fs.s3a.access.key\", os.getenv('MINIO_ROOT_USER'))\n",
    "    .set(\"spark.hadoop.fs.s3a.secret.key\", os.getenv('MINIO_ROOT_PASSWORD'))\n",
    "    .set(\"spark.hadoop.fs.s3a.path.style.access\", True)\n",
    "    .set(\"spark.hadoop.fs.s3a.impl\", \"org.apache.hadoop.fs.s3a.S3AFileSystem\")\n",
    "    .set(\"spark.driver.memory\", \"8g\")\n",
    "    .set(\"spark.executor.memory\", \"8g\")\n",
    "    .set(\"spark.delta.logStore.class\", \"org.apache.spark.sql.delta.storage.S3SingleDriverLogStore\") \n",
    "    .set(\"spark.sql.extensions\", \"io.delta.sql.DeltaSparkSessionExtension\") \n",
    "    .set(\"spark.sql.catalog.spark_catalog\", \"org.apache.spark.sql.delta.catalog.DeltaCatalog\") \n",
    ")\n",
    "sc = SparkContext(conf=conf).getOrCreate()\n",
    "spark = SparkSession(sc).builder.getOrCreate()"
   ]
  },
  {
   "cell_type": "code",
   "execution_count": 4,
   "id": "c15d3d7f",
   "metadata": {},
   "outputs": [],
   "source": [
    "from delta.tables import DeltaTable"
   ]
  },
  {
   "cell_type": "code",
   "execution_count": 5,
   "id": "581452d6",
   "metadata": {},
   "outputs": [
    {
     "name": "stderr",
     "output_type": "stream",
     "text": [
      "22/10/16 09:01:44 WARN MetricsConfig: Cannot locate configuration: tried hadoop-metrics2-s3a-file-system.properties,hadoop-metrics2.properties\n",
      "                                                                                \r"
     ]
    }
   ],
   "source": [
    "df = spark.read.format('delta').load('s3a://silver-knmi/uurgegevens')"
   ]
  },
  {
   "cell_type": "code",
   "execution_count": 6,
   "id": "c936bfad",
   "metadata": {},
   "outputs": [
    {
     "name": "stderr",
     "output_type": "stream",
     "text": [
      "22/10/16 09:01:59 WARN package: Truncated the string representation of a plan since it was too large. This behavior can be adjusted by setting 'spark.sql.debug.maxToStringFields'.\n"
     ]
    },
    {
     "name": "stdout",
     "output_type": "stream",
     "text": [
      "+--------------------+----------+-----+------------------------------+-----------------------------------+----------------------------------------------------+---------------------------------+-----------+-----------------------------+---------------------+-----------------+-----------------------------+-------------------------------+-------------------------+------------------------+---------------+----------------------+--------+------------+------------------------+-------------+--------------+--------------+-----------------+-------------+--------------------+\n",
      "|weather_station_code|      date| hour|mean_wind_direction_in_degrees|mean_windspeed_in_meters_per_second|mean_windspeed_in_meters_per_second_last_ten_minutes|max_windgust_in_meters_per_second|temperature|min_temp_at_10cm_above_ground|dew_point_temperature|sunshine_duration|global_radiation_in_J_per_cm2|precipitation_duration_in_hours|precipitaion_amount_in_mm|sealevel_pressure_in_hPa|visibility_in_m|cloud_cover_in_octants|humidity|weather_code|manned_station_indicator|fog_indicator|rain_indicator|snow_indicator|thunder_indicator|ice_indicator|       load_datetime|\n",
      "+--------------------+----------+-----+------------------------------+-----------------------------------+----------------------------------------------------+---------------------------------+-----------+-----------------------------+---------------------+-----------------+-----------------------------+-------------------------------+-------------------------+------------------------+---------------+----------------------+--------+------------+------------------------+-------------+--------------+--------------+-----------------+-------------+--------------------+\n",
      "|                 209|2006-02-17|   10|                           170|                                9.0|                                                 9.0|                             13.0|       null|                         null|                 null|                 |                             |                           null|                     null|                    null|           null|                      |        |            |                       6|             |              |              |                 |             |2021-09-06 21:08:...|\n",
      "|                 209|2006-02-22|   22|                            40|                                7.0|                                                 7.0|                             11.0|       null|                         null|                 null|                 |                             |                           null|                     null|                    null|           null|                      |        |            |                       6|             |              |              |                 |             |2021-09-06 21:08:...|\n",
      "|                 209|2006-02-23|   14|                            70|                                5.0|                                                 5.0|                              7.0|       null|                         null|                 null|                 |                             |                           null|                     null|                    null|           null|                      |        |            |                       6|             |              |              |                 |             |2021-09-06 21:08:...|\n",
      "|                 209|2006-03-01|   13|                           260|                               13.0|                                                14.0|                             17.0|       null|                         null|                 null|                 |                             |                           null|                     null|                    null|           null|                      |        |            |                       6|             |              |              |                 |             |2021-09-06 21:08:...|\n",
      "|                 209|2006-03-11|   12|                            20|                               11.0|                                                11.0|                             14.0|       null|                         null|                 null|                 |                             |                           null|                     null|                    null|           null|                      |        |            |                       6|             |              |              |                 |             |2021-09-06 21:08:...|\n",
      "|                 210|2006-03-11|   11|                            40|                                9.0|                                                 9.0|                             14.0|        0.6|                         null|                 -3.1|                6|                           90|                            0.0|                      0.0|                  1015.2|         7600.0|                     8|      76|            |                       5|            0|             0|             0|                0|            0|2021-09-06 21:08:...|\n",
      "|                 225|2006-02-14|   15|                           210|                                8.0|                                                 9.0|                             11.0|       null|                         null|                 null|                 |                             |                           null|                     null|                    null|           null|                      |        |            |                       6|             |              |              |                 |             |2021-09-06 21:08:...|\n",
      "|                 225|2006-02-17|   18|                           220|                                9.0|                                                 9.0|                             12.0|       null|                         null|                 null|                 |                             |                           null|                     null|                    null|           null|                      |        |            |                       6|             |              |              |                 |             |2021-09-06 21:08:...|\n",
      "|                 225|2006-02-22|    5|                            70|                               11.0|                                                13.0|                             15.0|       null|                         null|                 null|                 |                             |                           null|                     null|                    null|           null|                      |        |            |                       6|             |              |              |                 |             |2021-09-06 21:08:...|\n",
      "|                 225|2006-03-02|   19|                           270|                                9.0|                                                 8.0|                             11.0|       null|                         null|                 null|                 |                             |                           null|                     null|                    null|           null|                      |        |            |                       6|             |              |              |                 |             |2021-09-06 21:08:...|\n",
      "|                 225|2006-03-06|    7|                           300|                                7.0|                                                 5.0|                             10.0|       null|                         null|                 null|                 |                             |                           null|                     null|                    null|           null|                      |        |            |                       6|             |              |              |                 |             |2021-09-06 21:08:...|\n",
      "|                 235|2006-02-16|   21|                           210|                                7.0|                                                 6.0|                             11.0|        4.4|                         null|                  3.5|                0|                            0|                            0.0|                      0.0|                   984.8|         5900.0|                     2|      94|          10|                       7|            0|             0|             0|                0|            0|2021-09-06 21:08:...|\n",
      "|                 235|2006-02-22|    2|                            70|                               10.0|                                                10.0|                             14.0|        2.2|                         null|                  0.0|                0|                            0|                            0.0|                      0.0|                  1025.8|         6000.0|                     8|      85|          10|                       7|            0|             0|             0|                0|            0|2021-09-06 21:08:...|\n",
      "|                 235|2006-02-24|   10|                            80|                                9.0|                                                 9.0|                             12.0|        1.3|                         null|                 -3.0|               10|                          113|                            0.0|                      0.0|                  1025.0|         6500.0|                     0|      73|            |                       5|            0|             0|             0|                0|            0|2021-09-06 21:08:...|\n",
      "|                 235|2006-03-13|    5|                           140|                                3.0|                                                 3.0|                              5.0|       -3.7|                         null|                 -7.0|                0|                            0|                            0.0|                      0.0|                  1035.2|         6400.0|                     0|      75|            |                       5|            0|             0|             0|                0|            0|2021-09-06 21:08:...|\n",
      "|                 235|2006-03-13|   24|                           120|                                6.0|                                                 6.0|                              9.0|       -1.0|                         -2.0|                 -4.3|                0|                            0|                            0.0|                      0.0|                  1029.6|         6200.0|                     2|      76|            |                       5|            0|             0|             0|                0|            0|2021-09-06 21:08:...|\n",
      "|                 240|2006-02-19|   22|                            70|                                8.0|                                                 8.0|                             12.0|        4.3|                         null|                  2.0|                0|                            0|                            0.0|                      0.0|                  1004.5|         5700.0|                     8|      85|          10|                       7|            0|             0|             0|                0|            0|2021-09-06 21:08:...|\n",
      "|                 240|2006-03-12|   18|                            80|                                2.0|                                                 3.0|                              4.0|       -1.9|                         -3.0|                 -7.3|                0|                            5|                            0.0|                      0.0|                  1034.1|         8100.0|                     0|      63|            |                       5|            0|             0|             0|                0|            0|2021-09-06 21:08:...|\n",
      "|                 240|2006-03-13|   22|                           110|                                5.0|                                                 4.0|                              7.0|       -1.2|                         null|                 -6.0|                0|                            0|                            0.0|                      0.0|                  1029.9|         7100.0|                     7|      67|            |                       5|            0|             0|             0|                0|            0|2021-09-06 21:08:...|\n",
      "|                 240|2006-03-15|    7|                            80|                                5.0|                                                 4.0|                              7.0|       -1.4|                         null|                 -4.1|                0|                            9|                            0.0|                      0.0|                  1024.4|         5900.0|                     5|      80|          10|                       7|            0|             0|             0|                0|            0|2021-09-06 21:08:...|\n",
      "+--------------------+----------+-----+------------------------------+-----------------------------------+----------------------------------------------------+---------------------------------+-----------+-----------------------------+---------------------+-----------------+-----------------------------+-------------------------------+-------------------------+------------------------+---------------+----------------------+--------+------------+------------------------+-------------+--------------+--------------+-----------------+-------------+--------------------+\n",
      "only showing top 20 rows\n",
      "\n"
     ]
    },
    {
     "name": "stderr",
     "output_type": "stream",
     "text": [
      "\r",
      "[Stage 5:>                                                          (0 + 1) / 1]\r",
      "\r",
      "                                                                                \r"
     ]
    }
   ],
   "source": [
    "df.show()"
   ]
  },
  {
   "cell_type": "code",
   "execution_count": 7,
   "id": "a8712232",
   "metadata": {},
   "outputs": [
    {
     "name": "stderr",
     "output_type": "stream",
     "text": [
      "                                                                                \r"
     ]
    }
   ],
   "source": [
    "df.coalesce(1).write.format(\"delta\").save('s3a://test-bucket/uurgegevens')"
   ]
  },
  {
   "cell_type": "code",
   "execution_count": 8,
   "id": "e91417c4",
   "metadata": {},
   "outputs": [],
   "source": [
    "df_stations = spark.read.format('delta').load('s3a://silver-knmi/weather_stations')"
   ]
  },
  {
   "cell_type": "code",
   "execution_count": 15,
   "id": "a72f8b8c",
   "metadata": {},
   "outputs": [],
   "source": [
    "df_stations.coalesce(1).write.format(\"delta\").mode('overwrite').save('s3a://test-bucket/weather_stations')"
   ]
  },
  {
   "cell_type": "code",
   "execution_count": 16,
   "id": "321c28ec",
   "metadata": {},
   "outputs": [],
   "source": [
    "df_date = spark.read.format('delta').load('s3a://silver-generated/dim_date')"
   ]
  },
  {
   "cell_type": "code",
   "execution_count": 17,
   "id": "cf776459",
   "metadata": {},
   "outputs": [
    {
     "name": "stderr",
     "output_type": "stream",
     "text": [
      "                                                                                \r"
     ]
    }
   ],
   "source": [
    "df_date.coalesce(1).write.format(\"delta\").save('s3a://test-bucket/dim_date')"
   ]
  },
  {
   "cell_type": "code",
   "execution_count": null,
   "id": "88680fdc",
   "metadata": {},
   "outputs": [],
   "source": []
  }
 ],
 "metadata": {
  "kernelspec": {
   "display_name": "Python 3 (ipykernel)",
   "language": "python",
   "name": "python3"
  },
  "language_info": {
   "codemirror_mode": {
    "name": "ipython",
    "version": 3
   },
   "file_extension": ".py",
   "mimetype": "text/x-python",
   "name": "python",
   "nbconvert_exporter": "python",
   "pygments_lexer": "ipython3",
   "version": "3.9.7"
  }
 },
 "nbformat": 4,
 "nbformat_minor": 5
}
