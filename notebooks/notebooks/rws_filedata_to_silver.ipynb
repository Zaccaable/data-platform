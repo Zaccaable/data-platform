{
 "cells": [
  {
   "cell_type": "code",
   "execution_count": 2,
   "id": "ab621960",
   "metadata": {},
   "outputs": [
    {
     "name": "stderr",
     "output_type": "stream",
     "text": [
      "WARNING: An illegal reflective access operation has occurred\n",
      "WARNING: Illegal reflective access by org.apache.spark.unsafe.Platform (file:/usr/local/spark-3.1.2-bin-hadoop3.2/jars/spark-unsafe_2.12-3.1.2.jar) to constructor java.nio.DirectByteBuffer(long,int)\n",
      "WARNING: Please consider reporting this to the maintainers of org.apache.spark.unsafe.Platform\n",
      "WARNING: Use --illegal-access=warn to enable warnings of further illegal reflective access operations\n",
      "WARNING: All illegal access operations will be denied in a future release\n",
      "22/09/30 21:34:50 WARN NativeCodeLoader: Unable to load native-hadoop library for your platform... using builtin-java classes where applicable\n",
      "Using Spark's default log4j profile: org/apache/spark/log4j-defaults.properties\n",
      "Setting default log level to \"WARN\".\n",
      "To adjust logging level use sc.setLogLevel(newLevel). For SparkR, use setLogLevel(newLevel).\n",
      "22/09/30 21:34:51 WARN Utils: Service 'SparkUI' could not bind on port 4040. Attempting port 4041.\n"
     ]
    }
   ],
   "source": [
    "import os\n",
    "from pyspark import SparkContext, SparkConf, SQLContext\n",
    "from pyspark.sql import SparkSession \n",
    "from pyspark.sql.types import StructType, StructField, IntegerType, StringType\n",
    "\n",
    "conf = (\n",
    "    SparkConf()\n",
    "    .setAppName(\"knmi daily weather to bronze\")\n",
    "    .set(\"spark.hadoop.fs.s3a.endpoint\", \"http://192.168.86.192:9000\")\n",
    "    .set(\"spark.hadoop.fs.s3a.access.key\", 'minio')\n",
    "    .set(\"spark.hadoop.fs.s3a.secret.key\", 'minio123')\n",
    "    .set(\"spark.hadoop.fs.s3a.path.style.access\", True)\n",
    "    .set(\"spark.hadoop.fs.s3a.impl\", \"org.apache.hadoop.fs.s3a.S3AFileSystem\")\n",
    "    .set(\"spark.driver.memory\", \"8g\")\n",
    "    .set(\"spark.executor.memory\", \"8g\")\n",
    "    .set(\"spark.delta.logStore.class\", \"org.apache.spark.sql.delta.storage.S3SingleDriverLogStore\") \n",
    "    .set(\"spark.sql.extensions\", \"io.delta.sql.DeltaSparkSessionExtension\") \n",
    "    .set(\"spark.sql.catalog.spark_catalog\", \"org.apache.spark.sql.delta.catalog.DeltaCatalog\") \n",
    ")\n",
    "sc = SparkContext(conf=conf).getOrCreate()\n",
    "#sqlContext = SQLContext(sc)\n",
    "spark = SparkSession(sc).builder.getOrCreate()"
   ]
  },
  {
   "cell_type": "code",
   "execution_count": 4,
   "id": "6df83628",
   "metadata": {},
   "outputs": [
    {
     "name": "stderr",
     "output_type": "stream",
     "text": [
      "                                                                                \r"
     ]
    }
   ],
   "source": [
    "df = spark.read.format('delta').load('s3a://bronze-rws/filedata')"
   ]
  },
  {
   "cell_type": "code",
   "execution_count": 7,
   "id": "702995c3",
   "metadata": {},
   "outputs": [
    {
     "data": {
      "text/plain": [
       "['NLSitNummer',\n",
       " 'DatumFileBegin',\n",
       " 'DatumFileEind',\n",
       " 'TijdFileBegin',\n",
       " 'TijdFileEind',\n",
       " 'FileZwaarte',\n",
       " 'GemLengte',\n",
       " 'FileDuur',\n",
       " 'HectometerKop',\n",
       " 'HectometerStaart',\n",
       " 'RouteLet',\n",
       " 'RouteNum',\n",
       " 'RouteOms',\n",
       " 'hectometreringsrichting',\n",
       " 'KopWegvakVan',\n",
       " 'KopWegvakNaar',\n",
       " 'TrajVan',\n",
       " 'TrajNaar',\n",
       " 'OorzaakGronddetail',\n",
       " 'OorzaakVerloop',\n",
       " 'OorzaakCodeVerloop',\n",
       " 'OorzaakCode',\n",
       " 'Oorzaak_1',\n",
       " 'Oorzaak_2',\n",
       " 'Oorzaak_3',\n",
       " 'Oorzaak_4']"
      ]
     },
     "execution_count": 7,
     "metadata": {},
     "output_type": "execute_result"
    }
   ],
   "source": [
    "df.columns"
   ]
  },
  {
   "cell_type": "code",
   "execution_count": 27,
   "id": "baba66bf",
   "metadata": {},
   "outputs": [],
   "source": [
    "from pyspark.sql.functions import col, max, to_date, expr, date_format, regexp_replace\n",
    "df_silver = df.select(\n",
    " col('NLSitNummer'),\n",
    " to_date(col('DatumFileBegin'), 'yyyy-MM-dd').alias('DatumFileBegin'),\n",
    " to_date(col('DatumFileEind'), 'yyyy-MM-dd').alias('DatumFileEind'),\n",
    " date_format(col('TijdFileBegin'),'HH:mm:ss').alias('TijdFileBegin'),\n",
    " date_format(col('TijdFileEind'),'HH:mm:ss').alias('TijdFileEind'),\n",
    " regexp_replace(col('FileZwaarte'), ',', '.').cast('decimal(17,3)').alias('FileZwaarte'),\n",
    " regexp_replace(col('GemLengte'), ',', '.').cast('decimal(17,3)').alias('GemLengte'),\n",
    " regexp_replace(col('FileDuur'), ',', '.').cast('decimal(17,3)').alias('FileDuur'),\n",
    " col('HectometerKop'),\n",
    " col('HectometerStaart'),\n",
    " col('RouteLet'),\n",
    " col('RouteNum'),\n",
    " col('RouteOms'),\n",
    " col('hectometreringsrichting'),\n",
    " col('KopWegvakVan'),\n",
    " col('KopWegvakNaar'),\n",
    " col('TrajVan'),\n",
    " col('TrajNaar'),\n",
    " col('OorzaakGronddetail'),\n",
    " col('OorzaakVerloop'),\n",
    " col('OorzaakCodeVerloop'),\n",
    " col('OorzaakCode'),\n",
    " col('Oorzaak_1'),\n",
    " col('Oorzaak_2'),\n",
    " col('Oorzaak_3'),\n",
    " col('Oorzaak_4')\n",
    ")"
   ]
  },
  {
   "cell_type": "code",
   "execution_count": 28,
   "id": "4f50b991",
   "metadata": {
    "scrolled": true
   },
   "outputs": [
    {
     "name": "stdout",
     "output_type": "stream",
     "text": [
      "+-----------+--------------+-------------+-------------+------------+-----------+---------+--------+-------------+----------------+--------+--------+--------+-----------------------+--------------------+---------------+--------------+---------------+--------------------+--------------------+------------------+-----------+--------------------+-------------------+---------+----------------+\n",
      "|NLSitNummer|DatumFileBegin|DatumFileEind|TijdFileBegin|TijdFileEind|FileZwaarte|GemLengte|FileDuur|HectometerKop|HectometerStaart|RouteLet|RouteNum|RouteOms|hectometreringsrichting|        KopWegvakVan|  KopWegvakNaar|       TrajVan|       TrajNaar|  OorzaakGronddetail|      OorzaakVerloop|OorzaakCodeVerloop|OorzaakCode|           Oorzaak_1|          Oorzaak_2|Oorzaak_3|       Oorzaak_4|\n",
      "+-----------+--------------+-------------+-------------+------------+-----------+---------+--------+-------------+----------------+--------+--------+--------+-----------------------+--------------------+---------------+--------------+---------------+--------------------+--------------------+------------------+-----------+--------------------+-------------------+---------+----------------+\n",
      "|    3059919|    2022-06-03|   2022-06-03|     16:11:29|    16:22:01|     36.513| 3466.456|  10.533|          9,1|             4,3|       A|      10|     A10|               oplopend|           Durgerdam|Zeeburgertunnel|     Coenplein|Watergraafsmeer|Spitsfile (geen o...|[Geen oorzaakcode...|             [000]|        001|Spitsfile (geen o...|Geen oorzaak gemeld|   Drukte|Hoge intensiteit|\n",
      "|    3059921|    2022-06-03|   2022-06-03|     16:11:29|    17:40:03|    312.613| 3529.695|  88.567|         24,3|            22,1|       A|      30|     A30|               oplopend|     Barneveld-Noord|      Barneveld|      Lunteren|      Barneveld|Spitsfile (geen o...|[Geen oorzaakcode...|             [000]|        001|Spitsfile (geen o...|Geen oorzaak gemeld|   Drukte|Hoge intensiteit|\n",
      "|    3059922|    2022-06-03|   2022-06-03|     16:11:29|    16:13:00|      3.792| 2500.000|   1.517|        147,9|           150,4|       A|      50|     A50|               aflopend|         Tacitusbrug|          Ewijk|        Arnhem|            Oss|Spitsfile (geen o...|[Geen oorzaakcode...|             [000]|        001|Spitsfile (geen o...|Geen oorzaak gemeld|   Drukte|Hoge intensiteit|\n",
      "|    3059923|    2022-06-03|   2022-06-03|     16:11:29|    16:40:13|    122.240| 4254.292|  28.733|        115,5|           111,9|       A|      73|     A73|               oplopend|           Beuningen|          Ewijk|    Maasbracht|       Nijmegen|Spitsfile (geen o...|[Geen oorzaakcode...|             [000]|        001|Spitsfile (geen o...|Geen oorzaak gemeld|   Drukte|Hoge intensiteit|\n",
      "|    3059924|    2022-06-03|   2022-06-03|     16:11:29|    16:20:04|     51.692| 6022.330|   8.583|         31,9|            37,7|       A|       9|      A9|               aflopend|      Amc Ziekenhuis|    Holendrecht|    Den Helder|         Diemen|Spitsfile (geen o...|[Geen oorzaakcode...|             [000]|        001|Spitsfile (geen o...|Geen oorzaak gemeld|   Drukte|Hoge intensiteit|\n",
      "|    3060022|    2022-06-03|   2022-06-03|     16:20:30|    16:34:01|     41.118| 3042.047|  13.517|         96,1|            98,2|       A|       7|      A7|               aflopend|Brug Over De Lore...| P Breezanddijk|        Bremen|       Zaanstad|Spitsfile (geen o...|[Geen oorzaakcode...|             [000]|        001|Spitsfile (geen o...|Geen oorzaak gemeld|   Drukte|Hoge intensiteit|\n",
      "|    3060023|    2022-06-03|   2022-06-03|     16:21:29|    16:26:02|     10.363| 2277.656|   4.550|         37,2|            34,9|       A|       9|      A9|               oplopend|        Badhoevedorp|   Badhoevedorp|    Amstelveen|        Alkmaar|Spitsfile (geen o...|[Geen oorzaakcode...|             [000]|        001|Spitsfile (geen o...|Geen oorzaak gemeld|   Drukte|Hoge intensiteit|\n",
      "|    3060024|    2022-06-03|   2022-06-03|     16:20:30|    16:24:01|      7.385| 2100.000|   3.517|        223,2|           225,3|       N|      18|     N18|               aflopend|  Lichtenvoorde-Zuid|      Harreveld|      Enschede|     Varsseveld|Spitsfile (geen o...|[Geen oorzaakcode...|             [000]|        001|Spitsfile (geen o...|Geen oorzaak gemeld|   Drukte|Hoge intensiteit|\n",
      "|    3060025|    2022-06-03|   2022-06-03|     16:21:29|    16:34:02|     35.550| 2832.669|  12.550|         39,7|            42,5|       N|      35|     N35|               aflopend|        Wierden-West|        Rijssen|        Gronau|         Zwolle|Spitsfile (geen o...|[Geen oorzaakcode...|             [000]|        001|Spitsfile (geen o...|Geen oorzaak gemeld|   Drukte|Hoge intensiteit|\n",
      "|    3060026|    2022-06-03|   2022-06-03|     16:20:30|    16:28:02|     18.480| 2453.097|   7.533|         47,7|            50,2|       N|      59|     N59|               aflopend|      Hellegatsplein|     Den Bommel|Hellegatsplein|     Oude-Tonge|Spitsfile (geen o...|[Geen oorzaakcode...|             [000]|        001|Spitsfile (geen o...|Geen oorzaak gemeld|   Drukte|Hoge intensiteit|\n",
      "|    3060137|    2022-06-03|   2022-06-03|     16:32:30|    16:38:01|     11.738| 2127.795|   5.517|        254,1|           256,2|       N|      50|     N50|               aflopend|          Eilandbrug|   Kampen-Noord|     Emmeloord|         Zwolle|Spitsfile (geen o...|[Geen oorzaakcode...|             [000]|        001|Spitsfile (geen o...|Geen oorzaak gemeld|   Drukte|Hoge intensiteit|\n",
      "|    3060138|    2022-06-03|   2022-06-03|     16:33:30|    16:36:02|      5.827| 2300.000|   2.533|         23,9|            21,6|       N|      57|     N57|               oplopend|          Goedereede|        Ouddorp|    Stellendam|        Ouddorp|Spitsfile (geen o...|[Geen oorzaakcode...|             [000]|        001|Spitsfile (geen o...|Geen oorzaak gemeld|   Drukte|Hoge intensiteit|\n",
      "|    3060142|    2022-06-03|   2022-06-03|     16:35:30|    16:40:02|      9.973| 2200.000|   4.533|         59,2|            61,4|       A|      12|     A12|               aflopend|      Galecopperbrug|     Nieuwegein|       Utrecht|       Den Haag|Spitsfile (geen o...|[Geen oorzaakcode...|             [000]|        001|Spitsfile (geen o...|Geen oorzaak gemeld|   Drukte|Hoge intensiteit|\n",
      "|    3060143|    2022-06-03|   2022-06-03|     16:35:30|    16:46:00|     26.517| 2525.397|  10.500|         62,5|            60,3|       A|      12|     A12|               oplopend|              Houten|       Lunetten|      Den Haag|        Utrecht|Spitsfile (geen o...|[Geen oorzaakcode...|             [000]|        001|Spitsfile (geen o...|Geen oorzaak gemeld|   Drukte|Hoge intensiteit|\n",
      "|    3060145|    2022-06-03|   2022-06-03|     16:34:30|    17:46:01|    329.195| 4603.053|  71.517|         48,3|            55,5|       A|      27|     A27|               aflopend|             Lexmond|     Noordeloos|       Utrecht|      Gorinchem|Spitsfile (geen o...|[Geen oorzaakcode...|             [000]|        001|Spitsfile (geen o...|Geen oorzaak gemeld|   Drukte|Hoge intensiteit|\n",
      "|    3060249|    2022-06-03|   2022-06-03|     16:44:29|    16:48:01|      9.540| 2700.000|   3.533|          9,8|            12,5|       A|      76|     A76|               aflopend|            Spaubeek|         Geleen|          Aken|         Geleen|Spitsfile (geen o...|[Geen oorzaakcode...|             [000]|        001|Spitsfile (geen o...|Geen oorzaak gemeld|   Drukte|Hoge intensiteit|\n",
      "|    3060250|    2022-06-03|   2022-06-03|     16:44:29|    17:01:01|     36.168| 2187.601|  16.533|         23,9|            21,9|       N|      57|     N57|               oplopend|          Goedereede|        Ouddorp|    Stellendam|        Ouddorp|Spitsfile (geen o...|[Geen oorzaakcode...|             [000]|        001|Spitsfile (geen o...|Geen oorzaak gemeld|   Drukte|Hoge intensiteit|\n",
      "|    3060251|    2022-06-03|   2022-06-03|     16:45:29|    17:01:01|     53.125| 3420.064|  15.533|         36,4|            39,9|       N|      59|     N59|               aflopend|        Middelharnis|    Steenbergen|Hellegatsplein|      Zierikzee|Spitsfile (geen o...|[Geen oorzaakcode...|             [000]|        001|Spitsfile (geen o...|Geen oorzaak gemeld|   Drukte|Hoge intensiteit|\n",
      "|    3060252|    2022-06-03|   2022-06-03|     16:47:30|    17:36:00|    247.847| 5110.241|  48.500|         50,8|            54,7|       A|      12|     A12|               aflopend|            Harmelen|       Harmelen|       Utrecht|       Den Haag|Spitsfile (geen o...|[Geen oorzaakcode...|             [000]|        001|Spitsfile (geen o...|Geen oorzaak gemeld|   Drukte|Hoge intensiteit|\n",
      "|    3060253|    2022-06-03|   2022-06-03|     16:47:30|    16:54:00|     21.628| 3327.436|   6.500|         72,7|            69,6|       A|      12|     A12|               oplopend|               Maarn|    Maarsbergen|       Utrecht|         Arnhem|Spitsfile (geen o...|[Geen oorzaakcode...|             [000]|        001|Spitsfile (geen o...|Geen oorzaak gemeld|   Drukte|Hoge intensiteit|\n",
      "+-----------+--------------+-------------+-------------+------------+-----------+---------+--------+-------------+----------------+--------+--------+--------+-----------------------+--------------------+---------------+--------------+---------------+--------------------+--------------------+------------------+-----------+--------------------+-------------------+---------+----------------+\n",
      "only showing top 20 rows\n",
      "\n"
     ]
    }
   ],
   "source": [
    "df_silver.show()"
   ]
  },
  {
   "cell_type": "code",
   "execution_count": 30,
   "id": "9e35eece",
   "metadata": {},
   "outputs": [
    {
     "name": "stderr",
     "output_type": "stream",
     "text": [
      "                                                                                \r"
     ]
    }
   ],
   "source": [
    "df_silver.coalesce(1).write.format(\"delta\").mode(\"overwrite\").option(\"mergeSchema\", \"true\").save('s3a://silver-rws/filedata')\n",
    "#df.write.format(\"csv\").mode(\"overwrite\").save('s3a://test-bucket/filedata')"
   ]
  },
  {
   "cell_type": "code",
   "execution_count": null,
   "id": "1b837eb2",
   "metadata": {},
   "outputs": [],
   "source": []
  }
 ],
 "metadata": {
  "kernelspec": {
   "display_name": "Python 3 (ipykernel)",
   "language": "python",
   "name": "python3"
  },
  "language_info": {
   "codemirror_mode": {
    "name": "ipython",
    "version": 3
   },
   "file_extension": ".py",
   "mimetype": "text/x-python",
   "name": "python",
   "nbconvert_exporter": "python",
   "pygments_lexer": "ipython3",
   "version": "3.9.7"
  }
 },
 "nbformat": 4,
 "nbformat_minor": 5
}
