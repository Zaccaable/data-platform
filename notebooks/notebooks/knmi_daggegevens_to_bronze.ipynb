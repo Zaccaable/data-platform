{
 "cells": [
  {
   "cell_type": "markdown",
   "id": "ef3312b3",
   "metadata": {},
   "source": [
    "# Initiate spark"
   ]
  },
  {
   "cell_type": "code",
   "execution_count": 1,
   "id": "ed6b75e9",
   "metadata": {},
   "outputs": [
    {
     "name": "stderr",
     "output_type": "stream",
     "text": [
      "WARNING: An illegal reflective access operation has occurred\n",
      "WARNING: Illegal reflective access by org.apache.spark.unsafe.Platform (file:/usr/local/spark-3.1.2-bin-hadoop3.2/jars/spark-unsafe_2.12-3.1.2.jar) to constructor java.nio.DirectByteBuffer(long,int)\n",
      "WARNING: Please consider reporting this to the maintainers of org.apache.spark.unsafe.Platform\n",
      "WARNING: Use --illegal-access=warn to enable warnings of further illegal reflective access operations\n",
      "WARNING: All illegal access operations will be denied in a future release\n",
      "22/12/20 21:20:55 WARN NativeCodeLoader: Unable to load native-hadoop library for your platform... using builtin-java classes where applicable\n",
      "Using Spark's default log4j profile: org/apache/spark/log4j-defaults.properties\n",
      "Setting default log level to \"WARN\".\n",
      "To adjust logging level use sc.setLogLevel(newLevel). For SparkR, use setLogLevel(newLevel).\n",
      "22/12/20 21:20:56 WARN Utils: Service 'SparkUI' could not bind on port 4040. Attempting port 4041.\n"
     ]
    }
   ],
   "source": [
    "import os\n",
    "from pyspark import SparkContext, SparkConf, SQLContext\n",
    "from pyspark.sql import SparkSession \n",
    "from pyspark.sql.types import StructType, StructField, IntegerType, StringType\n",
    "\n",
    "conf = (\n",
    "    SparkConf()\n",
    "    .setAppName(\"knmi daily weather to bronze\")\n",
    "    .set(\"spark.hadoop.fs.s3a.endpoint\", \"http://192.168.86.192:9000\")\n",
    "    .set(\"spark.hadoop.fs.s3a.access.key\", os.getenv('MINIO_ROOT_USER'))\n",
    "    .set(\"spark.hadoop.fs.s3a.secret.key\", os.getenv('MINIO_ROOT_PASSWORD'))\n",
    "    .set(\"spark.hadoop.fs.s3a.path.style.access\", True)\n",
    "    .set(\"spark.hadoop.fs.s3a.impl\", \"org.apache.hadoop.fs.s3a.S3AFileSystem\")\n",
    "    .set(\"spark.driver.memory\", \"8g\")\n",
    "    .set(\"spark.executor.memory\", \"8g\")\n",
    "    .set(\"spark.delta.logStore.class\", \"org.apache.spark.sql.delta.storage.S3SingleDriverLogStore\") \n",
    "    .set(\"spark.sql.extensions\", \"io.delta.sql.DeltaSparkSessionExtension\") \n",
    "    .set(\"spark.sql.catalog.spark_catalog\", \"org.apache.spark.sql.delta.catalog.DeltaCatalog\") \n",
    ")\n",
    "sc = SparkContext(conf=conf).getOrCreate()\n",
    "#sqlContext = SQLContext(sc)\n",
    "spark = SparkSession(sc).builder.getOrCreate()"
   ]
  },
  {
   "cell_type": "code",
   "execution_count": 2,
   "id": "2aa4083a",
   "metadata": {},
   "outputs": [],
   "source": [
    "schema = (StructType([\n",
    "    StructField(\"STN\", StringType(), True),\n",
    "    StructField(\"YYYYMMDD\", StringType(), True),\n",
    "    StructField(\"DDVEC\", StringType(), True),\n",
    "    StructField(\"FHVEC\", StringType(), True),\n",
    "    StructField(\"FG\", StringType(), True),\n",
    "    StructField(\"FHX\", StringType(), True),\n",
    "    StructField(\"FHXH\", StringType(), True),\n",
    "    StructField(\"FHN\", StringType(), True),\n",
    "    StructField(\"FHNH\", StringType(), True),\n",
    "    StructField(\"FXX\", StringType(), True),\n",
    "    StructField(\"FXXH\", StringType(), True),\n",
    "    StructField(\"TG\", StringType(), True),\n",
    "    StructField(\"TN\", StringType(), True),\n",
    "    StructField(\"TNH\", StringType(), True),\n",
    "    StructField(\"TX\", StringType(), True),\n",
    "    StructField(\"TXH\", StringType(), True),\n",
    "    StructField(\"T10N\", StringType(), True),\n",
    "    StructField(\"T10NH\", StringType(), True),\n",
    "    StructField(\"SQ\", StringType(), True),\n",
    "    StructField(\"SP\", StringType(), True),\n",
    "    StructField(\"Q\", StringType(), True),\n",
    "    StructField(\"DR\", StringType(), True),\n",
    "    StructField(\"RH\", StringType(), True),\n",
    "    StructField(\"RHX\", StringType(), True),\n",
    "    StructField(\"RHXH\", StringType(), True),\n",
    "    StructField(\"PG\", StringType(), True),\n",
    "    StructField(\"PX\", StringType(), True),\n",
    "    StructField(\"PXH\", StringType(), True),\n",
    "    StructField(\"PN\", StringType(), True),\n",
    "    StructField(\"PNH\", StringType(), True),\n",
    "    StructField(\"VVN\", StringType(), True),\n",
    "    StructField(\"VVNH\", StringType(), True),\n",
    "    StructField(\"VVX\", StringType(), True),\n",
    "    StructField(\"VVXH\", StringType(), True),\n",
    "    StructField(\"NG\", StringType(), True),\n",
    "    StructField(\"UG\", StringType(), True),\n",
    "    StructField(\"UX\", StringType(), True),\n",
    "    StructField(\"UXH\", StringType(), True),\n",
    "    StructField(\"UN\", StringType(), True),\n",
    "    StructField(\"UNH\", StringType(), True),\n",
    "    StructField(\"EV24\", StringType(), True)\n",
    "])\n",
    ")"
   ]
  },
  {
   "cell_type": "code",
   "execution_count": 19,
   "id": "fe41bd53",
   "metadata": {},
   "outputs": [
    {
     "name": "stderr",
     "output_type": "stream",
     "text": [
      "\r",
      "[Stage 34:=================================================>   (468 + 20) / 500]\r",
      "\r",
      "                                                                                \r"
     ]
    }
   ],
   "source": [
    "df = spark.read.csv('s3a://landing-knmi/daggegevens/*', header=False, comment='#', schema=schema)"
   ]
  },
  {
   "cell_type": "code",
   "execution_count": 20,
   "id": "5b4e7823",
   "metadata": {},
   "outputs": [
    {
     "name": "stdout",
     "output_type": "stream",
     "text": [
      "+-----+--------+-----+-----+-----+-----+-----+-----+-----+-----+-----+-----+-----+-----+-----+-----+-----+-----+-----+-----+-----+-----+-----+-----+-----+-----+-----+-----+-----+-----+-----+-----+-----+-----+-----+-----+-----+-----+-----+-----+-----+--------------------+\n",
      "|  STN|YYYYMMDD|DDVEC|FHVEC|   FG|  FHX| FHXH|  FHN| FHNH|  FXX| FXXH|   TG|   TN|  TNH|   TX|  TXH| T10N|T10NH|   SQ|   SP|    Q|   DR|   RH|  RHX| RHXH|   PG|   PX|  PXH|   PN|  PNH|  VVN| VVNH|  VVX| VVXH|   NG|   UG|   UX|  UXH|   UN|  UNH| EV24|       load_datetime|\n",
      "+-----+--------+-----+-----+-----+-----+-----+-----+-----+-----+-----+-----+-----+-----+-----+-----+-----+-----+-----+-----+-----+-----+-----+-----+-----+-----+-----+-----+-----+-----+-----+-----+-----+-----+-----+-----+-----+-----+-----+-----+-----+--------------------+\n",
      "|  209|20210807|  202|   74|   78|  120|    1|   60|   11|  150|    1|     |     |     |     |     |     |     |     |     |     |     |     |     |     |     |     |     |     |     |     |     |     |     |     |     |     |     |     |     |     |2022-12-20 22:03:...|\n",
      "|  209|20210808|  241|  133|  136|  150|   13|   70|    1|  190|   14|     |     |     |     |     |     |     |     |     |     |     |     |     |     |     |     |     |     |     |     |     |     |     |     |     |     |     |     |     |     |2022-12-20 22:03:...|\n",
      "|  215|20210807|  188|   44|   46|   70|   12|   20|   17|  110|   11|  168|  142|    4|  210|   12|  131|    6|   46|   30| 1416|   20|   73|   33|   16|10006|10030|    1| 9991|   15|   59|   16|   83|   13|    6|   82|   94|   23|   59|   12|   24|2022-12-20 22:03:...|\n",
      "+-----+--------+-----+-----+-----+-----+-----+-----+-----+-----+-----+-----+-----+-----+-----+-----+-----+-----+-----+-----+-----+-----+-----+-----+-----+-----+-----+-----+-----+-----+-----+-----+-----+-----+-----+-----+-----+-----+-----+-----+-----+--------------------+\n",
      "only showing top 3 rows\n",
      "\n"
     ]
    }
   ],
   "source": [
    "from pyspark.sql.functions import current_timestamp\n",
    "df = df.withColumn('load_datetime', current_timestamp())\n",
    "df.show(3)"
   ]
  },
  {
   "cell_type": "code",
   "execution_count": 21,
   "id": "e02df170",
   "metadata": {},
   "outputs": [],
   "source": [
    "df.dropDuplicates().createOrReplaceTempView('daggegevens')"
   ]
  },
  {
   "cell_type": "code",
   "execution_count": 24,
   "id": "8f1ff8da",
   "metadata": {},
   "outputs": [],
   "source": [
    "#df.dropDuplicates().coalesce(4).write.format(\"delta\").mode(\"overwrite\").option(\"mergeSchema\", \"true\").save('s3a://bronze-knmi/daggegevens')\n",
    "df_deduplicated = df.dropDuplicates()"
   ]
  },
  {
   "cell_type": "code",
   "execution_count": 7,
   "id": "a23f649f",
   "metadata": {},
   "outputs": [],
   "source": [
    "from delta.tables import *\n",
    "\n",
    "deltaTable = DeltaTable.forPath(spark, \"s3a://bronze-knmi/daggegevens\")"
   ]
  },
  {
   "cell_type": "code",
   "execution_count": 25,
   "id": "92d7bd5b",
   "metadata": {},
   "outputs": [
    {
     "name": "stderr",
     "output_type": "stream",
     "text": [
      "                                                                                \r"
     ]
    }
   ],
   "source": [
    "deltaTable.alias('knmi_bronze_daggegevens') \\\n",
    "  .merge(\n",
    "    df_deduplicated.alias('new_data'),\n",
    "    'knmi_bronze_daggegevens.STN = new_data.STN AND knmi_bronze_daggegevens.YYYYMMDD = new_data.YYYYMMDD'\n",
    "  ) \\\n",
    "  .whenNotMatchedInsertAll() \\\n",
    "  .execute()"
   ]
  },
  {
   "cell_type": "code",
   "execution_count": 23,
   "id": "e9fb9add",
   "metadata": {},
   "outputs": [
    {
     "name": "stderr",
     "output_type": "stream",
     "text": [
      "\r",
      "[Stage 38:>                                                       (0 + 16) / 16]\r",
      "\r",
      "[Stage 38:===>                                                    (1 + 15) / 16]\r"
     ]
    },
    {
     "name": "stdout",
     "output_type": "stream",
     "text": [
      "+-----+--------+--------------------+\n",
      "|  STN|YYYYMMDD|       load_datetime|\n",
      "+-----+--------+--------------------+\n",
      "|  209|20220101|2022-12-20 22:03:...|\n",
      "|  215|20220101|2022-12-20 22:03:...|\n",
      "|  225|20220101|2022-12-20 22:03:...|\n",
      "|  235|20220101|2022-12-20 22:03:...|\n",
      "|  240|20220101|2022-12-20 22:03:...|\n",
      "|  242|20220101|2022-12-20 22:03:...|\n",
      "|  248|20220101|2022-12-20 22:03:...|\n",
      "|  249|20220101|2022-12-20 22:03:...|\n",
      "|  251|20220101|2022-12-20 22:03:...|\n",
      "|  257|20220101|2022-12-20 22:03:...|\n",
      "|  258|20220101|2022-12-20 22:03:...|\n",
      "|  260|20220101|2022-12-20 22:03:...|\n",
      "|  267|20220101|2022-12-20 22:03:...|\n",
      "|  269|20220101|2022-12-20 22:03:...|\n",
      "|  270|20220101|2022-12-20 22:03:...|\n",
      "|  273|20220101|2022-12-20 22:03:...|\n",
      "|  275|20220101|2022-12-20 22:03:...|\n",
      "|  277|20220101|2022-12-20 22:03:...|\n",
      "|  278|20220101|2022-12-20 22:03:...|\n",
      "|  279|20220101|2022-12-20 22:03:...|\n",
      "|  280|20220101|2022-12-20 22:03:...|\n",
      "|  283|20220101|2022-12-20 22:03:...|\n",
      "|  285|20220101|2022-12-20 22:03:...|\n",
      "|  286|20220101|2022-12-20 22:03:...|\n",
      "|  290|20220101|2022-12-20 22:03:...|\n",
      "|  308|20220101|2022-12-20 22:03:...|\n",
      "|  310|20220101|2022-12-20 22:03:...|\n",
      "|  312|20220101|2022-12-20 22:03:...|\n",
      "|  313|20220101|2022-12-20 22:03:...|\n",
      "|  315|20220101|2022-12-20 22:03:...|\n",
      "|  316|20220101|2022-12-20 22:03:...|\n",
      "|  319|20220101|2022-12-20 22:03:...|\n",
      "|  323|20220101|2022-12-20 22:03:...|\n",
      "|  324|20220101|2022-12-20 22:03:...|\n",
      "|  330|20220101|2022-12-20 22:03:...|\n",
      "|  331|20220101|2022-12-20 22:03:...|\n",
      "|  340|20220101|2022-12-20 22:03:...|\n",
      "|  343|20220101|2022-12-20 22:03:...|\n",
      "|  344|20220101|2022-12-20 22:03:...|\n",
      "|  348|20220101|2022-12-20 22:03:...|\n",
      "|  350|20220101|2022-12-20 22:03:...|\n",
      "|  356|20220101|2022-12-20 22:03:...|\n",
      "|  370|20220101|2022-12-20 22:03:...|\n",
      "|  375|20220101|2022-12-20 22:03:...|\n",
      "|  377|20220101|2022-12-20 22:03:...|\n",
      "|  380|20220101|2022-12-20 22:03:...|\n",
      "|  391|20220101|2022-12-20 22:03:...|\n",
      "+-----+--------+--------------------+\n",
      "\n"
     ]
    },
    {
     "name": "stderr",
     "output_type": "stream",
     "text": [
      "\r",
      "                                                                                \r"
     ]
    }
   ],
   "source": [
    "spark.sql('''\n",
    "\n",
    "select STN, YYYYMMDD, load_datetime from daggegevens where YYYYMMDD = '20220101' order by STN\n",
    "\n",
    "''').show(100)"
   ]
  },
  {
   "cell_type": "code",
   "execution_count": null,
   "id": "acf5bb87",
   "metadata": {},
   "outputs": [],
   "source": []
  }
 ],
 "metadata": {
  "kernelspec": {
   "display_name": "Python 3 (ipykernel)",
   "language": "python",
   "name": "python3"
  },
  "language_info": {
   "codemirror_mode": {
    "name": "ipython",
    "version": 3
   },
   "file_extension": ".py",
   "mimetype": "text/x-python",
   "name": "python",
   "nbconvert_exporter": "python",
   "pygments_lexer": "ipython3",
   "version": "3.9.7"
  }
 },
 "nbformat": 4,
 "nbformat_minor": 5
}
