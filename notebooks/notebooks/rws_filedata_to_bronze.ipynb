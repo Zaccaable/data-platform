{
 "cells": [
  {
   "cell_type": "code",
   "execution_count": 1,
   "id": "ab621960",
   "metadata": {},
   "outputs": [
    {
     "name": "stderr",
     "output_type": "stream",
     "text": [
      "WARNING: An illegal reflective access operation has occurred\n",
      "WARNING: Illegal reflective access by org.apache.spark.unsafe.Platform (file:/usr/local/spark-3.1.2-bin-hadoop3.2/jars/spark-unsafe_2.12-3.1.2.jar) to constructor java.nio.DirectByteBuffer(long,int)\n",
      "WARNING: Please consider reporting this to the maintainers of org.apache.spark.unsafe.Platform\n",
      "WARNING: Use --illegal-access=warn to enable warnings of further illegal reflective access operations\n",
      "WARNING: All illegal access operations will be denied in a future release\n",
      "23/02/13 21:02:20 WARN NativeCodeLoader: Unable to load native-hadoop library for your platform... using builtin-java classes where applicable\n",
      "Using Spark's default log4j profile: org/apache/spark/log4j-defaults.properties\n",
      "Setting default log level to \"WARN\".\n",
      "To adjust logging level use sc.setLogLevel(newLevel). For SparkR, use setLogLevel(newLevel).\n",
      "23/02/13 21:02:21 WARN Utils: Service 'SparkUI' could not bind on port 4040. Attempting port 4041.\n",
      "23/02/13 21:02:21 WARN Utils: Service 'SparkUI' could not bind on port 4041. Attempting port 4042.\n",
      "23/02/13 21:02:21 WARN Utils: Service 'SparkUI' could not bind on port 4042. Attempting port 4043.\n",
      "23/02/13 21:02:21 WARN Utils: Service 'SparkUI' could not bind on port 4043. Attempting port 4044.\n"
     ]
    }
   ],
   "source": [
    "import os\n",
    "from pyspark import SparkContext, SparkConf, SQLContext\n",
    "from pyspark.sql import SparkSession \n",
    "from pyspark.sql.types import StructType, StructField, IntegerType, StringType\n",
    "\n",
    "conf = (\n",
    "    SparkConf()\n",
    "    .setAppName(\"knmi daily weather to bronze\")\n",
    "    .set(\"spark.hadoop.fs.s3a.endpoint\", \"http://192.168.86.192:9000\")\n",
    "    .set(\"spark.hadoop.fs.s3a.access.key\", 'minio')\n",
    "    .set(\"spark.hadoop.fs.s3a.secret.key\", 'minio123')\n",
    "    .set(\"spark.hadoop.fs.s3a.path.style.access\", True)\n",
    "    .set(\"spark.hadoop.fs.s3a.impl\", \"org.apache.hadoop.fs.s3a.S3AFileSystem\")\n",
    "    .set(\"spark.driver.memory\", \"8g\")\n",
    "    .set(\"spark.executor.memory\", \"8g\")\n",
    "    .set(\"spark.delta.logStore.class\", \"org.apache.spark.sql.delta.storage.S3SingleDriverLogStore\") \n",
    "    .set(\"spark.sql.extensions\", \"io.delta.sql.DeltaSparkSessionExtension\") \n",
    "    .set(\"spark.sql.catalog.spark_catalog\", \"org.apache.spark.sql.delta.catalog.DeltaCatalog\") \n",
    ")\n",
    "sc = SparkContext(conf=conf).getOrCreate()\n",
    "#sqlContext = SQLContext(sc)\n",
    "spark = SparkSession(sc).builder.getOrCreate()"
   ]
  },
  {
   "cell_type": "code",
   "execution_count": 2,
   "id": "6df83628",
   "metadata": {},
   "outputs": [
    {
     "name": "stderr",
     "output_type": "stream",
     "text": [
      "23/02/13 21:02:25 WARN MetricsConfig: Cannot locate configuration: tried hadoop-metrics2-s3a-file-system.properties,hadoop-metrics2.properties\n",
      "                                                                                \r"
     ]
    }
   ],
   "source": [
    "df = spark.read.csv('s3a://landing-rws/*', header=True, sep=';')"
   ]
  },
  {
   "cell_type": "code",
   "execution_count": 3,
   "id": "702995c3",
   "metadata": {},
   "outputs": [
    {
     "name": "stderr",
     "output_type": "stream",
     "text": [
      "23/02/13 21:02:31 WARN package: Truncated the string representation of a plan since it was too large. This behavior can be adjusted by setting 'spark.sql.debug.maxToStringFields'.\n"
     ]
    },
    {
     "name": "stdout",
     "output_type": "stream",
     "text": [
      "+-----------+--------------+-------------+-------------+------------+-----------+---------+--------+-------------+----------------+--------+--------+--------+-----------------------+--------------------+--------------------+-------------------+--------------------+--------------------+--------------------+------------------+-----------+--------------------+-------------------+---------+----------------+\n",
      "|NLSitNummer|DatumFileBegin|DatumFileEind|TijdFileBegin|TijdFileEind|FileZwaarte|GemLengte|FileDuur|HectometerKop|HectometerStaart|RouteLet|RouteNum|RouteOms|hectometreringsrichting|        KopWegvakVan|       KopWegvakNaar|            TrajVan|            TrajNaar|  OorzaakGronddetail|      OorzaakVerloop|OorzaakCodeVerloop|OorzaakCode|           Oorzaak_1|          Oorzaak_2|Oorzaak_3|       Oorzaak_4|\n",
      "+-----------+--------------+-------------+-------------+------------+-----------+---------+--------+-------------+----------------+--------+--------+--------+-----------------------+--------------------+--------------------+-------------------+--------------------+--------------------+--------------------+------------------+-----------+--------------------+-------------------+---------+----------------+\n",
      "|    3249827|    2022-11-01|   2022-11-01|      7:52:26|     8:01:02|     23,583| 2742,000|   8,600|         85,9|            88,2|       A|      58|     A58|               aflopend|               Zegge|             Rucphen|     Bergen op Zoom|               Breda|Spitsfile (geen o...|[Geen oorzaakcode...|             [000]|        001|Spitsfile (geen o...|Geen oorzaak gemeld|   Drukte|Hoge intensiteit|\n",
      "|    3249828|    2022-11-01|   2022-11-01|      7:52:26|     7:55:03|      6,178| 2361,000|   2,617|         85,4|            83,1|       A|      73|     A73|               oplopend|                Haps|               Cuijk|         Maasbracht|            Nijmegen|Spitsfile (geen o...|[Geen oorzaakcode...|             [000]|        001|Spitsfile (geen o...|Geen oorzaak gemeld|   Drukte|Hoge intensiteit|\n",
      "|    3249829|    2022-11-01|   2022-11-01|      7:52:26|     7:56:01|      9,067| 2530,000|   3,583|         27,0|            24,5|       N|      44|     N44|               oplopend|      Wassenaar-Zuid|        Scheveningen|          Wassenaar|            Den Haag|Spitsfile (geen o...|[Geen oorzaakcode...|             [000]|        001|Spitsfile (geen o...|Geen oorzaak gemeld|   Drukte|Hoge intensiteit|\n",
      "|    3249830|    2022-11-01|   2022-11-01|      7:53:26|     7:55:02|      4,320| 2700,000|   1,600|        105,4|           108,1|       A|      12|     A12|               aflopend|        Maanderbroek|          Veenendaal|             Arnhem|             Utrecht|Spitsfile (geen o...|[Geen oorzaakcode...|             [000]|        001|Spitsfile (geen o...|Geen oorzaak gemeld|   Drukte|Hoge intensiteit|\n",
      "|    3249831|    2022-11-01|   2022-11-01|      7:53:26|     7:55:02|      4,000| 2500,000|   1,600|         36,6|            34,1|       A|      12|     A12|               oplopend|          Bodegraven|         Nieuwerbrug|           Den Haag|             Utrecht|Spitsfile (geen o...|[Geen oorzaakcode...|             [000]|        001|Spitsfile (geen o...|Geen oorzaak gemeld|   Drukte|Hoge intensiteit|\n",
      "|    3249920|    2022-11-01|   2022-11-01|      8:01:27|     8:03:00|      3,100| 2000,000|   1,550|         21,0|            23,0|       A|      12|     A12|               aflopend|         Zevenhuizen|           Bleiswijk|            Utrecht|            Den Haag|Spitsfile (geen o...|[Geen oorzaakcode...|             [000]|        001|Spitsfile (geen o...|Geen oorzaak gemeld|   Drukte|Hoge intensiteit|\n",
      "|    3249922|    2022-11-01|   2022-11-01|      8:01:27|     8:03:00|      5,580| 3600,000|   1,550|        242,3|           238,7|       A|       2|      A2|               oplopend|              Urmond|         Kerensheide|          Eindhoven|          Maastricht|Spitsfile (geen o...|[Geen oorzaakcode...|             [000]|        001|Spitsfile (geen o...|Geen oorzaak gemeld|   Drukte|Hoge intensiteit|\n",
      "|    3249923|    2022-11-01|   2022-11-01|      8:01:27|     8:08:01|     19,297| 2939,000|   6,567|         47,6|            50,6|       A|      27|     A27|               aflopend|             Lexmond|          Noordeloos|            Utrecht|           Gorinchem|Spitsfile (geen o...|[Geen oorzaakcode...|             [000]|        001|Spitsfile (geen o...|Geen oorzaak gemeld|   Drukte|Hoge intensiteit|\n",
      "|    3249924|    2022-11-01|   2022-11-01|      8:01:27|     8:03:01|      3,290| 2100,000|   1,567|        107,1|           109,2|       A|      27|     A27|               aflopend|        Almere-Haven|              Huizen|             Almere|             Utrecht|Spitsfile (geen o...|[Geen oorzaakcode...|             [000]|        001|Spitsfile (geen o...|Geen oorzaak gemeld|   Drukte|Hoge intensiteit|\n",
      "|    3249926|    2022-11-01|   2022-11-01|      8:01:27|     8:18:01|     60,840| 3672,000|  16,567|          0,0|             3,3|       A|      28|     A28|               aflopend|          Rijnsweerd|     Utrecht-Centrum|         Amersfoort|             Utrecht|Spitsfile (geen o...|[Geen oorzaakcode...|             [000]|        001|Spitsfile (geen o...|Geen oorzaak gemeld|   Drukte|Hoge intensiteit|\n",
      "|    3250012|    2022-11-01|   2022-11-01|      8:08:26|     8:12:03|     12,407| 3430,000|   3,617|         48,3|            51,7|       A|      35|     A35|               aflopend|               Azelo|         Almelo-Zuid|           Enschede|              Almelo|Spitsfile (geen o...|[Geen oorzaakcode...|             [000]|        001|Spitsfile (geen o...|Geen oorzaak gemeld|   Drukte|Hoge intensiteit|\n",
      "|    3250013|    2022-11-01|   2022-11-01|      8:08:26|     8:11:02|      6,760| 2600,000|   2,600|        163,5|           160,9|       N|       2|      N2|               oplopend|           Veldhoven|      Veldhoven-Zuid|           Batadorp|        Leenderheide|Spitsfile (geen o...|[Geen oorzaakcode...|             [000]|        001|Spitsfile (geen o...|Geen oorzaak gemeld|   Drukte|Hoge intensiteit|\n",
      "|    3250014|    2022-11-01|   2022-11-01|      8:08:26|     8:10:03|      4,042| 2500,000|   1,617|        197,2|           199,7|       A|       7|      A7|               aflopend|        Julianaplein|      Groningen-West|          Groningen|          Heerenveen|Spitsfile (geen o...|[Geen oorzaakcode...|             [000]|        002|Spitsfile (geen o...|Geen oorzaak gemeld|   Drukte|Hoge intensiteit|\n",
      "|    3250015|    2022-11-01|   2022-11-01|      8:09:27|     9:01:31|    238,352| 4578,000|  52,067|         21,6|            23,7|       A|      10|     A10|               aflopend|              Osdorp|Amsterdam-Sloterv...|Knooppunt Coenplein|Knooppunt De Nieu...|Spitsfile (geen o...|[Geen oorzaakcode...|             [000]|        001|Spitsfile (geen o...|Geen oorzaak gemeld|   Drukte|Hoge intensiteit|\n",
      "|    3250016|    2022-11-01|   2022-11-01|      8:09:27|     8:11:01|      5,953| 3800,000|   1,567|         16,3|            12,5|       A|      10|     A10|               oplopend|Amsterdam-Riviere...|              Amstel|   Knooppunt Amstel|Knooppunt De Nieu...|Spitsfile (geen o...|[Geen oorzaakcode...|             [000]|        001|Spitsfile (geen o...|Geen oorzaak gemeld|   Drukte|Hoge intensiteit|\n",
      "|    3250102|    2022-11-01|   2022-11-01|      8:17:27|     9:21:00|    310,500| 4886,000|  63,550|        110,6|           113,1|       A|       2|      A2|               aflopend|               Empel|           Empelbrug|   's-Hertogenbosch|             Utrecht|Spitsfile (geen o...|[Geen oorzaakcode...|             [000]|        001|Spitsfile (geen o...|Geen oorzaak gemeld|   Drukte|Hoge intensiteit|\n",
      "|    3250103|    2022-11-01|   2022-11-01|      8:17:27|     8:20:03|      4,160| 1600,000|   2,600|        107,5|           109,1|       A|       2|      A2|               aflopend|               Empel|           Kerkdriel|   's-Hertogenbosch|             Utrecht|Spitsfile (geen o...|[Geen oorzaakcode...|             [000]|        001|Spitsfile (geen o...|Geen oorzaak gemeld|   Drukte|Hoge intensiteit|\n",
      "|    3250105|    2022-11-01|   2022-11-01|      8:17:27|     8:20:04|      6,018| 2300,000|   2,617|         56,6|            54,3|       A|       2|      A2|               oplopend|           Breukelen|            Maarssen|          Amsterdam|             Utrecht|Spitsfile (geen o...|[Geen oorzaakcode...|             [000]|        002|Spitsfile (geen o...|Geen oorzaak gemeld|   Drukte|Hoge intensiteit|\n",
      "|    3250106|    2022-11-01|   2022-11-01|      8:16:27|     8:22:02|     15,727| 2817,000|   5,583|        243,7|           240,8|       A|       2|      A2|               oplopend|              Elsloo|          Ulestraten|          Eindhoven|          Maastricht|Spitsfile (geen o...|[Geen oorzaakcode...|             [000]|        001|Spitsfile (geen o...|Geen oorzaak gemeld|   Drukte|Hoge intensiteit|\n",
      "|    3250107|    2022-11-01|   2022-11-01|      8:17:27|     8:24:01|     21,007| 3199,000|   6,567|        116,0|           113,9|       A|       2|      A2|               oplopend|             Hintham|              Veghel|            Utrecht|    's-Hertogenbosch|Spitsfile (geen o...|[Geen oorzaakcode...|             [000]|        001|Spitsfile (geen o...|Geen oorzaak gemeld|   Drukte|Hoge intensiteit|\n",
      "+-----------+--------------+-------------+-------------+------------+-----------+---------+--------+-------------+----------------+--------+--------+--------+-----------------------+--------------------+--------------------+-------------------+--------------------+--------------------+--------------------+------------------+-----------+--------------------+-------------------+---------+----------------+\n",
      "only showing top 20 rows\n",
      "\n"
     ]
    }
   ],
   "source": [
    "df.show()"
   ]
  },
  {
   "cell_type": "code",
   "execution_count": 4,
   "id": "9e35eece",
   "metadata": {},
   "outputs": [
    {
     "name": "stderr",
     "output_type": "stream",
     "text": [
      "                                                                                \r"
     ]
    }
   ],
   "source": [
    "df.dropDuplicates().coalesce(1).write.format(\"delta\").mode(\"overwrite\").option(\"mergeSchema\", \"true\").save('s3a://bronze-rws/filedata')\n",
    "#df.write.format(\"csv\").mode(\"overwrite\").save('s3a://test-bucket/filedata')"
   ]
  },
  {
   "cell_type": "code",
   "execution_count": 5,
   "id": "1b837eb2",
   "metadata": {},
   "outputs": [
    {
     "name": "stderr",
     "output_type": "stream",
     "text": [
      "                                                                                \r"
     ]
    }
   ],
   "source": [
    "df.dropDuplicates().coalesce(1).write.format(\"parquet\").mode(\"overwrite\").save('s3a://fontys/rws/filedata')"
   ]
  },
  {
   "cell_type": "code",
   "execution_count": null,
   "id": "b74b6e66",
   "metadata": {},
   "outputs": [],
   "source": [
    "    "
   ]
  }
 ],
 "metadata": {
  "kernelspec": {
   "display_name": "Python 3 (ipykernel)",
   "language": "python",
   "name": "python3"
  },
  "language_info": {
   "codemirror_mode": {
    "name": "ipython",
    "version": 3
   },
   "file_extension": ".py",
   "mimetype": "text/x-python",
   "name": "python",
   "nbconvert_exporter": "python",
   "pygments_lexer": "ipython3",
   "version": "3.9.7"
  }
 },
 "nbformat": 4,
 "nbformat_minor": 5
}
