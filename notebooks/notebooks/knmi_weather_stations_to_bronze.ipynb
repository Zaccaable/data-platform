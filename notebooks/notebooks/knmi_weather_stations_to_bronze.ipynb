{
 "cells": [
  {
   "cell_type": "code",
   "execution_count": 1,
   "id": "694eec1a",
   "metadata": {},
   "outputs": [
    {
     "name": "stderr",
     "output_type": "stream",
     "text": [
      "WARNING: An illegal reflective access operation has occurred\n",
      "WARNING: Illegal reflective access by org.apache.spark.unsafe.Platform (file:/usr/local/spark-3.1.2-bin-hadoop3.2/jars/spark-unsafe_2.12-3.1.2.jar) to constructor java.nio.DirectByteBuffer(long,int)\n",
      "WARNING: Please consider reporting this to the maintainers of org.apache.spark.unsafe.Platform\n",
      "WARNING: Use --illegal-access=warn to enable warnings of further illegal reflective access operations\n",
      "WARNING: All illegal access operations will be denied in a future release\n",
      "23/02/13 20:45:27 WARN NativeCodeLoader: Unable to load native-hadoop library for your platform... using builtin-java classes where applicable\n",
      "Using Spark's default log4j profile: org/apache/spark/log4j-defaults.properties\n",
      "Setting default log level to \"WARN\".\n",
      "To adjust logging level use sc.setLogLevel(newLevel). For SparkR, use setLogLevel(newLevel).\n",
      "23/02/13 20:45:28 WARN Utils: Service 'SparkUI' could not bind on port 4040. Attempting port 4041.\n",
      "23/02/13 20:45:28 WARN Utils: Service 'SparkUI' could not bind on port 4041. Attempting port 4042.\n",
      "23/02/13 20:45:28 WARN Utils: Service 'SparkUI' could not bind on port 4042. Attempting port 4043.\n"
     ]
    }
   ],
   "source": [
    "import os\n",
    "import re\n",
    "\n",
    "from pyspark import SparkContext, SparkConf, SQLContext\n",
    "from pyspark.sql import SparkSession \n",
    "from pyspark.sql.types import StructType, StructField, IntegerType, StringType\n",
    "from pyspark.sql.functions import col, current_timestamp\n",
    "\n",
    "from delta.tables import DeltaTable\n",
    "\n",
    "conf = (\n",
    "    SparkConf()\n",
    "    .setAppName(\"Spark minIO Test\")\n",
    "    .set(\"spark.hadoop.fs.s3a.endpoint\", \"http://192.168.86.192:9000\")\n",
    "    .set(\"spark.hadoop.fs.s3a.access.key\", os.getenv('MINIO_ROOT_USER'))\n",
    "    .set(\"spark.hadoop.fs.s3a.secret.key\", os.getenv('MINIO_ROOT_PASSWORD'))\n",
    "    .set(\"spark.hadoop.fs.s3a.path.style.access\", True)\n",
    "    .set(\"spark.hadoop.fs.s3a.impl\", \"org.apache.hadoop.fs.s3a.S3AFileSystem\")\n",
    "    .set(\"spark.driver.memory\", \"8g\")\n",
    "    .set(\"spark.executor.memory\", \"8g\")\n",
    "    .set(\"spark.delta.logStore.class\", \"org.apache.spark.sql.delta.storage.S3SingleDriverLogStore\") \n",
    "    .set(\"spark.sql.extensions\", \"io.delta.sql.DeltaSparkSessionExtension\") \n",
    "    .set(\"spark.sql.catalog.spark_catalog\", \"org.apache.spark.sql.delta.catalog.DeltaCatalog\") \n",
    ")\n",
    "sc = SparkContext(conf=conf).getOrCreate()\n",
    "spark = SparkSession(sc).builder.getOrCreate()"
   ]
  },
  {
   "cell_type": "code",
   "execution_count": 2,
   "id": "be233fa4",
   "metadata": {},
   "outputs": [],
   "source": [
    "weather_stations_file = sc.textFile('s3a://landing-knmi/weather_stations/*')"
   ]
  },
  {
   "cell_type": "code",
   "execution_count": 3,
   "id": "0d43deac",
   "metadata": {},
   "outputs": [
    {
     "name": "stderr",
     "output_type": "stream",
     "text": [
      "23/02/13 20:45:29 WARN MetricsConfig: Cannot locate configuration: tried hadoop-metrics2-s3a-file-system.properties,hadoop-metrics2.properties\n",
      "                                                                                \r"
     ]
    },
    {
     "data": {
      "text/plain": [
       "['# Opmerking: door stationsverplaatsingen en veranderingen in waarneemmethodieken zijn deze tijdreeksen van uurwaarden mogelijk inhomogeen! Dat betekent dat deze reeks van gemeten waarden niet geschikt is voor trendanalyse. Voor studies naar klimaatverandering verwijzen we naar de gehomogeniseerde dagreeksen <http://www.knmi.nl/nederland-nu/klimatologie/daggegevens> of de Centraal Nederland Temperatuur <http://www.knmi.nl/kennis-en-datacentrum/achtergrond/centraal-nederland-temperatuur-cnt>.',\n",
       " '# ',\n",
       " '# SOURCE: ROYAL NETHERLANDS METEOROLOGICAL INSTITUTE (KNMI)',\n",
       " '# Comment: These time series are inhomogeneous because of station relocations and changes in observation techniques. As a result these series are not suitable for trend analysis. For climate change studies we refer to the homogenized series of daily data <http://www.knmi.nl/nederland-nu/klimatologie/daggegevens> or the Central Netherlands Temperature <http://www.knmi.nl/kennis-en-datacentrum/achtergrond/centraal-nederland-temperatuur-cnt>.',\n",
       " '# ',\n",
       " '# STN         LON(east)   LAT(north)  ALT(m)      NAME',\n",
       " '# 209         4.518       52.465      0.00        IJmond      ',\n",
       " '# 210         4.430       52.171      -0.20       Valkenburg Zh',\n",
       " '# 215         4.437       52.141      -1.10       Voorschoten ',\n",
       " '# 225         4.555       52.463      4.40        IJmuiden    ']"
      ]
     },
     "execution_count": 3,
     "metadata": {},
     "output_type": "execute_result"
    }
   ],
   "source": [
    "weather_stations_file.take(10)"
   ]
  },
  {
   "cell_type": "code",
   "execution_count": 4,
   "id": "557e5bcb",
   "metadata": {},
   "outputs": [],
   "source": [
    "weather_stations = (weather_stations_file\n",
    "                        .filter(lambda x: x.startswith('# STN         ') or re.match('# \\d\\d\\d', x))\n",
    "                        .map(lambda x: x.replace('# ', ''))\n",
    "                        .map(lambda x: re.sub('\\s\\s+', ';', x.strip()))\n",
    "                        .map(lambda x: x.split(';'))\n",
    "                   )"
   ]
  },
  {
   "cell_type": "code",
   "execution_count": 5,
   "id": "26532aed",
   "metadata": {},
   "outputs": [
    {
     "data": {
      "text/plain": [
       "[['STN', 'LON(east)', 'LAT(north)', 'ALT(m)', 'NAME'],\n",
       " ['209', '4.518', '52.465', '0.00', 'IJmond'],\n",
       " ['210', '4.430', '52.171', '-0.20', 'Valkenburg Zh'],\n",
       " ['215', '4.437', '52.141', '-1.10', 'Voorschoten'],\n",
       " ['225', '4.555', '52.463', '4.40', 'IJmuiden']]"
      ]
     },
     "execution_count": 5,
     "metadata": {},
     "output_type": "execute_result"
    }
   ],
   "source": [
    "weather_stations.take(5)"
   ]
  },
  {
   "cell_type": "code",
   "execution_count": 6,
   "id": "7a88d985",
   "metadata": {},
   "outputs": [
    {
     "data": {
      "text/plain": [
       "['STN', 'LON(east)', 'LAT(north)', 'ALT(m)', 'NAME']"
      ]
     },
     "execution_count": 6,
     "metadata": {},
     "output_type": "execute_result"
    }
   ],
   "source": [
    "header = weather_stations.first()\n",
    "header"
   ]
  },
  {
   "cell_type": "code",
   "execution_count": 7,
   "id": "da91a84c",
   "metadata": {},
   "outputs": [],
   "source": [
    "data = weather_stations.filter(lambda row : row != header)"
   ]
  },
  {
   "cell_type": "code",
   "execution_count": 8,
   "id": "ea6e24f5",
   "metadata": {},
   "outputs": [
    {
     "name": "stdout",
     "output_type": "stream",
     "text": [
      "+---+---------+----------+------+-------------+\n",
      "|STN|LON(east)|LAT(north)|ALT(m)|         NAME|\n",
      "+---+---------+----------+------+-------------+\n",
      "|209|    4.518|    52.465|  0.00|       IJmond|\n",
      "|210|    4.430|    52.171| -0.20|Valkenburg Zh|\n",
      "|215|    4.437|    52.141| -1.10|  Voorschoten|\n",
      "|225|    4.555|    52.463|  4.40|     IJmuiden|\n",
      "|235|    4.781|    52.928|  1.20|      De Kooy|\n",
      "+---+---------+----------+------+-------------+\n",
      "only showing top 5 rows\n",
      "\n"
     ]
    }
   ],
   "source": [
    "df = data.toDF(header)\n",
    "df.show(5)"
   ]
  },
  {
   "cell_type": "code",
   "execution_count": 9,
   "id": "21089ba0",
   "metadata": {},
   "outputs": [
    {
     "name": "stdout",
     "output_type": "stream",
     "text": [
      "+--------------------+---------+--------+--------+---------------+\n",
      "|weather_station_code|longitude|latitude|altitude|weather_station|\n",
      "+--------------------+---------+--------+--------+---------------+\n",
      "|                 209|    4.518|  52.465|    0.00|         IJmond|\n",
      "|                 210|    4.430|  52.171|   -0.20|  Valkenburg Zh|\n",
      "|                 215|    4.437|  52.141|   -1.10|    Voorschoten|\n",
      "|                 225|    4.555|  52.463|    4.40|       IJmuiden|\n",
      "|                 235|    4.781|  52.928|    1.20|        De Kooy|\n",
      "+--------------------+---------+--------+--------+---------------+\n",
      "only showing top 5 rows\n",
      "\n"
     ]
    }
   ],
   "source": [
    "weather_stations_df = df.select(col('STN').alias('weather_station_code')\n",
    "                               ,col('LON(east)').alias('longitude')\n",
    "                               ,col('LAT(north)').alias('latitude')\n",
    "                               ,col('ALT(m)').alias('altitude')\n",
    "                               ,col('NAME').alias('weather_station'))\n",
    "weather_stations_df.show(5)"
   ]
  },
  {
   "cell_type": "code",
   "execution_count": 10,
   "id": "49c31bb1",
   "metadata": {},
   "outputs": [],
   "source": [
    "weather_stations_df = weather_stations_df.withColumn('load_datetime', current_timestamp())"
   ]
  },
  {
   "cell_type": "code",
   "execution_count": 11,
   "id": "5cb35c6a",
   "metadata": {},
   "outputs": [
    {
     "name": "stdout",
     "output_type": "stream",
     "text": [
      "+--------------------+---------+--------+--------+---------------+--------------------+\n",
      "|weather_station_code|longitude|latitude|altitude|weather_station|       load_datetime|\n",
      "+--------------------+---------+--------+--------+---------------+--------------------+\n",
      "|                 209|    4.518|  52.465|    0.00|         IJmond|2023-02-13 20:46:...|\n",
      "|                 210|    4.430|  52.171|   -0.20|  Valkenburg Zh|2023-02-13 20:46:...|\n",
      "|                 215|    4.437|  52.141|   -1.10|    Voorschoten|2023-02-13 20:46:...|\n",
      "|                 225|    4.555|  52.463|    4.40|       IJmuiden|2023-02-13 20:46:...|\n",
      "|                 235|    4.781|  52.928|    1.20|        De Kooy|2023-02-13 20:46:...|\n",
      "+--------------------+---------+--------+--------+---------------+--------------------+\n",
      "only showing top 5 rows\n",
      "\n"
     ]
    }
   ],
   "source": [
    "weather_stations_df.show(5)"
   ]
  },
  {
   "cell_type": "code",
   "execution_count": 12,
   "id": "faf4abed",
   "metadata": {},
   "outputs": [
    {
     "name": "stderr",
     "output_type": "stream",
     "text": [
      "ANTLR Tool version 4.7 used for code generation does not match the current runtime version 4.8ANTLR Tool version 4.7 used for code generation does not match the current runtime version 4.8"
     ]
    }
   ],
   "source": [
    "if not DeltaTable.isDeltaTable(spark, 's3a://bronze-knmi/weather_stations'):\n",
    "    print(\"Not a delta table, write the full df\")\n",
    "    weather_stations_df.dropDuplicates().coalesce(1).write.format(\"delta\").mode(\"overwrite\").option(\"mergeSchema\", \"true\").save('s3a://bronze-knmi/weather_stations')\n",
    "else:\n",
    "    weather_stations_df.createOrReplaceTempView('weather_stations')\n",
    "    spark.sql(\"\"\"\n",
    "        create table if not exists bronze_knmi_weather_stations\n",
    "        using delta \n",
    "        location 's3a://bronze-knmi/weather_stations'\n",
    "        \"\"\")\n",
    "    # We don't want to update values, only insert with new load_date_time when data is changed, so we don't use a when matched\n",
    "    spark.sql(\"\"\"\n",
    "    MERGE INTO bronze_knmi_weather_stations\n",
    "    USING weather_stations\n",
    "        ON bronze_knmi_weather_stations.weather_station_code = weather_stations.weather_station_code\n",
    "        AND bronze_knmi_weather_stations.longitude = weather_stations.longitude\n",
    "        AND bronze_knmi_weather_stations.latitude = weather_stations.latitude\n",
    "        AND bronze_knmi_weather_stations.altitude = weather_stations.altitude\n",
    "        AND bronze_knmi_weather_stations.weather_station = weather_stations.weather_station\n",
    "    WHEN NOT MATCHED\n",
    "      THEN INSERT *\n",
    "    \"\"\")\n",
    "    "
   ]
  },
  {
   "cell_type": "code",
   "execution_count": null,
   "id": "df1c4831",
   "metadata": {},
   "outputs": [],
   "source": []
  },
  {
   "cell_type": "code",
   "execution_count": null,
   "id": "b3e305c5",
   "metadata": {},
   "outputs": [],
   "source": []
  }
 ],
 "metadata": {
  "kernelspec": {
   "display_name": "Python 3 (ipykernel)",
   "language": "python",
   "name": "python3"
  },
  "language_info": {
   "codemirror_mode": {
    "name": "ipython",
    "version": 3
   },
   "file_extension": ".py",
   "mimetype": "text/x-python",
   "name": "python",
   "nbconvert_exporter": "python",
   "pygments_lexer": "ipython3",
   "version": "3.9.7"
  }
 },
 "nbformat": 4,
 "nbformat_minor": 5
}
