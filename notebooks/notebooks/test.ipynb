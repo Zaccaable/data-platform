{
 "cells": [
  {
   "cell_type": "markdown",
   "id": "8801f169",
   "metadata": {
    "tags": [
     "papermill-error-cell-tag"
    ]
   },
   "source": [
    "<span style=\"color:red; font-family:Helvetica Neue, Helvetica, Arial, sans-serif; font-size:2em;\">An Exception was encountered at '<a href=\"#papermill-error-cell\">In [1]</a>'.</span>"
   ]
  },
  {
   "cell_type": "markdown",
   "id": "ef3312b3",
   "metadata": {
    "papermill": {
     "duration": 0.004291,
     "end_time": "2022-12-21T21:01:41.237916",
     "exception": false,
     "start_time": "2022-12-21T21:01:41.233625",
     "status": "completed"
    },
    "tags": []
   },
   "source": [
    "# Initiate spark"
   ]
  },
  {
   "cell_type": "markdown",
   "id": "02f5c08b",
   "metadata": {
    "tags": [
     "papermill-error-cell-tag"
    ]
   },
   "source": [
    "<span id=\"papermill-error-cell\" style=\"color:red; font-family:Helvetica Neue, Helvetica, Arial, sans-serif; font-size:2em;\">Execution using papermill encountered an exception here and stopped:</span>"
   ]
  },
  {
   "cell_type": "code",
   "execution_count": 1,
   "id": "ed6b75e9",
   "metadata": {
    "execution": {
     "iopub.execute_input": "2022-12-21T21:01:41.247810Z",
     "iopub.status.busy": "2022-12-21T21:01:41.247413Z",
     "iopub.status.idle": "2022-12-21T21:01:41.397762Z",
     "shell.execute_reply": "2022-12-21T21:01:41.396968Z"
    },
    "papermill": {
     "duration": 0.157131,
     "end_time": "2022-12-21T21:01:41.399415",
     "exception": true,
     "start_time": "2022-12-21T21:01:41.242284",
     "status": "failed"
    },
    "tags": []
   },
   "outputs": [
    {
     "ename": "ModuleNotFoundError",
     "evalue": "No module named 'pyspark'",
     "output_type": "error",
     "traceback": [
      "\u001b[0;31m---------------------------------------------------------------------------\u001b[0m",
      "\u001b[0;31mModuleNotFoundError\u001b[0m                       Traceback (most recent call last)",
      "Cell \u001b[0;32mIn[1], line 2\u001b[0m\n\u001b[1;32m      1\u001b[0m \u001b[38;5;28;01mimport\u001b[39;00m \u001b[38;5;21;01mos\u001b[39;00m\n\u001b[0;32m----> 2\u001b[0m \u001b[38;5;28;01mfrom\u001b[39;00m \u001b[38;5;21;01mpyspark\u001b[39;00m \u001b[38;5;28;01mimport\u001b[39;00m SparkContext, SparkConf, SQLContext\n\u001b[1;32m      3\u001b[0m \u001b[38;5;28;01mfrom\u001b[39;00m \u001b[38;5;21;01mpyspark\u001b[39;00m\u001b[38;5;21;01m.\u001b[39;00m\u001b[38;5;21;01msql\u001b[39;00m \u001b[38;5;28;01mimport\u001b[39;00m SparkSession \n\u001b[1;32m      4\u001b[0m \u001b[38;5;28;01mfrom\u001b[39;00m \u001b[38;5;21;01mpyspark\u001b[39;00m\u001b[38;5;21;01m.\u001b[39;00m\u001b[38;5;21;01msql\u001b[39;00m\u001b[38;5;21;01m.\u001b[39;00m\u001b[38;5;21;01mtypes\u001b[39;00m \u001b[38;5;28;01mimport\u001b[39;00m StructType, StructField, IntegerType, StringType\n",
      "\u001b[0;31mModuleNotFoundError\u001b[0m: No module named 'pyspark'"
     ]
    }
   ],
   "source": [
    "import os\n",
    "from pyspark import SparkContext, SparkConf, SQLContext\n",
    "from pyspark.sql import SparkSession \n",
    "from pyspark.sql.types import StructType, StructField, IntegerType, StringType\n",
    "\n",
    "conf = (\n",
    "    SparkConf()\n",
    "    .setAppName(\"knmi daily weather to bronze\")\n",
    "    .set(\"spark.hadoop.fs.s3a.endpoint\", \"http://192.168.86.192:9000\")\n",
    "    .set(\"spark.hadoop.fs.s3a.access.key\", os.getenv('MINIO_ROOT_USER'))\n",
    "    .set(\"spark.hadoop.fs.s3a.secret.key\", os.getenv('MINIO_ROOT_PASSWORD'))\n",
    "    .set(\"spark.hadoop.fs.s3a.path.style.access\", True)\n",
    "    .set(\"spark.hadoop.fs.s3a.impl\", \"org.apache.hadoop.fs.s3a.S3AFileSystem\")\n",
    "    .set(\"spark.driver.memory\", \"8g\")\n",
    "    .set(\"spark.executor.memory\", \"8g\")\n",
    "    .set(\"spark.delta.logStore.class\", \"org.apache.spark.sql.delta.storage.S3SingleDriverLogStore\") \n",
    "    .set(\"spark.sql.extensions\", \"io.delta.sql.DeltaSparkSessionExtension\") \n",
    "    .set(\"spark.sql.catalog.spark_catalog\", \"org.apache.spark.sql.delta.catalog.DeltaCatalog\") \n",
    ")\n",
    "sc = SparkContext(conf=conf).getOrCreate()\n",
    "#sqlContext = SQLContext(sc)\n",
    "spark = SparkSession(sc).builder.getOrCreate()"
   ]
  },
  {
   "cell_type": "code",
   "execution_count": null,
   "id": "2aa4083a",
   "metadata": {
    "papermill": {
     "duration": null,
     "end_time": null,
     "exception": null,
     "start_time": null,
     "status": "pending"
    },
    "tags": []
   },
   "outputs": [],
   "source": [
    "schema = (StructType([\n",
    "    StructField(\"STN\", StringType(), True),\n",
    "    StructField(\"YYYYMMDD\", StringType(), True),\n",
    "    StructField(\"DDVEC\", StringType(), True),\n",
    "    StructField(\"FHVEC\", StringType(), True),\n",
    "    StructField(\"FG\", StringType(), True),\n",
    "    StructField(\"FHX\", StringType(), True),\n",
    "    StructField(\"FHXH\", StringType(), True),\n",
    "    StructField(\"FHN\", StringType(), True),\n",
    "    StructField(\"FHNH\", StringType(), True),\n",
    "    StructField(\"FXX\", StringType(), True),\n",
    "    StructField(\"FXXH\", StringType(), True),\n",
    "    StructField(\"TG\", StringType(), True),\n",
    "    StructField(\"TN\", StringType(), True),\n",
    "    StructField(\"TNH\", StringType(), True),\n",
    "    StructField(\"TX\", StringType(), True),\n",
    "    StructField(\"TXH\", StringType(), True),\n",
    "    StructField(\"T10N\", StringType(), True),\n",
    "    StructField(\"T10NH\", StringType(), True),\n",
    "    StructField(\"SQ\", StringType(), True),\n",
    "    StructField(\"SP\", StringType(), True),\n",
    "    StructField(\"Q\", StringType(), True),\n",
    "    StructField(\"DR\", StringType(), True),\n",
    "    StructField(\"RH\", StringType(), True),\n",
    "    StructField(\"RHX\", StringType(), True),\n",
    "    StructField(\"RHXH\", StringType(), True),\n",
    "    StructField(\"PG\", StringType(), True),\n",
    "    StructField(\"PX\", StringType(), True),\n",
    "    StructField(\"PXH\", StringType(), True),\n",
    "    StructField(\"PN\", StringType(), True),\n",
    "    StructField(\"PNH\", StringType(), True),\n",
    "    StructField(\"VVN\", StringType(), True),\n",
    "    StructField(\"VVNH\", StringType(), True),\n",
    "    StructField(\"VVX\", StringType(), True),\n",
    "    StructField(\"VVXH\", StringType(), True),\n",
    "    StructField(\"NG\", StringType(), True),\n",
    "    StructField(\"UG\", StringType(), True),\n",
    "    StructField(\"UX\", StringType(), True),\n",
    "    StructField(\"UXH\", StringType(), True),\n",
    "    StructField(\"UN\", StringType(), True),\n",
    "    StructField(\"UNH\", StringType(), True),\n",
    "    StructField(\"EV24\", StringType(), True)\n",
    "])\n",
    ")"
   ]
  },
  {
   "cell_type": "code",
   "execution_count": null,
   "id": "fe41bd53",
   "metadata": {
    "papermill": {
     "duration": null,
     "end_time": null,
     "exception": null,
     "start_time": null,
     "status": "pending"
    },
    "tags": []
   },
   "outputs": [],
   "source": [
    "df = spark.read.csv('s3a://landing-knmi/daggegevens/*', header=False, comment='#', schema=schema)"
   ]
  },
  {
   "cell_type": "code",
   "execution_count": null,
   "id": "5b4e7823",
   "metadata": {
    "papermill": {
     "duration": null,
     "end_time": null,
     "exception": null,
     "start_time": null,
     "status": "pending"
    },
    "tags": []
   },
   "outputs": [],
   "source": [
    "from pyspark.sql.functions import current_timestamp\n",
    "df = df.withColumn('load_datetime', current_timestamp())\n",
    "df.show(3)"
   ]
  },
  {
   "cell_type": "code",
   "execution_count": null,
   "id": "e02df170",
   "metadata": {
    "papermill": {
     "duration": null,
     "end_time": null,
     "exception": null,
     "start_time": null,
     "status": "pending"
    },
    "tags": []
   },
   "outputs": [],
   "source": [
    "df.dropDuplicates().createOrReplaceTempView('daggegevens')"
   ]
  },
  {
   "cell_type": "code",
   "execution_count": null,
   "id": "8f1ff8da",
   "metadata": {
    "papermill": {
     "duration": null,
     "end_time": null,
     "exception": null,
     "start_time": null,
     "status": "pending"
    },
    "tags": []
   },
   "outputs": [],
   "source": [
    "#df.dropDuplicates().coalesce(4).write.format(\"delta\").mode(\"overwrite\").option(\"mergeSchema\", \"true\").save('s3a://bronze-knmi/daggegevens')\n",
    "df_deduplicated = df.dropDuplicates()"
   ]
  },
  {
   "cell_type": "code",
   "execution_count": null,
   "id": "a23f649f",
   "metadata": {
    "papermill": {
     "duration": null,
     "end_time": null,
     "exception": null,
     "start_time": null,
     "status": "pending"
    },
    "tags": []
   },
   "outputs": [],
   "source": [
    "from delta.tables import *\n",
    "\n",
    "deltaTable = DeltaTable.forPath(spark, \"s3a://bronze-knmi/daggegevens\")"
   ]
  },
  {
   "cell_type": "code",
   "execution_count": null,
   "id": "92d7bd5b",
   "metadata": {
    "papermill": {
     "duration": null,
     "end_time": null,
     "exception": null,
     "start_time": null,
     "status": "pending"
    },
    "tags": []
   },
   "outputs": [],
   "source": [
    "deltaTable.alias('knmi_bronze_daggegevens') \\\n",
    "  .merge(\n",
    "    df_deduplicated.alias('new_data'),\n",
    "    'knmi_bronze_daggegevens.STN = new_data.STN AND knmi_bronze_daggegevens.YYYYMMDD = new_data.YYYYMMDD'\n",
    "  ) \\\n",
    "  .whenNotMatchedInsertAll() \\\n",
    "  .execute()"
   ]
  },
  {
   "cell_type": "code",
   "execution_count": null,
   "id": "e9fb9add",
   "metadata": {
    "papermill": {
     "duration": null,
     "end_time": null,
     "exception": null,
     "start_time": null,
     "status": "pending"
    },
    "tags": []
   },
   "outputs": [],
   "source": [
    "spark.sql('''\n",
    "\n",
    "select STN, YYYYMMDD, load_datetime from daggegevens where YYYYMMDD = '20220101' order by STN\n",
    "\n",
    "''').show(100)"
   ]
  },
  {
   "cell_type": "code",
   "execution_count": null,
   "id": "acf5bb87",
   "metadata": {
    "papermill": {
     "duration": null,
     "end_time": null,
     "exception": null,
     "start_time": null,
     "status": "pending"
    },
    "tags": []
   },
   "outputs": [],
   "source": []
  }
 ],
 "metadata": {
  "kernelspec": {
   "display_name": "Python 3 (ipykernel)",
   "language": "python",
   "name": "python3"
  },
  "language_info": {
   "codemirror_mode": {
    "name": "ipython",
    "version": 3
   },
   "file_extension": ".py",
   "mimetype": "text/x-python",
   "name": "python",
   "nbconvert_exporter": "python",
   "pygments_lexer": "ipython3",
   "version": "3.9.7"
  },
  "papermill": {
   "default_parameters": {},
   "duration": 1.371851,
   "end_time": "2022-12-21T21:01:41.621356",
   "environment_variables": {},
   "exception": true,
   "input_path": "knmi_daggegevens_to_bronze.ipynb",
   "output_path": "test.ipynb",
   "parameters": {},
   "start_time": "2022-12-21T21:01:40.249505",
   "version": "2.4.0"
  }
 },
 "nbformat": 4,
 "nbformat_minor": 5
}
