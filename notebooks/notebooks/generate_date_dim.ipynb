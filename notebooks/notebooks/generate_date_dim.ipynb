{
 "cells": [
  {
   "cell_type": "code",
   "execution_count": 1,
   "id": "11b227d5",
   "metadata": {},
   "outputs": [
    {
     "name": "stderr",
     "output_type": "stream",
     "text": [
      "WARNING: An illegal reflective access operation has occurred\n",
      "WARNING: Illegal reflective access by org.apache.spark.unsafe.Platform (file:/usr/local/spark-3.1.2-bin-hadoop3.2/jars/spark-unsafe_2.12-3.1.2.jar) to constructor java.nio.DirectByteBuffer(long,int)\n",
      "WARNING: Please consider reporting this to the maintainers of org.apache.spark.unsafe.Platform\n",
      "WARNING: Use --illegal-access=warn to enable warnings of further illegal reflective access operations\n",
      "WARNING: All illegal access operations will be denied in a future release\n",
      "22/08/06 07:09:21 WARN NativeCodeLoader: Unable to load native-hadoop library for your platform... using builtin-java classes where applicable\n",
      "Using Spark's default log4j profile: org/apache/spark/log4j-defaults.properties\n",
      "Setting default log level to \"WARN\".\n",
      "To adjust logging level use sc.setLogLevel(newLevel). For SparkR, use setLogLevel(newLevel).\n"
     ]
    }
   ],
   "source": [
    "import os\n",
    "from datetime import date, timedelta\n",
    "\n",
    "from pyspark import SparkContext, SparkConf, SQLContext\n",
    "from pyspark.sql import SparkSession \n",
    "from pyspark.sql.types import StructType, StructField, IntegerType, StringType, DateType\n",
    "from pyspark.sql.functions import col, max, to_date, expr\n",
    "\n",
    "from delta.tables import DeltaTable\n",
    "\n",
    "conf = (\n",
    "    SparkConf()\n",
    "    .setAppName(\"Spark minIO Test\")\n",
    "    .set(\"spark.hadoop.fs.s3a.endpoint\", \"http://192.168.86.192:9000\")\n",
    "    .set(\"spark.hadoop.fs.s3a.access.key\", os.getenv('MINIO_ROOT_USER'))\n",
    "    .set(\"spark.hadoop.fs.s3a.secret.key\", os.getenv('MINIO_ROOT_PASSWORD'))\n",
    "    .set(\"spark.hadoop.fs.s3a.path.style.access\", True)\n",
    "    .set(\"spark.hadoop.fs.s3a.impl\", \"org.apache.hadoop.fs.s3a.S3AFileSystem\")\n",
    "    .set(\"spark.driver.memory\", \"8g\")\n",
    "    .set(\"spark.executor.memory\", \"8g\")\n",
    "    .set(\"spark.delta.logStore.class\", \"org.apache.spark.sql.delta.storage.S3SingleDriverLogStore\") \n",
    "    .set(\"spark.sql.extensions\", \"io.delta.sql.DeltaSparkSessionExtension\") \n",
    "    .set(\"spark.sql.catalog.spark_catalog\", \"org.apache.spark.sql.delta.catalog.DeltaCatalog\")\n",
    "    .set('spark.sql.catalog.spark_catalog.type', 'hive')\n",
    "    .set(\"spark.sql.catalog.spark_catalog.uri \", \"thrift://192.168.86.192:9083\")\n",
    "    .set(\"spark.sql.catalog.spark_catalog.warehouse \", \"s3a://warehouse\")\n",
    "    .set(\"spark.sql.catalog.spark_catalog.s3.endpoint\", \"http://192.168.86.192:9000\")  \n",
    "\n",
    "#    .set(\"spark.sql.catalog.warehouse\", \"org.apache.spark.sql.delta.catalog.DeltaCatalog\")\n",
    "    \n",
    "    #added to test hive\n",
    "#    .set(\"spark.sql.defaultCatalog\", \"warehouse\")\n",
    "#     .set('spark.sql.catalog.warehouse.type', 'hive')\n",
    "#     .set(\"spark.sql.catalog.warehouse.uri \", \"thrift://192.168.86.192:9083\")\n",
    "#     .set(\"spark.sql.catalog.warehouse.warehouse \", \"s3a://warehouse\")\n",
    "#     .set(\"spark.sql.catalog.warehouse.s3.endpoint\", \"http://192.168.86.192:9000\")      \n",
    "    \n",
    "\n",
    "\n",
    "\n",
    ")\n",
    "sc = SparkContext(conf=conf).getOrCreate()\n",
    "spark = SparkSession(sc).builder.enableHiveSupport().getOrCreate()"
   ]
  },
  {
   "cell_type": "markdown",
   "id": "42b194b6",
   "metadata": {},
   "source": [
    "## Define date range"
   ]
  },
  {
   "cell_type": "code",
   "execution_count": 2,
   "id": "33f4ab8a",
   "metadata": {},
   "outputs": [],
   "source": [
    "start_date = date(1900, 1, 1)\n",
    "end_date = date(2100, 2, 1)"
   ]
  },
  {
   "cell_type": "code",
   "execution_count": 3,
   "id": "15ef22ff",
   "metadata": {},
   "outputs": [],
   "source": [
    "def get_is_leap_year(year: int):\n",
    "    if year % 400 == 0 or (year % 4 == 0 and not (year % 100 == 0)):\n",
    "        return 1\n",
    "    else:\n",
    "        return 0"
   ]
  },
  {
   "cell_type": "code",
   "execution_count": 4,
   "id": "e52f7c4a",
   "metadata": {},
   "outputs": [],
   "source": [
    "days_of_week=[\"dummy\", \"Monday\",\"Tuesday\",\"Wednesday\",\"Thursday\",\"Friday\",\"Saturday\",\"Sunday\"]\n",
    "months=['dummy', 'January', 'February', 'March', 'April', 'May', 'June', 'July', 'August', 'September', 'October', 'November', 'December']\n",
    "month_abbrs = ['dummy', 'Jan', 'Feb', 'Mar', 'Apr', 'May', 'Jun', 'Jul', 'Aug', 'Sep', 'Oct', 'Nov', 'Dec']\n",
    "date_series = []\n",
    "for day in range((end_date - start_date).days):\n",
    "    sql_date = start_date + timedelta(days=day)\n",
    "    day_of_week_number = sql_date.isocalendar()[2]\n",
    "    day_of_week = days_of_week[day_of_week_number]\n",
    "    is_week_day = 1 if day_of_week_number < 6 else 0\n",
    "    day_of_month = sql_date.day\n",
    "    week = sql_date.isocalendar()[1]\n",
    "    month_number = sql_date.month\n",
    "    month_abbr = month_abbrs[month_number]\n",
    "    month = months[month_number]\n",
    "    year = sql_date.year\n",
    "    is_leap_year = get_is_leap_year(year)\n",
    "    \n",
    "    row = [sql_date, day_of_week_number, day_of_week, is_week_day, day_of_month, week, month_number, month_abbr, month, year, is_leap_year]\n",
    "    date_series.append(row)\n",
    "    "
   ]
  },
  {
   "cell_type": "code",
   "execution_count": 5,
   "id": "840105e7",
   "metadata": {},
   "outputs": [],
   "source": [
    "from pyspark.sql.types import StructType, StructField, IntegerType, StringType, DateType\n",
    "schema = (\n",
    "            StructType([\n",
    "                StructField(\"date\", DateType(), True),\n",
    "                StructField(\"day_of_week_number\", IntegerType(), True),\n",
    "                StructField(\"day_of_week\", StringType(), True),\n",
    "                StructField(\"is_weekday\", IntegerType(), True),\n",
    "                StructField(\"day_of_month\", IntegerType(), True),\n",
    "                StructField(\"week\", IntegerType(), True),\n",
    "                StructField(\"month_number\", IntegerType(), True),\n",
    "                StructField(\"month_abbr\", StringType(), True),\n",
    "                StructField(\"month\", StringType(), True),\n",
    "                StructField(\"year\", IntegerType(), True),\n",
    "                StructField(\"is_leap_year\", IntegerType(), True)\n",
    "            ])\n",
    ")"
   ]
  },
  {
   "cell_type": "code",
   "execution_count": 6,
   "id": "5bc2fb3a",
   "metadata": {},
   "outputs": [
    {
     "name": "stderr",
     "output_type": "stream",
     "text": [
      "\r",
      "[Stage 0:>                                                          (0 + 1) / 1]\r"
     ]
    },
    {
     "name": "stdout",
     "output_type": "stream",
     "text": [
      "+----------+------------------+-----------+----------+------------+----+------------+----------+-------+----+------------+\n",
      "|      date|day_of_week_number|day_of_week|is_weekday|day_of_month|week|month_number|month_abbr|  month|year|is_leap_year|\n",
      "+----------+------------------+-----------+----------+------------+----+------------+----------+-------+----+------------+\n",
      "|1900-01-01|                 1|     Monday|         1|           1|   1|           1|       Jan|January|1900|           0|\n",
      "|1900-01-02|                 2|    Tuesday|         1|           2|   1|           1|       Jan|January|1900|           0|\n",
      "|1900-01-03|                 3|  Wednesday|         1|           3|   1|           1|       Jan|January|1900|           0|\n",
      "|1900-01-04|                 4|   Thursday|         1|           4|   1|           1|       Jan|January|1900|           0|\n",
      "|1900-01-05|                 5|     Friday|         1|           5|   1|           1|       Jan|January|1900|           0|\n",
      "|1900-01-06|                 6|   Saturday|         0|           6|   1|           1|       Jan|January|1900|           0|\n",
      "|1900-01-07|                 7|     Sunday|         0|           7|   1|           1|       Jan|January|1900|           0|\n",
      "|1900-01-08|                 1|     Monday|         1|           8|   2|           1|       Jan|January|1900|           0|\n",
      "|1900-01-09|                 2|    Tuesday|         1|           9|   2|           1|       Jan|January|1900|           0|\n",
      "|1900-01-10|                 3|  Wednesday|         1|          10|   2|           1|       Jan|January|1900|           0|\n",
      "|1900-01-11|                 4|   Thursday|         1|          11|   2|           1|       Jan|January|1900|           0|\n",
      "|1900-01-12|                 5|     Friday|         1|          12|   2|           1|       Jan|January|1900|           0|\n",
      "|1900-01-13|                 6|   Saturday|         0|          13|   2|           1|       Jan|January|1900|           0|\n",
      "|1900-01-14|                 7|     Sunday|         0|          14|   2|           1|       Jan|January|1900|           0|\n",
      "|1900-01-15|                 1|     Monday|         1|          15|   3|           1|       Jan|January|1900|           0|\n",
      "|1900-01-16|                 2|    Tuesday|         1|          16|   3|           1|       Jan|January|1900|           0|\n",
      "|1900-01-17|                 3|  Wednesday|         1|          17|   3|           1|       Jan|January|1900|           0|\n",
      "|1900-01-18|                 4|   Thursday|         1|          18|   3|           1|       Jan|January|1900|           0|\n",
      "|1900-01-19|                 5|     Friday|         1|          19|   3|           1|       Jan|January|1900|           0|\n",
      "|1900-01-20|                 6|   Saturday|         0|          20|   3|           1|       Jan|January|1900|           0|\n",
      "+----------+------------------+-----------+----------+------------+----+------------+----------+-------+----+------------+\n",
      "only showing top 20 rows\n",
      "\n"
     ]
    },
    {
     "name": "stderr",
     "output_type": "stream",
     "text": [
      "\r",
      "                                                                                \r"
     ]
    }
   ],
   "source": [
    "df = spark.createDataFrame(date_series, schema=schema)\n",
    "df.show()"
   ]
  },
  {
   "cell_type": "code",
   "execution_count": 7,
   "id": "53418e00",
   "metadata": {},
   "outputs": [
    {
     "name": "stderr",
     "output_type": "stream",
     "text": [
      "22/08/06 07:09:34 WARN MetricsConfig: Cannot locate configuration: tried hadoop-metrics2-s3a-file-system.properties,hadoop-metrics2.properties\n",
      "                                                                                \r"
     ]
    }
   ],
   "source": [
    "df.write.format(\"delta\").mode(\"overwrite\").save(\"s3a://silver-generated/dim_date\")"
   ]
  },
  {
   "cell_type": "code",
   "execution_count": 10,
   "id": "277ade8a",
   "metadata": {},
   "outputs": [
    {
     "data": {
      "text/plain": [
       "DataFrame[]"
      ]
     },
     "execution_count": 10,
     "metadata": {},
     "output_type": "execute_result"
    }
   ],
   "source": [
    "spark.sql(\n",
    "'''\n",
    "CREATE TABLE date\n",
    "USING DELTA\n",
    "LOCATION 's3a://silver-generated/dim_date';\n",
    "'''\n",
    ")\n"
   ]
  },
  {
   "cell_type": "code",
   "execution_count": 11,
   "id": "ee13244c",
   "metadata": {},
   "outputs": [
    {
     "name": "stdout",
     "output_type": "stream",
     "text": [
      "+--------+---------+-----------+\n",
      "|database|tableName|isTemporary|\n",
      "+--------+---------+-----------+\n",
      "| default|     date|      false|\n",
      "+--------+---------+-----------+\n",
      "\n"
     ]
    }
   ],
   "source": [
    "spark.sql('''SHOW TABLES''').show()"
   ]
  },
  {
   "cell_type": "code",
   "execution_count": null,
   "id": "3e269e2b",
   "metadata": {},
   "outputs": [],
   "source": []
  }
 ],
 "metadata": {
  "kernelspec": {
   "display_name": "Python 3 (ipykernel)",
   "language": "python",
   "name": "python3"
  },
  "language_info": {
   "codemirror_mode": {
    "name": "ipython",
    "version": 3
   },
   "file_extension": ".py",
   "mimetype": "text/x-python",
   "name": "python",
   "nbconvert_exporter": "python",
   "pygments_lexer": "ipython3",
   "version": "3.9.7"
  }
 },
 "nbformat": 4,
 "nbformat_minor": 5
}
