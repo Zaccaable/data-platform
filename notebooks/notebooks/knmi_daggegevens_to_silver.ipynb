{
 "cells": [
  {
   "cell_type": "markdown",
   "id": "ef3312b3",
   "metadata": {},
   "source": [
    "# Initiate spark"
   ]
  },
  {
   "cell_type": "code",
   "execution_count": 1,
   "id": "ed6b75e9",
   "metadata": {},
   "outputs": [
    {
     "name": "stderr",
     "output_type": "stream",
     "text": [
      "WARNING: An illegal reflective access operation has occurred\n",
      "WARNING: Illegal reflective access by org.apache.spark.unsafe.Platform (file:/usr/local/spark-3.1.2-bin-hadoop3.2/jars/spark-unsafe_2.12-3.1.2.jar) to constructor java.nio.DirectByteBuffer(long,int)\n",
      "WARNING: Please consider reporting this to the maintainers of org.apache.spark.unsafe.Platform\n",
      "WARNING: Use --illegal-access=warn to enable warnings of further illegal reflective access operations\n",
      "WARNING: All illegal access operations will be denied in a future release\n",
      "21/08/25 21:44:24 WARN NativeCodeLoader: Unable to load native-hadoop library for your platform... using builtin-java classes where applicable\n",
      "Using Spark's default log4j profile: org/apache/spark/log4j-defaults.properties\n",
      "Setting default log level to \"WARN\".\n",
      "To adjust logging level use sc.setLogLevel(newLevel). For SparkR, use setLogLevel(newLevel).\n"
     ]
    }
   ],
   "source": [
    "import os\n",
    "\n",
    "from pyspark import SparkContext, SparkConf, SQLContext\n",
    "from pyspark.sql import SparkSession \n",
    "from pyspark.sql.types import StructType, StructField, IntegerType, StringType\n",
    "from pyspark.sql.functions import col, max, to_date, expr\n",
    "\n",
    "from delta.tables import DeltaTable\n",
    "\n",
    "conf = (\n",
    "    SparkConf()\n",
    "    .setAppName(\"Spark minIO Test\")\n",
    "    .set(\"spark.hadoop.fs.s3a.endpoint\", \"http://192.168.86.192:9000\")\n",
    "    .set(\"spark.hadoop.fs.s3a.access.key\", os.getenv('MINIO_ROOT_USER'))\n",
    "    .set(\"spark.hadoop.fs.s3a.secret.key\", os.getenv('MINIO_ROOT_PASSWORD'))\n",
    "    .set(\"spark.hadoop.fs.s3a.path.style.access\", True)\n",
    "    .set(\"spark.hadoop.fs.s3a.impl\", \"org.apache.hadoop.fs.s3a.S3AFileSystem\")\n",
    "    .set(\"spark.driver.memory\", \"8g\")\n",
    "    .set(\"spark.executor.memory\", \"8g\")\n",
    "    .set(\"spark.delta.logStore.class\", \"org.apache.spark.sql.delta.storage.S3SingleDriverLogStore\") \n",
    "    .set(\"spark.sql.extensions\", \"io.delta.sql.DeltaSparkSessionExtension\") \n",
    "    .set(\"spark.sql.catalog.spark_catalog\", \"org.apache.spark.sql.delta.catalog.DeltaCatalog\") \n",
    ")\n",
    "sc = SparkContext(conf=conf).getOrCreate()\n",
    "spark = SparkSession(sc).builder.getOrCreate()"
   ]
  },
  {
   "cell_type": "markdown",
   "id": "abfdc2b4",
   "metadata": {},
   "source": [
    "### Determine the last load dat to silver"
   ]
  },
  {
   "cell_type": "code",
   "execution_count": 13,
   "id": "e451d2cf",
   "metadata": {},
   "outputs": [
    {
     "name": "stderr",
     "output_type": "stream",
     "text": [
      "\r",
      "[Stage 8:====>                                                    (1 + 12) / 13]\r"
     ]
    },
    {
     "name": "stdout",
     "output_type": "stream",
     "text": [
      "2021-08-20 07:55:59.056056\n"
     ]
    },
    {
     "name": "stderr",
     "output_type": "stream",
     "text": [
      "\r",
      "[Stage 8:======================>                                   (5 + 8) / 13]\r",
      "\r",
      "                                                                                \r"
     ]
    }
   ],
   "source": [
    "last_load_datetime = spark.read.format('delta').load('s3a://silver-knmi/daggegevens').select(max(\"load_datetime\")).collect()[0][\"max(load_datetime)\"]\n",
    "print(last_load_datetime)"
   ]
  },
  {
   "cell_type": "markdown",
   "id": "9439ffd2",
   "metadata": {},
   "source": [
    "### Read data from the bronze table"
   ]
  },
  {
   "cell_type": "code",
   "execution_count": 2,
   "id": "fe41bd53",
   "metadata": {},
   "outputs": [
    {
     "name": "stderr",
     "output_type": "stream",
     "text": [
      "21/08/25 21:16:29 WARN MetricsConfig: Cannot locate configuration: tried hadoop-metrics2-s3a-file-system.properties,hadoop-metrics2.properties\n",
      "[Stage 5:====================================================>(1376 + 1) / 1377]\r"
     ]
    },
    {
     "name": "stdout",
     "output_type": "stream",
     "text": [
      "+--------+\n",
      "|YYYYMMDD|\n",
      "+--------+\n",
      "|20081003|\n",
      "|20010514|\n",
      "|20150729|\n",
      "|20160429|\n",
      "|20160615|\n",
      "|20080619|\n",
      "|20040924|\n",
      "|20110717|\n",
      "|20100315|\n",
      "|20200218|\n",
      "|20180424|\n",
      "|20020910|\n",
      "|20040322|\n",
      "|20180516|\n",
      "|20030430|\n",
      "|20021015|\n",
      "|20130410|\n",
      "|20020228|\n",
      "|20100823|\n",
      "|20210202|\n",
      "+--------+\n",
      "only showing top 20 rows\n",
      "\n"
     ]
    },
    {
     "name": "stderr",
     "output_type": "stream",
     "text": [
      "\r",
      "                                                                                \r"
     ]
    }
   ],
   "source": [
    "df = spark.read.format('delta').load('s3a://bronze-knmi/daggegevens') #.filter(col(\"load_datetime\") > last_load_datetime)\n",
    "df.select(\"YYYYMMDD\").distinct().show(5)"
   ]
  },
  {
   "cell_type": "markdown",
   "id": "842bce63",
   "metadata": {},
   "source": [
    "### Transform and rename the columns"
   ]
  },
  {
   "cell_type": "code",
   "execution_count": 4,
   "id": "5b4e7823",
   "metadata": {},
   "outputs": [
    {
     "name": "stderr",
     "output_type": "stream",
     "text": [
      "21/08/25 21:24:46 WARN package: Truncated the string representation of a plan since it was too large. This behavior can be adjusted by setting 'spark.sql.debug.maxToStringFields'.\n"
     ]
    },
    {
     "name": "stdout",
     "output_type": "stream",
     "text": [
      "+--------------------+----------+-------------------------------------+------------------------------------------+-----------------------------------------+----------------------------------+-------------------------+----------------------------------+-------------------------+---------------------------------+------------------------+----------------------+-------------------+-------------------------------+-------------------+-------------------------------+-----------------------------+-----------------------------------------+--------------------------+-----------------------------------+-----------------------------+-------------------------------+-------------------------------+------------------------------------+-----------------------------------+-----------------------------+----------------------------+---------------------------------+----------------------------+---------------------------------+-----------------------+------------------------------+-----------------------+------------------------------+---------------------------------+-------------+----------------+----------------------------+----------------+----------------------------+----------------------------------+--------------------+\n",
      "|weather_station_code|      date|vector_mean_wind_direction_in_degrees|vector_mean_windspeed_in_meters_per_second|daily_mean_windspeed_in_meters_per_second|max_windspeed_in_meters_per_second|max_windspeed_hour_of_day|min_windspeed_in_meters_per_second|min_windspeed_hour_of_day|max_windgust_in_meters_per_second|max_windgust_hour_of_day|daily_mean_temperature|minimum_temperature|minimum_temperature_hour_of_day|maximum_temperature|maximum_temperature_hour_of_day|max_temp_at_10cm_above_ground|max_temp_at_10cm_above_ground_hour_of_day|sunshine_duration_in_hours|percentage_of_max_sumshine_duration|global_radiation_in_J_per_cm2|precipitation_duration_in_hours|daily_precipitaion_amount_in_mm|max_hourly_precipitaion_amount_in_mm|max_hourly_precipitaion_hour_of_day|mean_sealevel_pressure_in_hPa|max_sealevel_pressure_in_hPa|max_sealevel_pressure_hour_of_day|min_sealevel_pressure_in_hPa|min_sealevel_pressure_hour_of_day|minimum_visibility_in_m|minimum_visibility_hour_of_day|maximum_visibility_in_m|maximum_visibility_hour_of_day|mean_daily_cloud_cover_in_octants|mean_humidity|maximim_humidity|maximum_humidity_hour_of_day|minimum_humidity|minimum_humidity_hour_of_day|potential_evapotranspiration_in_mm|       load_datetime|\n",
      "+--------------------+----------+-------------------------------------+------------------------------------------+-----------------------------------------+----------------------------------+-------------------------+----------------------------------+-------------------------+---------------------------------+------------------------+----------------------+-------------------+-------------------------------+-------------------+-------------------------------+-----------------------------+-----------------------------------------+--------------------------+-----------------------------------+-----------------------------+-------------------------------+-------------------------------+------------------------------------+-----------------------------------+-----------------------------+----------------------------+---------------------------------+----------------------------+---------------------------------+-----------------------+------------------------------+-----------------------+------------------------------+---------------------------------+-------------+----------------+----------------------------+----------------+----------------------------+----------------------------------+--------------------+\n",
      "|                 286|1999-11-18|                                  265|                                       3.9|                                      5.0|                               8.0|                        1|                               2.0|                       23|                             16.0|                       1|                   1.2|                0.0|                             17|                3.0|                              1|                         -0.1|                                       18|                       1.8|                                 21|                          201|                            7.1|                            2.7|                                 0.5|                                  9|                         null|                        null|                                 |                        null|                                 |                   null|                              |                   null|                              |                                 |           95|              98|                           4|             8.9|                           1|                               0.2|2021-08-20 07:55:...|\n",
      "|                 331|1999-11-18|                                  295|                                       6.1|                                      7.3|                              10.0|                        3|                               5.0|                       20|                             18.0|                      14|                  null|               null|                               |               null|                               |                         null|                                         |                      null|                                   |                             |                           null|                           null|                                null|                                   |                         null|                        null|                                 |                        null|                                 |                   null|                              |                   null|                              |                                 |             |                |                            |            null|                            |                              null|2021-08-20 07:55:...|\n",
      "|                 235|1999-11-18|                                  338|                                       5.1|                                      5.9|                               9.0|                       11|                               2.0|                       15|                             16.0|                       2|                   4.5|                2.1|                              4|                6.1|                             10|                          1.6|                                        6|                       0.7|                                  8|                          102|                            7.6|                           10.5|                                 1.7|                                 11|                       1002.3|                      1006.0|                                1|                       998.9|                               14|                 5600.0|                            10|                 8300.0|                            20|                                5|           83|              95|                           4|             6.6|                           6|                               0.1|2021-08-20 07:55:...|\n",
      "|                 240|1999-11-18|                                  326|                                       3.2|                                      3.8|                               8.0|                        5|                               2.0|                        6|                             19.0|                      12|                   3.2|                0.6|                             24|                7.5|                             12|                         -0.6|                                       24|                       1.9|                                 22|                          225|                            7.1|                            7.7|                                 1.6|                                  3|                       1003.2|                      1007.7|                                1|                      1000.1|                               14|                 5000.0|                             5|                 8300.0|                             6|                                6|           86|              94|                          24|             7.2|                          11|                               0.3|2021-08-20 07:55:...|\n",
      "|                 380|1999-11-18|                                  243|                                       5.1|                                      5.3|                               8.0|                        7|                               3.0|                       22|                             12.0|                       7|                   1.7|                0.4|                              3|                3.2|                             15|                          0.3|                                        6|                       1.5|                                 17|                          192|                            2.5|                            1.2|                                 0.6|                                  3|                       1005.1|                      1011.0|                                1|                      1001.7|                               15|                 3200.0|                             3|                 8300.0|                            16|                                7|           93|             100|                           3|             8.3|                           7|                               0.2|2021-08-20 07:55:...|\n",
      "+--------------------+----------+-------------------------------------+------------------------------------------+-----------------------------------------+----------------------------------+-------------------------+----------------------------------+-------------------------+---------------------------------+------------------------+----------------------+-------------------+-------------------------------+-------------------+-------------------------------+-----------------------------+-----------------------------------------+--------------------------+-----------------------------------+-----------------------------+-------------------------------+-------------------------------+------------------------------------+-----------------------------------+-----------------------------+----------------------------+---------------------------------+----------------------------+---------------------------------+-----------------------+------------------------------+-----------------------+------------------------------+---------------------------------+-------------+----------------+----------------------------+----------------+----------------------------+----------------------------------+--------------------+\n",
      "only showing top 5 rows\n",
      "\n"
     ]
    }
   ],
   "source": [
    "from pyspark.sql.functions import trim\n",
    "silver_df = df.select(trim(col('STN')).alias('weather_station_code'),\n",
    "                      to_date(col('YYYYMMDD'), 'yyyyMMdd').alias('date'),\n",
    "                      col('DDVEC').cast(\"integer\").alias(\"vector_mean_wind_direction_in_degrees\"),\n",
    "                      expr('FHVEC / 10').alias(\"vector_mean_windspeed_in_meters_per_second\"),\n",
    "                      expr('FG / 10').alias(\"daily_mean_windspeed_in_meters_per_second\"),\n",
    "                      expr('FHX / 10').alias(\"max_windspeed_in_meters_per_second\"),\n",
    "                      col('FHXH').alias(\"max_windspeed_hour_of_day\"),\n",
    "                      expr('FHN / 10').alias(\"min_windspeed_in_meters_per_second\"),\n",
    "                      expr('FHNH').alias(\"min_windspeed_hour_of_day\"),\n",
    "                      expr('FXX / 10').alias(\"max_windgust_in_meters_per_second\"),\n",
    "                      col('FXXH').alias(\"max_windgust_hour_of_day\"),\n",
    "                      expr('TG / 10').alias(\"daily_mean_temperature\"),\n",
    "                      expr('TN / 10').alias(\"minimum_temperature\"),\n",
    "                      col('TNH').alias(\"minimum_temperature_hour_of_day\"),\n",
    "                      expr('TX / 10').alias(\"maximum_temperature\"),\n",
    "                      col('TXH').alias(\"maximum_temperature_hour_of_day\"),\n",
    "                      expr('T10N / 10').alias(\"max_temp_at_10cm_above_ground\"),\n",
    "                      col('T10NH').alias(\"max_temp_at_10cm_above_ground_hour_of_day\"),\n",
    "                      expr('SQ / 10').alias(\"sunshine_duration_in_hours\"),\n",
    "                      expr('SP').alias(\"percentage_of_max_sumshine_duration\"),\n",
    "                      expr('Q').alias(\"global_radiation_in_J_per_cm2\"),\n",
    "                      expr('DR / 10').alias(\"precipitation_duration_in_hours\"),\n",
    "                      expr('RH / 10').alias(\"daily_precipitaion_amount_in_mm\"),\n",
    "                      expr('RHX / 10').alias(\"max_hourly_precipitaion_amount_in_mm\"),\n",
    "                      col('RHXH').alias(\"max_hourly_precipitaion_hour_of_day\"),\n",
    "                      expr('PG / 10').alias(\"mean_sealevel_pressure_in_hPa\"),\n",
    "                      expr('PX / 10').alias(\"max_sealevel_pressure_in_hPa\"),\n",
    "                      col('PXH').alias(\"max_sealevel_pressure_hour_of_day\"),\n",
    "                      expr('PN / 10').alias(\"min_sealevel_pressure_in_hPa\"),\n",
    "                      col('PNH').alias(\"min_sealevel_pressure_hour_of_day\"),\n",
    "                      expr('VVN * 100').alias(\"minimum_visibility_in_m\"),\n",
    "                      col('VVNH').alias(\"minimum_visibility_hour_of_day\"),\n",
    "                      expr('VVX * 100 + 100').alias(\"maximum_visibility_in_m\"),\n",
    "                      col('VVXH').alias(\"maximum_visibility_hour_of_day\"),\n",
    "                      expr('NG').alias(\"mean_daily_cloud_cover_in_octants\"),\n",
    "                      expr('UG').alias(\"mean_humidity\"),\n",
    "                      expr('UX').alias(\"maximim_humidity\"),\n",
    "                      col('UXH').alias(\"maximum_humidity_hour_of_day\"),\n",
    "                      expr('UN / 10').alias(\"minimum_humidity\"),\n",
    "                      col('UNH').alias(\"minimum_humidity_hour_of_day\"),\n",
    "                      expr('EV24 / 10').alias(\"potential_evapotranspiration_in_mm\"),\n",
    "                      col(\"load_datetime\")\n",
    "            ).coalesce(16)\n",
    "silver_df.show(5)"
   ]
  },
  {
   "cell_type": "code",
   "execution_count": 3,
   "id": "c15d3d7f",
   "metadata": {},
   "outputs": [
    {
     "name": "stderr",
     "output_type": "stream",
     "text": [
      "21/08/25 21:44:46 WARN MetricsConfig: Cannot locate configuration: tried hadoop-metrics2-s3a-file-system.properties,hadoop-metrics2.properties\n",
      "                                                                                \r"
     ]
    },
    {
     "name": "stdout",
     "output_type": "stream",
     "text": [
      "++\n",
      "||\n",
      "++\n",
      "++\n",
      "\n"
     ]
    }
   ],
   "source": [
    "spark.sql(\"\"\"\n",
    "create table if not exists silver_knmi_daggegevens\n",
    "using delta \n",
    "location 's3a://silver-knmi/daggegevens'\n",
    "\"\"\").show()"
   ]
  },
  {
   "cell_type": "code",
   "execution_count": 10,
   "id": "fc8004e5",
   "metadata": {},
   "outputs": [
    {
     "name": "stdout",
     "output_type": "stream",
     "text": [
      "+--------------------+---------+-------+\n",
      "|            col_name|data_type|comment|\n",
      "+--------------------+---------+-------+\n",
      "|weather_station_code|   string|       |\n",
      "|                date|     date|       |\n",
      "|vector_mean_wind_...|      int|       |\n",
      "|vector_mean_winds...|   double|       |\n",
      "|daily_mean_windsp...|   double|       |\n",
      "|max_windspeed_in_...|   double|       |\n",
      "|max_windspeed_hou...|   string|       |\n",
      "|min_windspeed_in_...|   double|       |\n",
      "|min_windspeed_hou...|   string|       |\n",
      "|max_windgust_in_m...|   double|       |\n",
      "|max_windgust_hour...|   string|       |\n",
      "|daily_mean_temper...|   double|       |\n",
      "| minimum_temperature|   double|       |\n",
      "|minimum_temperatu...|   string|       |\n",
      "| maximum_temperature|   double|       |\n",
      "|maximum_temperatu...|   string|       |\n",
      "|max_temp_at_10cm_...|   double|       |\n",
      "|max_temp_at_10cm_...|   string|       |\n",
      "|sunshine_duration...|   double|       |\n",
      "|percentage_of_max...|   string|       |\n",
      "+--------------------+---------+-------+\n",
      "only showing top 20 rows\n",
      "\n"
     ]
    }
   ],
   "source": [
    "spark.sql(\"\"\"\n",
    "DESCRIBE silver_knmi_daggegevens\n",
    "\"\"\").show()"
   ]
  },
  {
   "cell_type": "markdown",
   "id": "3a658fbe",
   "metadata": {},
   "source": [
    "### Write to the silver table"
   ]
  },
  {
   "cell_type": "code",
   "execution_count": 5,
   "id": "8d3fd578",
   "metadata": {},
   "outputs": [
    {
     "name": "stdout",
     "output_type": "stream",
     "text": [
      "Merging the data\n"
     ]
    },
    {
     "name": "stderr",
     "output_type": "stream",
     "text": [
      "[Stage 18:>                                                       (0 + 16) / 16]\r"
     ]
    },
    {
     "ename": "KeyboardInterrupt",
     "evalue": "",
     "output_type": "error",
     "traceback": [
      "\u001b[0;31m---------------------------------------------------------------------------\u001b[0m",
      "\u001b[0;31mKeyboardInterrupt\u001b[0m                         Traceback (most recent call last)",
      "\u001b[0;32m/tmp/ipykernel_1961/2359187502.py\u001b[0m in \u001b[0;36m<module>\u001b[0;34m\u001b[0m\n\u001b[1;32m      6\u001b[0m     \u001b[0msilver_knmi_daggegevens_table\u001b[0m \u001b[0;34m=\u001b[0m \u001b[0mDeltaTable\u001b[0m\u001b[0;34m.\u001b[0m\u001b[0mforPath\u001b[0m\u001b[0;34m(\u001b[0m\u001b[0mspark\u001b[0m\u001b[0;34m,\u001b[0m \u001b[0;34m's3a://silver-knmi/daggegevens'\u001b[0m\u001b[0;34m)\u001b[0m\u001b[0;34m\u001b[0m\u001b[0;34m\u001b[0m\u001b[0m\n\u001b[1;32m      7\u001b[0m \u001b[0;34m\u001b[0m\u001b[0m\n\u001b[0;32m----> 8\u001b[0;31m     \u001b[0msilver_knmi_daggegevens_table\u001b[0m\u001b[0;34m.\u001b[0m\u001b[0malias\u001b[0m\u001b[0;34m(\u001b[0m\u001b[0;34m\"current_data\"\u001b[0m\u001b[0;34m)\u001b[0m\u001b[0;31m \u001b[0m\u001b[0;31m\\\u001b[0m\u001b[0;34m\u001b[0m\u001b[0;34m\u001b[0m\u001b[0m\n\u001b[0m\u001b[1;32m      9\u001b[0m       .merge(\n\u001b[1;32m     10\u001b[0m         \u001b[0msilver_df\u001b[0m\u001b[0;34m.\u001b[0m\u001b[0malias\u001b[0m\u001b[0;34m(\u001b[0m\u001b[0;34m\"new_data\"\u001b[0m\u001b[0;34m)\u001b[0m\u001b[0;34m,\u001b[0m\u001b[0;34m\u001b[0m\u001b[0;34m\u001b[0m\u001b[0m\n",
      "\u001b[0;32m/opt/conda/lib/python3.9/site-packages/delta/tables.py\u001b[0m in \u001b[0;36mexecute\u001b[0;34m(self)\u001b[0m\n\u001b[1;32m    687\u001b[0m         \u001b[0mSee\u001b[0m \u001b[0;34m:\u001b[0m\u001b[0mpy\u001b[0m\u001b[0;34m:\u001b[0m\u001b[0;32mclass\u001b[0m\u001b[0;34m:\u001b[0m\u001b[0;31m`\u001b[0m\u001b[0;34m~\u001b[0m\u001b[0mdelta\u001b[0m\u001b[0;34m.\u001b[0m\u001b[0mtables\u001b[0m\u001b[0;34m.\u001b[0m\u001b[0mDeltaMergeBuilder\u001b[0m\u001b[0;31m`\u001b[0m \u001b[0;32mfor\u001b[0m \u001b[0mcomplete\u001b[0m \u001b[0musage\u001b[0m \u001b[0mdetails\u001b[0m\u001b[0;34m.\u001b[0m\u001b[0;34m\u001b[0m\u001b[0;34m\u001b[0m\u001b[0m\n\u001b[1;32m    688\u001b[0m         \"\"\"\n\u001b[0;32m--> 689\u001b[0;31m         \u001b[0mself\u001b[0m\u001b[0;34m.\u001b[0m\u001b[0m_jbuilder\u001b[0m\u001b[0;34m.\u001b[0m\u001b[0mexecute\u001b[0m\u001b[0;34m(\u001b[0m\u001b[0;34m)\u001b[0m\u001b[0;34m\u001b[0m\u001b[0;34m\u001b[0m\u001b[0m\n\u001b[0m\u001b[1;32m    690\u001b[0m \u001b[0;34m\u001b[0m\u001b[0m\n\u001b[1;32m    691\u001b[0m     \u001b[0;32mdef\u001b[0m \u001b[0m__getMatchedBuilder\u001b[0m\u001b[0;34m(\u001b[0m\u001b[0mself\u001b[0m\u001b[0;34m,\u001b[0m \u001b[0mcondition\u001b[0m\u001b[0;34m=\u001b[0m\u001b[0;32mNone\u001b[0m\u001b[0;34m)\u001b[0m\u001b[0;34m:\u001b[0m\u001b[0;34m\u001b[0m\u001b[0;34m\u001b[0m\u001b[0m\n",
      "\u001b[0;32m/usr/local/spark/python/lib/py4j-0.10.9-src.zip/py4j/java_gateway.py\u001b[0m in \u001b[0;36m__call__\u001b[0;34m(self, *args)\u001b[0m\n\u001b[1;32m   1301\u001b[0m             \u001b[0mproto\u001b[0m\u001b[0;34m.\u001b[0m\u001b[0mEND_COMMAND_PART\u001b[0m\u001b[0;34m\u001b[0m\u001b[0;34m\u001b[0m\u001b[0m\n\u001b[1;32m   1302\u001b[0m \u001b[0;34m\u001b[0m\u001b[0m\n\u001b[0;32m-> 1303\u001b[0;31m         \u001b[0manswer\u001b[0m \u001b[0;34m=\u001b[0m \u001b[0mself\u001b[0m\u001b[0;34m.\u001b[0m\u001b[0mgateway_client\u001b[0m\u001b[0;34m.\u001b[0m\u001b[0msend_command\u001b[0m\u001b[0;34m(\u001b[0m\u001b[0mcommand\u001b[0m\u001b[0;34m)\u001b[0m\u001b[0;34m\u001b[0m\u001b[0;34m\u001b[0m\u001b[0m\n\u001b[0m\u001b[1;32m   1304\u001b[0m         return_value = get_return_value(\n\u001b[1;32m   1305\u001b[0m             answer, self.gateway_client, self.target_id, self.name)\n",
      "\u001b[0;32m/usr/local/spark/python/lib/py4j-0.10.9-src.zip/py4j/java_gateway.py\u001b[0m in \u001b[0;36msend_command\u001b[0;34m(self, command, retry, binary)\u001b[0m\n\u001b[1;32m   1031\u001b[0m         \u001b[0mconnection\u001b[0m \u001b[0;34m=\u001b[0m \u001b[0mself\u001b[0m\u001b[0;34m.\u001b[0m\u001b[0m_get_connection\u001b[0m\u001b[0;34m(\u001b[0m\u001b[0;34m)\u001b[0m\u001b[0;34m\u001b[0m\u001b[0;34m\u001b[0m\u001b[0m\n\u001b[1;32m   1032\u001b[0m         \u001b[0;32mtry\u001b[0m\u001b[0;34m:\u001b[0m\u001b[0;34m\u001b[0m\u001b[0;34m\u001b[0m\u001b[0m\n\u001b[0;32m-> 1033\u001b[0;31m             \u001b[0mresponse\u001b[0m \u001b[0;34m=\u001b[0m \u001b[0mconnection\u001b[0m\u001b[0;34m.\u001b[0m\u001b[0msend_command\u001b[0m\u001b[0;34m(\u001b[0m\u001b[0mcommand\u001b[0m\u001b[0;34m)\u001b[0m\u001b[0;34m\u001b[0m\u001b[0;34m\u001b[0m\u001b[0m\n\u001b[0m\u001b[1;32m   1034\u001b[0m             \u001b[0;32mif\u001b[0m \u001b[0mbinary\u001b[0m\u001b[0;34m:\u001b[0m\u001b[0;34m\u001b[0m\u001b[0;34m\u001b[0m\u001b[0m\n\u001b[1;32m   1035\u001b[0m                 \u001b[0;32mreturn\u001b[0m \u001b[0mresponse\u001b[0m\u001b[0;34m,\u001b[0m \u001b[0mself\u001b[0m\u001b[0;34m.\u001b[0m\u001b[0m_create_connection_guard\u001b[0m\u001b[0;34m(\u001b[0m\u001b[0mconnection\u001b[0m\u001b[0;34m)\u001b[0m\u001b[0;34m\u001b[0m\u001b[0;34m\u001b[0m\u001b[0m\n",
      "\u001b[0;32m/usr/local/spark/python/lib/py4j-0.10.9-src.zip/py4j/java_gateway.py\u001b[0m in \u001b[0;36msend_command\u001b[0;34m(self, command)\u001b[0m\n\u001b[1;32m   1198\u001b[0m \u001b[0;34m\u001b[0m\u001b[0m\n\u001b[1;32m   1199\u001b[0m         \u001b[0;32mtry\u001b[0m\u001b[0;34m:\u001b[0m\u001b[0;34m\u001b[0m\u001b[0;34m\u001b[0m\u001b[0m\n\u001b[0;32m-> 1200\u001b[0;31m             \u001b[0manswer\u001b[0m \u001b[0;34m=\u001b[0m \u001b[0msmart_decode\u001b[0m\u001b[0;34m(\u001b[0m\u001b[0mself\u001b[0m\u001b[0;34m.\u001b[0m\u001b[0mstream\u001b[0m\u001b[0;34m.\u001b[0m\u001b[0mreadline\u001b[0m\u001b[0;34m(\u001b[0m\u001b[0;34m)\u001b[0m\u001b[0;34m[\u001b[0m\u001b[0;34m:\u001b[0m\u001b[0;34m-\u001b[0m\u001b[0;36m1\u001b[0m\u001b[0;34m]\u001b[0m\u001b[0;34m)\u001b[0m\u001b[0;34m\u001b[0m\u001b[0;34m\u001b[0m\u001b[0m\n\u001b[0m\u001b[1;32m   1201\u001b[0m             \u001b[0mlogger\u001b[0m\u001b[0;34m.\u001b[0m\u001b[0mdebug\u001b[0m\u001b[0;34m(\u001b[0m\u001b[0;34m\"Answer received: {0}\"\u001b[0m\u001b[0;34m.\u001b[0m\u001b[0mformat\u001b[0m\u001b[0;34m(\u001b[0m\u001b[0manswer\u001b[0m\u001b[0;34m)\u001b[0m\u001b[0;34m)\u001b[0m\u001b[0;34m\u001b[0m\u001b[0;34m\u001b[0m\u001b[0m\n\u001b[1;32m   1202\u001b[0m             \u001b[0;32mif\u001b[0m \u001b[0manswer\u001b[0m\u001b[0;34m.\u001b[0m\u001b[0mstartswith\u001b[0m\u001b[0;34m(\u001b[0m\u001b[0mproto\u001b[0m\u001b[0;34m.\u001b[0m\u001b[0mRETURN_MESSAGE\u001b[0m\u001b[0;34m)\u001b[0m\u001b[0;34m:\u001b[0m\u001b[0;34m\u001b[0m\u001b[0;34m\u001b[0m\u001b[0m\n",
      "\u001b[0;32m/opt/conda/lib/python3.9/socket.py\u001b[0m in \u001b[0;36mreadinto\u001b[0;34m(self, b)\u001b[0m\n\u001b[1;32m    702\u001b[0m         \u001b[0;32mwhile\u001b[0m \u001b[0;32mTrue\u001b[0m\u001b[0;34m:\u001b[0m\u001b[0;34m\u001b[0m\u001b[0;34m\u001b[0m\u001b[0m\n\u001b[1;32m    703\u001b[0m             \u001b[0;32mtry\u001b[0m\u001b[0;34m:\u001b[0m\u001b[0;34m\u001b[0m\u001b[0;34m\u001b[0m\u001b[0m\n\u001b[0;32m--> 704\u001b[0;31m                 \u001b[0;32mreturn\u001b[0m \u001b[0mself\u001b[0m\u001b[0;34m.\u001b[0m\u001b[0m_sock\u001b[0m\u001b[0;34m.\u001b[0m\u001b[0mrecv_into\u001b[0m\u001b[0;34m(\u001b[0m\u001b[0mb\u001b[0m\u001b[0;34m)\u001b[0m\u001b[0;34m\u001b[0m\u001b[0;34m\u001b[0m\u001b[0m\n\u001b[0m\u001b[1;32m    705\u001b[0m             \u001b[0;32mexcept\u001b[0m \u001b[0mtimeout\u001b[0m\u001b[0;34m:\u001b[0m\u001b[0;34m\u001b[0m\u001b[0;34m\u001b[0m\u001b[0m\n\u001b[1;32m    706\u001b[0m                 \u001b[0mself\u001b[0m\u001b[0;34m.\u001b[0m\u001b[0m_timeout_occurred\u001b[0m \u001b[0;34m=\u001b[0m \u001b[0;32mTrue\u001b[0m\u001b[0;34m\u001b[0m\u001b[0;34m\u001b[0m\u001b[0m\n",
      "\u001b[0;31mKeyboardInterrupt\u001b[0m: "
     ]
    }
   ],
   "source": [
    "if not DeltaTable.isDeltaTable(spark, 's3a://silver-knmi/daggegevens'):\n",
    "    print(\"Not a delta table, write the full df\")\n",
    "    silver_df.write.format(\"delta\").save('s3a://silver-knmi/daggegevens')\n",
    "else:\n",
    "    print(\"Merging the data\")\n",
    "    silver_knmi_daggegevens_table = DeltaTable.forPath(spark, 's3a://silver-knmi/daggegevens')\n",
    "    \n",
    "    silver_knmi_daggegevens_table.alias(\"current_data\") \\\n",
    "      .merge(\n",
    "        silver_df.alias(\"new_data\"),\n",
    "        \"\"\"\n",
    "        current_data.weather_station_code = new_data.weather_station_code\n",
    "        and\n",
    "        current_data.date = new_data.date\n",
    "        \"\"\").whenNotMatchedInsertAll().execute()"
   ]
  },
  {
   "cell_type": "code",
   "execution_count": 7,
   "id": "f990e325",
   "metadata": {},
   "outputs": [
    {
     "name": "stderr",
     "output_type": "stream",
     "text": [
      "\r",
      "[Stage 18:>                                                       (0 + 16) / 16]\r"
     ]
    }
   ],
   "source": [
    "silver_df.createOrReplaceTempView(\"silver_df\")"
   ]
  },
  {
   "cell_type": "code",
   "execution_count": 10,
   "id": "f254e3d4",
   "metadata": {},
   "outputs": [
    {
     "name": "stderr",
     "output_type": "stream",
     "text": [
      "                                                                                \r"
     ]
    },
    {
     "name": "stdout",
     "output_type": "stream",
     "text": [
      "++\n",
      "||\n",
      "++\n",
      "++\n",
      "\n"
     ]
    }
   ],
   "source": [
    "spark.sql(\"\"\"\n",
    "update silver_knmi_daggegevens\n",
    "set weather_station_code = trim(weather_station_code)\n",
    "\"\"\")"
   ]
  },
  {
   "cell_type": "code",
   "execution_count": 4,
   "id": "441866b2",
   "metadata": {},
   "outputs": [
    {
     "name": "stderr",
     "output_type": "stream",
     "text": [
      "\r",
      "[Stage 5:>                                                        (0 + 12) / 12]\r"
     ]
    },
    {
     "name": "stdout",
     "output_type": "stream",
     "text": [
      "+--------------------+----------------------------+\n",
      "|weather_station_code|length(weather_station_code)|\n",
      "+--------------------+----------------------------+\n",
      "|                 209|                           3|\n",
      "|                 210|                           3|\n",
      "|                 215|                           3|\n",
      "|                 225|                           3|\n",
      "|                 235|                           3|\n",
      "|                 240|                           3|\n",
      "|                 242|                           3|\n",
      "|                 248|                           3|\n",
      "|                 249|                           3|\n",
      "|                 251|                           3|\n",
      "|                 257|                           3|\n",
      "|                 258|                           3|\n",
      "|                 260|                           3|\n",
      "|                 265|                           3|\n",
      "|                 267|                           3|\n",
      "|                 269|                           3|\n",
      "|                 270|                           3|\n",
      "|                 273|                           3|\n",
      "|                 275|                           3|\n",
      "|                 277|                           3|\n",
      "+--------------------+----------------------------+\n",
      "only showing top 20 rows\n",
      "\n"
     ]
    },
    {
     "name": "stderr",
     "output_type": "stream",
     "text": [
      "\r",
      "                                                                                \r"
     ]
    }
   ],
   "source": [
    "spark.sql(\"\"\"\n",
    "select distinct weather_station_code, length(weather_station_code)\n",
    "from silver_knmi_daggegevens\n",
    "order by  weather_station_code\n",
    "\"\"\").show()"
   ]
  },
  {
   "cell_type": "code",
   "execution_count": null,
   "id": "1dc93c88",
   "metadata": {},
   "outputs": [],
   "source": []
  }
 ],
 "metadata": {
  "kernelspec": {
   "display_name": "Python 3 (ipykernel)",
   "language": "python",
   "name": "python3"
  },
  "language_info": {
   "codemirror_mode": {
    "name": "ipython",
    "version": 3
   },
   "file_extension": ".py",
   "mimetype": "text/x-python",
   "name": "python",
   "nbconvert_exporter": "python",
   "pygments_lexer": "ipython3",
   "version": "3.9.6"
  }
 },
 "nbformat": 4,
 "nbformat_minor": 5
}
