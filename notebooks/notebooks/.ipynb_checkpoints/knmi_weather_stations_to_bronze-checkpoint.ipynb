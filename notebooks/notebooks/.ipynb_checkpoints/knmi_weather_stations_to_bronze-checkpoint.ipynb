{
 "cells": [
  {
   "cell_type": "code",
   "execution_count": 20,
   "id": "694eec1a",
   "metadata": {},
   "outputs": [
    {
     "ename": "ValueError",
     "evalue": "Cannot run multiple SparkContexts at once; existing SparkContext(app=Spark minIO Test, master=local[*]) created by __init__ at /tmp/ipykernel_446/3269140975.py:25 ",
     "output_type": "error",
     "traceback": [
      "\u001b[0;31m---------------------------------------------------------------------------\u001b[0m",
      "\u001b[0;31mValueError\u001b[0m                                Traceback (most recent call last)",
      "\u001b[0;32m/tmp/ipykernel_446/3269140975.py\u001b[0m in \u001b[0;36m<module>\u001b[0;34m\u001b[0m\n\u001b[1;32m     23\u001b[0m     \u001b[0;34m.\u001b[0m\u001b[0mset\u001b[0m\u001b[0;34m(\u001b[0m\u001b[0;34m\"spark.sql.catalog.spark_catalog\"\u001b[0m\u001b[0;34m,\u001b[0m \u001b[0;34m\"org.apache.spark.sql.delta.catalog.DeltaCatalog\"\u001b[0m\u001b[0;34m)\u001b[0m\u001b[0;34m\u001b[0m\u001b[0;34m\u001b[0m\u001b[0m\n\u001b[1;32m     24\u001b[0m )\n\u001b[0;32m---> 25\u001b[0;31m \u001b[0msc\u001b[0m \u001b[0;34m=\u001b[0m \u001b[0mSparkContext\u001b[0m\u001b[0;34m(\u001b[0m\u001b[0mconf\u001b[0m\u001b[0;34m=\u001b[0m\u001b[0mconf\u001b[0m\u001b[0;34m)\u001b[0m\u001b[0;34m.\u001b[0m\u001b[0mgetOrCreate\u001b[0m\u001b[0;34m(\u001b[0m\u001b[0;34m)\u001b[0m\u001b[0;34m\u001b[0m\u001b[0;34m\u001b[0m\u001b[0m\n\u001b[0m\u001b[1;32m     26\u001b[0m \u001b[0mspark\u001b[0m \u001b[0;34m=\u001b[0m \u001b[0mSparkSession\u001b[0m\u001b[0;34m(\u001b[0m\u001b[0msc\u001b[0m\u001b[0;34m)\u001b[0m\u001b[0;34m.\u001b[0m\u001b[0mbuilder\u001b[0m\u001b[0;34m.\u001b[0m\u001b[0mgetOrCreate\u001b[0m\u001b[0;34m(\u001b[0m\u001b[0;34m)\u001b[0m\u001b[0;34m\u001b[0m\u001b[0;34m\u001b[0m\u001b[0m\n",
      "\u001b[0;32m/usr/local/spark/python/pyspark/context.py\u001b[0m in \u001b[0;36m__init__\u001b[0;34m(self, master, appName, sparkHome, pyFiles, environment, batchSize, serializer, conf, gateway, jsc, profiler_cls)\u001b[0m\n\u001b[1;32m    142\u001b[0m                 \" is not allowed as it is a security risk.\")\n\u001b[1;32m    143\u001b[0m \u001b[0;34m\u001b[0m\u001b[0m\n\u001b[0;32m--> 144\u001b[0;31m         \u001b[0mSparkContext\u001b[0m\u001b[0;34m.\u001b[0m\u001b[0m_ensure_initialized\u001b[0m\u001b[0;34m(\u001b[0m\u001b[0mself\u001b[0m\u001b[0;34m,\u001b[0m \u001b[0mgateway\u001b[0m\u001b[0;34m=\u001b[0m\u001b[0mgateway\u001b[0m\u001b[0;34m,\u001b[0m \u001b[0mconf\u001b[0m\u001b[0;34m=\u001b[0m\u001b[0mconf\u001b[0m\u001b[0;34m)\u001b[0m\u001b[0;34m\u001b[0m\u001b[0;34m\u001b[0m\u001b[0m\n\u001b[0m\u001b[1;32m    145\u001b[0m         \u001b[0;32mtry\u001b[0m\u001b[0;34m:\u001b[0m\u001b[0;34m\u001b[0m\u001b[0;34m\u001b[0m\u001b[0m\n\u001b[1;32m    146\u001b[0m             self._do_init(master, appName, sparkHome, pyFiles, environment, batchSize, serializer,\n",
      "\u001b[0;32m/usr/local/spark/python/pyspark/context.py\u001b[0m in \u001b[0;36m_ensure_initialized\u001b[0;34m(cls, instance, gateway, conf)\u001b[0m\n\u001b[1;32m    340\u001b[0m \u001b[0;34m\u001b[0m\u001b[0m\n\u001b[1;32m    341\u001b[0m                     \u001b[0;31m# Raise error if there is already a running Spark context\u001b[0m\u001b[0;34m\u001b[0m\u001b[0;34m\u001b[0m\u001b[0;34m\u001b[0m\u001b[0m\n\u001b[0;32m--> 342\u001b[0;31m                     raise ValueError(\n\u001b[0m\u001b[1;32m    343\u001b[0m                         \u001b[0;34m\"Cannot run multiple SparkContexts at once; \"\u001b[0m\u001b[0;34m\u001b[0m\u001b[0;34m\u001b[0m\u001b[0m\n\u001b[1;32m    344\u001b[0m                         \u001b[0;34m\"existing SparkContext(app=%s, master=%s)\"\u001b[0m\u001b[0;34m\u001b[0m\u001b[0;34m\u001b[0m\u001b[0m\n",
      "\u001b[0;31mValueError\u001b[0m: Cannot run multiple SparkContexts at once; existing SparkContext(app=Spark minIO Test, master=local[*]) created by __init__ at /tmp/ipykernel_446/3269140975.py:25 "
     ]
    }
   ],
   "source": [
    "import os\n",
    "import re\n",
    "\n",
    "from pyspark import SparkContext, SparkConf, SQLContext\n",
    "from pyspark.sql import SparkSession \n",
    "from pyspark.sql.types import StructType, StructField, IntegerType, StringType\n",
    "from pyspark.sql.functions import col, current_timestamp\n",
    "\n",
    "from delta.tables import DeltaTable\n",
    "\n",
    "conf = (\n",
    "    SparkConf()\n",
    "    .setAppName(\"Spark minIO Test\")\n",
    "    .set(\"spark.hadoop.fs.s3a.endpoint\", \"http://192.168.86.192:9000\")\n",
    "    .set(\"spark.hadoop.fs.s3a.access.key\", os.getenv('MINIO_ROOT_USER'))\n",
    "    .set(\"spark.hadoop.fs.s3a.secret.key\", os.getenv('MINIO_ROOT_PASSWORD'))\n",
    "    .set(\"spark.hadoop.fs.s3a.path.style.access\", True)\n",
    "    .set(\"spark.hadoop.fs.s3a.impl\", \"org.apache.hadoop.fs.s3a.S3AFileSystem\")\n",
    "    .set(\"spark.driver.memory\", \"8g\")\n",
    "    .set(\"spark.executor.memory\", \"8g\")\n",
    "    .set(\"spark.delta.logStore.class\", \"org.apache.spark.sql.delta.storage.S3SingleDriverLogStore\") \n",
    "    .set(\"spark.sql.extensions\", \"io.delta.sql.DeltaSparkSessionExtension\") \n",
    "    .set(\"spark.sql.catalog.spark_catalog\", \"org.apache.spark.sql.delta.catalog.DeltaCatalog\") \n",
    ")\n",
    "sc = SparkContext(conf=conf).getOrCreate()\n",
    "spark = SparkSession(sc).builder.getOrCreate()"
   ]
  },
  {
   "cell_type": "code",
   "execution_count": 21,
   "id": "be233fa4",
   "metadata": {},
   "outputs": [],
   "source": [
    "weather_stations_file = sc.textFile('s3a://landing-knmi/weather_stations/*')"
   ]
  },
  {
   "cell_type": "code",
   "execution_count": 22,
   "id": "0d43deac",
   "metadata": {},
   "outputs": [
    {
     "data": {
      "text/plain": [
       "['# Opmerking: door stationsverplaatsingen en veranderingen in waarneemmethodieken zijn deze tijdreeksen van uurwaarden mogelijk inhomogeen! Dat betekent dat deze reeks van gemeten waarden niet geschikt is voor trendanalyse. Voor studies naar klimaatverandering verwijzen we naar de gehomogeniseerde dagreeksen <http://www.knmi.nl/nederland-nu/klimatologie/daggegevens> of de Centraal Nederland Temperatuur <http://www.knmi.nl/kennis-en-datacentrum/achtergrond/centraal-nederland-temperatuur-cnt>.',\n",
       " '# ',\n",
       " '# SOURCE: ROYAL NETHERLANDS METEOROLOGICAL INSTITUTE (KNMI)',\n",
       " '# Comment: These time series are inhomogeneous because of station relocations and changes in observation techniques. As a result these series are not suitable for trend analysis. For climate change studies we refer to the homogenized series of daily data <http://www.knmi.nl/nederland-nu/klimatologie/daggegevens> or the Central Netherlands Temperature <http://www.knmi.nl/kennis-en-datacentrum/achtergrond/centraal-nederland-temperatuur-cnt>.',\n",
       " '# ',\n",
       " '# STN         LON(east)   LAT(north)  ALT(m)      NAME',\n",
       " '# 209         4.518       52.465      0.00        IJmond      ',\n",
       " '# 210         4.430       52.171      -0.20       Valkenburg Zh',\n",
       " '# 215         4.437       52.141      -1.10       Voorschoten ',\n",
       " '# 225         4.555       52.463      4.40        IJmuiden    ']"
      ]
     },
     "execution_count": 22,
     "metadata": {},
     "output_type": "execute_result"
    }
   ],
   "source": [
    "weather_stations_file.take(10)"
   ]
  },
  {
   "cell_type": "code",
   "execution_count": 23,
   "id": "557e5bcb",
   "metadata": {},
   "outputs": [],
   "source": [
    "weather_stations = (weather_stations_file\n",
    "                        .filter(lambda x: x.startswith('# STN         ') or re.match('# \\d\\d\\d', x))\n",
    "                        .map(lambda x: x.replace('# ', ''))\n",
    "                        .map(lambda x: re.sub('\\s\\s+', ';', x.strip()))\n",
    "                        .map(lambda x: x.split(';'))\n",
    "                   )"
   ]
  },
  {
   "cell_type": "code",
   "execution_count": 24,
   "id": "26532aed",
   "metadata": {},
   "outputs": [
    {
     "data": {
      "text/plain": [
       "[['STN', 'LON(east)', 'LAT(north)', 'ALT(m)', 'NAME'],\n",
       " ['209', '4.518', '52.465', '0.00', 'IJmond'],\n",
       " ['210', '4.430', '52.171', '-0.20', 'Valkenburg Zh'],\n",
       " ['215', '4.437', '52.141', '-1.10', 'Voorschoten'],\n",
       " ['225', '4.555', '52.463', '4.40', 'IJmuiden']]"
      ]
     },
     "execution_count": 24,
     "metadata": {},
     "output_type": "execute_result"
    }
   ],
   "source": [
    "weather_stations.take(5)"
   ]
  },
  {
   "cell_type": "code",
   "execution_count": 25,
   "id": "7a88d985",
   "metadata": {},
   "outputs": [
    {
     "data": {
      "text/plain": [
       "['STN', 'LON(east)', 'LAT(north)', 'ALT(m)', 'NAME']"
      ]
     },
     "execution_count": 25,
     "metadata": {},
     "output_type": "execute_result"
    }
   ],
   "source": [
    "header = weather_stations.first()\n",
    "header"
   ]
  },
  {
   "cell_type": "code",
   "execution_count": 26,
   "id": "da91a84c",
   "metadata": {},
   "outputs": [],
   "source": [
    "data = weather_stations.filter(lambda row : row != header)"
   ]
  },
  {
   "cell_type": "code",
   "execution_count": 27,
   "id": "ea6e24f5",
   "metadata": {},
   "outputs": [
    {
     "name": "stdout",
     "output_type": "stream",
     "text": [
      "+---+---------+----------+------+------------------+\n",
      "|STN|LON(east)|LAT(north)|ALT(m)|              NAME|\n",
      "+---+---------+----------+------+------------------+\n",
      "|209|    4.518|    52.465|  0.00|            IJmond|\n",
      "|210|    4.430|    52.171| -0.20|     Valkenburg Zh|\n",
      "|215|    4.437|    52.141| -1.10|       Voorschoten|\n",
      "|225|    4.555|    52.463|  4.40|          IJmuiden|\n",
      "|235|    4.781|    52.928|  1.20|           De Kooy|\n",
      "|240|    4.790|    52.318| -3.30|          Schiphol|\n",
      "|242|    4.921|    53.241| 10.80|          Vlieland|\n",
      "|248|    5.174|    52.634|  0.80|          Wijdenes|\n",
      "|249|    4.979|    52.644| -2.40|          Berkhout|\n",
      "|251|    5.346|    53.392|  0.70|Hoorn Terschelling|\n",
      "|257|    4.603|    52.506|  8.50|      Wijk aan Zee|\n",
      "|258|    5.401|    52.649|  7.30|       Houtribdijk|\n",
      "|260|    5.180|    52.100|  1.90|           De Bilt|\n",
      "|265|    5.274|    52.130| 13.90|       Soesterberg|\n",
      "|267|    5.384|    52.898| -1.30|          Stavoren|\n",
      "|269|    5.520|    52.458| -3.70|          Lelystad|\n",
      "|270|    5.752|    53.224|  1.20|        Leeuwarden|\n",
      "|273|    5.888|    52.703| -3.30|         Marknesse|\n",
      "|275|    5.873|    52.056| 48.20|            Deelen|\n",
      "|277|    6.200|    53.413|  2.90|        Lauwersoog|\n",
      "+---+---------+----------+------+------------------+\n",
      "only showing top 20 rows\n",
      "\n"
     ]
    }
   ],
   "source": [
    "df = data.toDF(header)\n",
    "df.show(5)"
   ]
  },
  {
   "cell_type": "code",
   "execution_count": 28,
   "id": "21089ba0",
   "metadata": {},
   "outputs": [
    {
     "name": "stdout",
     "output_type": "stream",
     "text": [
      "+--------------------+---------+--------+--------+------------------+\n",
      "|weather_station_code|longitude|latitude|altitude|   weather_station|\n",
      "+--------------------+---------+--------+--------+------------------+\n",
      "|                 209|    4.518|  52.465|    0.00|            IJmond|\n",
      "|                 210|    4.430|  52.171|   -0.20|     Valkenburg Zh|\n",
      "|                 215|    4.437|  52.141|   -1.10|       Voorschoten|\n",
      "|                 225|    4.555|  52.463|    4.40|          IJmuiden|\n",
      "|                 235|    4.781|  52.928|    1.20|           De Kooy|\n",
      "|                 240|    4.790|  52.318|   -3.30|          Schiphol|\n",
      "|                 242|    4.921|  53.241|   10.80|          Vlieland|\n",
      "|                 248|    5.174|  52.634|    0.80|          Wijdenes|\n",
      "|                 249|    4.979|  52.644|   -2.40|          Berkhout|\n",
      "|                 251|    5.346|  53.392|    0.70|Hoorn Terschelling|\n",
      "|                 257|    4.603|  52.506|    8.50|      Wijk aan Zee|\n",
      "|                 258|    5.401|  52.649|    7.30|       Houtribdijk|\n",
      "|                 260|    5.180|  52.100|    1.90|           De Bilt|\n",
      "|                 265|    5.274|  52.130|   13.90|       Soesterberg|\n",
      "|                 267|    5.384|  52.898|   -1.30|          Stavoren|\n",
      "|                 269|    5.520|  52.458|   -3.70|          Lelystad|\n",
      "|                 270|    5.752|  53.224|    1.20|        Leeuwarden|\n",
      "|                 273|    5.888|  52.703|   -3.30|         Marknesse|\n",
      "|                 275|    5.873|  52.056|   48.20|            Deelen|\n",
      "|                 277|    6.200|  53.413|    2.90|        Lauwersoog|\n",
      "+--------------------+---------+--------+--------+------------------+\n",
      "only showing top 20 rows\n",
      "\n"
     ]
    }
   ],
   "source": [
    "weather_stations_df = df.select(col('STN').alias('weather_station_code')\n",
    "                               ,col('LON(east)').alias('longitude')\n",
    "                               ,col('LAT(north)').alias('latitude')\n",
    "                               ,col('ALT(m)').alias('altitude')\n",
    "                               ,col('NAME').alias('weather_station'))\n",
    "weather_stations_df.show(5)"
   ]
  },
  {
   "cell_type": "code",
   "execution_count": 29,
   "id": "49c31bb1",
   "metadata": {},
   "outputs": [],
   "source": [
    "weather_stations_df = weather_stations_df.withColumn('load_datetime', current_timestamp())"
   ]
  },
  {
   "cell_type": "code",
   "execution_count": 30,
   "id": "5cb35c6a",
   "metadata": {},
   "outputs": [
    {
     "name": "stdout",
     "output_type": "stream",
     "text": [
      "+--------------------+---------+--------+--------+------------------+--------------------+\n",
      "|weather_station_code|longitude|latitude|altitude|   weather_station|       load_datetime|\n",
      "+--------------------+---------+--------+--------+------------------+--------------------+\n",
      "|                 209|    4.518|  52.465|    0.00|            IJmond|2021-08-25 20:23:...|\n",
      "|                 210|    4.430|  52.171|   -0.20|     Valkenburg Zh|2021-08-25 20:23:...|\n",
      "|                 215|    4.437|  52.141|   -1.10|       Voorschoten|2021-08-25 20:23:...|\n",
      "|                 225|    4.555|  52.463|    4.40|          IJmuiden|2021-08-25 20:23:...|\n",
      "|                 235|    4.781|  52.928|    1.20|           De Kooy|2021-08-25 20:23:...|\n",
      "|                 240|    4.790|  52.318|   -3.30|          Schiphol|2021-08-25 20:23:...|\n",
      "|                 242|    4.921|  53.241|   10.80|          Vlieland|2021-08-25 20:23:...|\n",
      "|                 248|    5.174|  52.634|    0.80|          Wijdenes|2021-08-25 20:23:...|\n",
      "|                 249|    4.979|  52.644|   -2.40|          Berkhout|2021-08-25 20:23:...|\n",
      "|                 251|    5.346|  53.392|    0.70|Hoorn Terschelling|2021-08-25 20:23:...|\n",
      "|                 257|    4.603|  52.506|    8.50|      Wijk aan Zee|2021-08-25 20:23:...|\n",
      "|                 258|    5.401|  52.649|    7.30|       Houtribdijk|2021-08-25 20:23:...|\n",
      "|                 260|    5.180|  52.100|    1.90|           De Bilt|2021-08-25 20:23:...|\n",
      "|                 265|    5.274|  52.130|   13.90|       Soesterberg|2021-08-25 20:23:...|\n",
      "|                 267|    5.384|  52.898|   -1.30|          Stavoren|2021-08-25 20:23:...|\n",
      "|                 269|    5.520|  52.458|   -3.70|          Lelystad|2021-08-25 20:23:...|\n",
      "|                 270|    5.752|  53.224|    1.20|        Leeuwarden|2021-08-25 20:23:...|\n",
      "|                 273|    5.888|  52.703|   -3.30|         Marknesse|2021-08-25 20:23:...|\n",
      "|                 275|    5.873|  52.056|   48.20|            Deelen|2021-08-25 20:23:...|\n",
      "|                 277|    6.200|  53.413|    2.90|        Lauwersoog|2021-08-25 20:23:...|\n",
      "+--------------------+---------+--------+--------+------------------+--------------------+\n",
      "only showing top 20 rows\n",
      "\n"
     ]
    }
   ],
   "source": [
    "weather_stations_df.show(5)"
   ]
  },
  {
   "cell_type": "code",
   "execution_count": 32,
   "id": "faf4abed",
   "metadata": {},
   "outputs": [],
   "source": [
    "if not DeltaTable.isDeltaTable(spark, 's3a://bronze-knmi/weather_stations'):\n",
    "    print(\"Not a delta table, write the full df\")\n",
    "    weather_stations_df.dropDuplicates().coalesce(1).write.format(\"delta\").mode(\"overwrite\").option(\"mergeSchema\", \"true\").save('s3a://bronze-knmi/weather_stations')\n",
    "else:\n",
    "    weather_stations_df.createOrReplaceTempView('weather_stations')\n",
    "    spark.sql(\"\"\"\n",
    "        create table if not exists bronze_knmi_weather_stations\n",
    "        using delta \n",
    "        location 's3a://bronze-knmi/weather_stations'\n",
    "        \"\"\")\n",
    "    # We don't want to update values, only insert with new load_date_time when data is changed, so we don't use a when matched\n",
    "    spark.sql(\"\"\"\n",
    "    MERGE INTO bronze_knmi_weather_stations\n",
    "    USING weather_stations\n",
    "        ON bronze_knmi_weather_stations.weather_station_code = weather_stations.weather_station_code\n",
    "        AND bronze_knmi_weather_stations.longitude = weather_stations.longitude\n",
    "        AND bronze_knmi_weather_stations.latitude = weather_stations.latitude\n",
    "        AND bronze_knmi_weather_stations.altitude = weather_stations.altitude\n",
    "        AND bronze_knmi_weather_stations.weather_station = weather_stations.weather_station\n",
    "    WHEN NOT MATCHED\n",
    "      THEN INSERT *\n",
    "    \"\"\")\n",
    "    "
   ]
  },
  {
   "cell_type": "code",
   "execution_count": null,
   "id": "df1c4831",
   "metadata": {},
   "outputs": [],
   "source": []
  }
 ],
 "metadata": {
  "kernelspec": {
   "display_name": "Python 3 (ipykernel)",
   "language": "python",
   "name": "python3"
  },
  "language_info": {
   "codemirror_mode": {
    "name": "ipython",
    "version": 3
   },
   "file_extension": ".py",
   "mimetype": "text/x-python",
   "name": "python",
   "nbconvert_exporter": "python",
   "pygments_lexer": "ipython3",
   "version": "3.9.6"
  }
 },
 "nbformat": 4,
 "nbformat_minor": 5
}
