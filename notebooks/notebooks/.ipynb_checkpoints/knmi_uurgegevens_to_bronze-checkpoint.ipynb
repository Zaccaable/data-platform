{
 "cells": [
  {
   "cell_type": "markdown",
   "id": "ef3312b3",
   "metadata": {},
   "source": [
    "# Initiate spark"
   ]
  },
  {
   "cell_type": "code",
   "execution_count": 1,
   "id": "ed6b75e9",
   "metadata": {},
   "outputs": [
    {
     "name": "stderr",
     "output_type": "stream",
     "text": [
      "WARNING: An illegal reflective access operation has occurred\n",
      "WARNING: Illegal reflective access by org.apache.spark.unsafe.Platform (file:/usr/local/spark-3.1.2-bin-hadoop3.2/jars/spark-unsafe_2.12-3.1.2.jar) to constructor java.nio.DirectByteBuffer(long,int)\n",
      "WARNING: Please consider reporting this to the maintainers of org.apache.spark.unsafe.Platform\n",
      "WARNING: Use --illegal-access=warn to enable warnings of further illegal reflective access operations\n",
      "WARNING: All illegal access operations will be denied in a future release\n",
      "21/09/06 21:07:35 WARN NativeCodeLoader: Unable to load native-hadoop library for your platform... using builtin-java classes where applicable\n",
      "Using Spark's default log4j profile: org/apache/spark/log4j-defaults.properties\n",
      "Setting default log level to \"WARN\".\n",
      "To adjust logging level use sc.setLogLevel(newLevel). For SparkR, use setLogLevel(newLevel).\n"
     ]
    }
   ],
   "source": [
    "import os\n",
    "from pyspark import SparkContext, SparkConf, SQLContext\n",
    "from pyspark.sql import SparkSession \n",
    "from pyspark.sql.types import StructType, StructField, IntegerType, StringType\n",
    "\n",
    "conf = (\n",
    "    SparkConf()\n",
    "    .setAppName(\"knmi daily weather to bronze\")\n",
    "    .set(\"spark.hadoop.fs.s3a.endpoint\", \"http://192.168.86.192:9000\")\n",
    "    .set(\"spark.hadoop.fs.s3a.access.key\", os.getenv('MINIO_ROOT_USER'))\n",
    "    .set(\"spark.hadoop.fs.s3a.secret.key\", os.getenv('MINIO_ROOT_PASSWORD'))\n",
    "    .set(\"spark.hadoop.fs.s3a.path.style.access\", True)\n",
    "    .set(\"spark.hadoop.fs.s3a.impl\", \"org.apache.hadoop.fs.s3a.S3AFileSystem\")\n",
    "    .set(\"spark.driver.memory\", \"8g\")\n",
    "    .set(\"spark.executor.memory\", \"8g\")\n",
    "    .set(\"spark.delta.logStore.class\", \"org.apache.spark.sql.delta.storage.S3SingleDriverLogStore\") \n",
    "    .set(\"spark.sql.extensions\", \"io.delta.sql.DeltaSparkSessionExtension\") \n",
    "    .set(\"spark.sql.catalog.spark_catalog\", \"org.apache.spark.sql.delta.catalog.DeltaCatalog\") \n",
    ")\n",
    "sc = SparkContext(conf=conf).getOrCreate()\n",
    "#sqlContext = SQLContext(sc)\n",
    "spark = SparkSession(sc).builder.getOrCreate()"
   ]
  },
  {
   "cell_type": "code",
   "execution_count": 2,
   "id": "2aa4083a",
   "metadata": {},
   "outputs": [],
   "source": [
    "schema = (StructType([\n",
    "    StructField(\"STN\", StringType(), True),\n",
    "    StructField(\"YYYYMMDD\", StringType(), True),\n",
    "    StructField(\"H\", StringType(), True),\n",
    "    StructField(\"DD\", StringType(), True),\n",
    "    StructField(\"FH\", StringType(), True),\n",
    "    StructField(\"FF\", StringType(), True),\n",
    "    StructField(\"FX\", StringType(), True),\n",
    "    StructField(\"T\", StringType(), True),\n",
    "    StructField(\"T10N\", StringType(), True),\n",
    "    StructField(\"TD\", StringType(), True),\n",
    "    StructField(\"SQ\", StringType(), True),\n",
    "    StructField(\"Q\", StringType(), True),\n",
    "    StructField(\"DR\", StringType(), True),\n",
    "    StructField(\"RH\", StringType(), True),\n",
    "    StructField(\"P\", StringType(), True),\n",
    "    StructField(\"VV\", StringType(), True),\n",
    "    StructField(\"N\", StringType(), True),\n",
    "    StructField(\"U\", StringType(), True),\n",
    "    StructField(\"WW\", StringType(), True),\n",
    "    StructField(\"IX\", StringType(), True),\n",
    "    StructField(\"M\", StringType(), True),\n",
    "    StructField(\"R\", StringType(), True),\n",
    "    StructField(\"S\", StringType(), True),\n",
    "    StructField(\"O\", StringType(), True),\n",
    "    StructField(\"Y\", StringType(), True)\n",
    "])\n",
    ")"
   ]
  },
  {
   "cell_type": "code",
   "execution_count": 3,
   "id": "fe41bd53",
   "metadata": {},
   "outputs": [
    {
     "name": "stderr",
     "output_type": "stream",
     "text": [
      "21/09/06 21:07:54 WARN MetricsConfig: Cannot locate configuration: tried hadoop-metrics2-s3a-file-system.properties,hadoop-metrics2.properties\n",
      "                                                                                \r"
     ]
    }
   ],
   "source": [
    "df = spark.read.csv('s3a://landing-knmi/uurgegevens/*', header=False, comment='#', schema=schema)"
   ]
  },
  {
   "cell_type": "code",
   "execution_count": 4,
   "id": "5b4e7823",
   "metadata": {},
   "outputs": [
    {
     "name": "stderr",
     "output_type": "stream",
     "text": [
      "21/09/06 21:08:17 WARN package: Truncated the string representation of a plan since it was too large. This behavior can be adjusted by setting 'spark.sql.debug.maxToStringFields'.\n"
     ]
    },
    {
     "name": "stdout",
     "output_type": "stream",
     "text": [
      "+--------------------+--------+-----+-----+-----+-----+-----+-----+-----+-----+-----+-----+-----+-----+-----+-----+-----+-----+-----+-----+-----+-----+-----+-----+-----+--------------------+\n",
      "|                 STN|YYYYMMDD|    H|   DD|   FH|   FF|   FX|    T| T10N|   TD|   SQ|    Q|   DR|   RH|    P|   VV|    N|    U|   WW|   IX|    M|    R|    S|    O|    Y|       load_datetime|\n",
      "+--------------------+--------+-----+-----+-----+-----+-----+-----+-----+-----+-----+-----+-----+-----+-----+-----+-----+-----+-----+-----+-----+-----+-----+-----+-----+--------------------+\n",
      "|# Comment: These ...|    null| null| null| null| null| null| null| null| null| null| null| null| null| null| null| null| null| null| null| null| null| null| null| null|2021-09-06 21:08:...|\n",
      "|                 209|20060214|    1|  160|   50|   60|   60|     |     |     |     |     |     |     |     |     |     |     |     |    6|     |     |     |     |     |2021-09-06 21:08:...|\n",
      "|                 209|20060214|    2|  150|   60|   60|   70|     |     |     |     |     |     |     |     |     |     |     |     |    6|     |     |     |     |     |2021-09-06 21:08:...|\n",
      "+--------------------+--------+-----+-----+-----+-----+-----+-----+-----+-----+-----+-----+-----+-----+-----+-----+-----+-----+-----+-----+-----+-----+-----+-----+-----+--------------------+\n",
      "only showing top 3 rows\n",
      "\n"
     ]
    }
   ],
   "source": [
    "from pyspark.sql.functions import current_timestamp\n",
    "df = df.withColumn('load_datetime', current_timestamp())\n",
    "df.show(3)"
   ]
  },
  {
   "cell_type": "code",
   "execution_count": 5,
   "id": "e02df170",
   "metadata": {},
   "outputs": [],
   "source": [
    "df.createOrReplaceTempView('uurgegevens')"
   ]
  },
  {
   "cell_type": "code",
   "execution_count": 7,
   "id": "8f1ff8da",
   "metadata": {},
   "outputs": [
    {
     "name": "stderr",
     "output_type": "stream",
     "text": [
      "                                                                                \r"
     ]
    }
   ],
   "source": [
    "df.distinct().coalesce(16).write.format(\"delta\").mode(\"overwrite\").option(\"mergeSchema\", \"true\").save('s3a://bronze-knmi/uurgegevens')"
   ]
  },
  {
   "cell_type": "code",
   "execution_count": 10,
   "id": "a23f649f",
   "metadata": {},
   "outputs": [
    {
     "name": "stderr",
     "output_type": "stream",
     "text": [
      "                                                                                \r"
     ]
    },
    {
     "data": {
      "text/plain": [
       "18677919"
      ]
     },
     "execution_count": 10,
     "metadata": {},
     "output_type": "execute_result"
    }
   ],
   "source": [
    "df.count()"
   ]
  },
  {
   "cell_type": "code",
   "execution_count": null,
   "id": "8fe0aa7a",
   "metadata": {},
   "outputs": [],
   "source": []
  }
 ],
 "metadata": {
  "kernelspec": {
   "display_name": "Python 3 (ipykernel)",
   "language": "python",
   "name": "python3"
  },
  "language_info": {
   "codemirror_mode": {
    "name": "ipython",
    "version": 3
   },
   "file_extension": ".py",
   "mimetype": "text/x-python",
   "name": "python",
   "nbconvert_exporter": "python",
   "pygments_lexer": "ipython3",
   "version": "3.9.7"
  }
 },
 "nbformat": 4,
 "nbformat_minor": 5
}
